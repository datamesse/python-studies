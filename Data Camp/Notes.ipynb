{
 "cells": [
  {
   "cell_type": "code",
   "execution_count": null,
   "id": "3aa54f90",
   "metadata": {},
   "outputs": [],
   "source": [
    "# This is my Jupyter Notebook for notes taken whilst taking the \"Data Scientist with Python\" certification track.\n",
    "# https://app.datacamp.com/learn/career-tracks/data-scientist-with-python"
   ]
  },
  {
   "cell_type": "code",
   "execution_count": null,
   "id": "0903003d",
   "metadata": {},
   "outputs": [
    {
     "name": "stdout",
     "output_type": "stream",
     "text": [
      "False\n",
      "False\n"
     ]
    }
   ],
   "source": [
    "# ======================\n",
    "# Introduction to Python\n",
    "# ======================\n",
    "\n",
    "# https://app.datacamp.com/learn/courses/intro-to-python-for-data-science\n",
    "\n",
    "# operators behave differently across types\n",
    "a = 5 * \"a\"\n",
    "print(a)\n",
    "\n",
    "a = 5 * 6\n",
    "print(a)\n",
    "\n",
    "# exponent e.g. 3 to power of 2\n",
    "a = 3 ** 2\n",
    "print(a)\n",
    "\n",
    "# check type()\n",
    "print(type(a))\n",
    "\n",
    "# string concatenation requires explicit type conversion\n",
    "print(\"3 to the power of 2 = \" + str(a) + \", isn't that great?\")\n",
    "\n",
    "# other type conversions: bool(), float(), int()\n",
    "\n",
    "# lists can use mixed types, and have nested lists\n",
    "a = [ [\"a\", 1], [\"b\", 2], [\"c\", 3]]\n",
    "print(a)\n",
    "\n",
    "a = [\"a\", 1, \"b\", 2, \"c\", 3]\n",
    "print(a)\n",
    "\n",
    "# SUBSET\n",
    "# 3rd element\n",
    "print(a[2])\n",
    "\n",
    "# last element\n",
    "print(a[-1])\n",
    "\n",
    "# 2nd last element\n",
    "print(a[-2])\n",
    "\n",
    "# SLICE\n",
    "# 2nd, 3rd, and 4th element\n",
    "print(a[1:4])\n",
    "\n",
    "# all elements up to 4th element\n",
    "print(a[:4])\n",
    "\n",
    "# all elements from 5th element onward\n",
    "print(a[4:])\n",
    "\n",
    "# SUBSET LISTS OF LISTS\n",
    "a = [[\"a\", \"b\", \"c\"],\n",
    "     [\"d\", \"e\", \"f\"],\n",
    "     [\"g\", \"h\", \"i\"]]\n",
    "\n",
    "# a[row][column]\n",
    "# 3rd row, 1st column = \"g\"\n",
    "print(a[2][0])\n",
    "\n",
    "#  3rd row, 1st 2 columns i.e. a, b, d, e, g, h\n",
    "print(a[2][:2])\n",
    "\n",
    "# REPLACE ELEMENTS\n",
    "a = [\"a\", \"b\", \"c\", \"d\", \"e\", \"f\"]\n",
    "# replace 3rd element c with \"z\"\n",
    "a[2] = \"x\"\n",
    "print(a)\n",
    "\n",
    "a[1:] = [\"y\", \"z\"]\n",
    "print(a)\n",
    "\n",
    "# EXTEND LIST\n",
    "b = [\"g\", \"h\", \"i\", \"j\", \"k\", \"l\"]\n",
    "a = a + b\n",
    "print(a)"
   ]
  }
 ],
 "metadata": {
  "kernelspec": {
   "display_name": "Python 3 (ipykernel)",
   "language": "python",
   "name": "python3"
  },
  "language_info": {
   "codemirror_mode": {
    "name": "ipython",
    "version": 3
   },
   "file_extension": ".py",
   "mimetype": "text/x-python",
   "name": "python",
   "nbconvert_exporter": "python",
   "pygments_lexer": "ipython3",
   "version": "3.11.0"
  }
 },
 "nbformat": 4,
 "nbformat_minor": 5
}
