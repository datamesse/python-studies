{
 "cells": [
  {
   "cell_type": "code",
   "execution_count": 1,
   "id": "3aa54f90",
   "metadata": {},
   "outputs": [],
   "source": [
    "# This is my Jupyter Notebook for notes taken whilst taking the \"Data Scientist with Python\" certification track.\n",
    "# https://app.datacamp.com/learn/career-tracks/data-scientist-with-python"
   ]
  },
  {
   "cell_type": "code",
   "execution_count": 3,
   "id": "0903003d",
   "metadata": {},
   "outputs": [
    {
     "name": "stdout",
     "output_type": "stream",
     "text": [
      "aaaaa\n"
     ]
    }
   ],
   "source": [
    "# ======================\n",
    "# Introduction to Python\n",
    "# ======================\n",
    "\n",
    "# https://app.datacamp.com/learn/courses/intro-to-python-for-data-science\n",
    "\n",
    "# operators behave differently across types\n",
    "a = 5 * \"a\"\n",
    "print(a)\n",
    "\n"
   ]
  },
  {
   "cell_type": "code",
   "execution_count": 4,
   "id": "6de26032",
   "metadata": {},
   "outputs": [
    {
     "name": "stdout",
     "output_type": "stream",
     "text": [
      "30\n"
     ]
    }
   ],
   "source": [
    "a = 5 * 6\n",
    "print(a)"
   ]
  },
  {
   "cell_type": "code",
   "execution_count": 5,
   "id": "c8fe0ea1",
   "metadata": {},
   "outputs": [
    {
     "name": "stdout",
     "output_type": "stream",
     "text": [
      "9\n"
     ]
    }
   ],
   "source": [
    "# exponent e.g. 3 to power of 2\n",
    "a = 3 ** 2\n",
    "print(a)"
   ]
  },
  {
   "cell_type": "code",
   "execution_count": 6,
   "id": "6eda41fc",
   "metadata": {},
   "outputs": [
    {
     "name": "stdout",
     "output_type": "stream",
     "text": [
      "<class 'int'>\n"
     ]
    }
   ],
   "source": [
    "# check type()\n",
    "print(type(a))"
   ]
  },
  {
   "cell_type": "code",
   "execution_count": 7,
   "id": "a3cb5c54",
   "metadata": {},
   "outputs": [
    {
     "name": "stdout",
     "output_type": "stream",
     "text": [
      "3 to the power of 2 = 9, isn't that great?\n"
     ]
    }
   ],
   "source": [
    "# string concatenation requires explicit type conversion\n",
    "print(\"3 to the power of 2 = \" + str(a) + \", isn't that great?\")\n",
    "\n",
    "# other type conversions: bool(), float(), int()"
   ]
  },
  {
   "cell_type": "code",
   "execution_count": 8,
   "id": "0efc2473",
   "metadata": {},
   "outputs": [
    {
     "name": "stdout",
     "output_type": "stream",
     "text": [
      "[['a', 1], ['b', 2], ['c', 3]]\n"
     ]
    }
   ],
   "source": [
    "# lists can use mixed types, and have nested lists\n",
    "a = [ [\"a\", 1], [\"b\", 2], [\"c\", 3]]\n",
    "print(a)"
   ]
  },
  {
   "cell_type": "code",
   "execution_count": 9,
   "id": "8552b20d",
   "metadata": {},
   "outputs": [
    {
     "name": "stdout",
     "output_type": "stream",
     "text": [
      "['a', 1, 'b', 2, 'c', 3]\n"
     ]
    }
   ],
   "source": [
    "a = [\"a\", 1, \"b\", 2, \"c\", 3]\n",
    "print(a)"
   ]
  },
  {
   "cell_type": "code",
   "execution_count": 10,
   "id": "fb16917e",
   "metadata": {},
   "outputs": [
    {
     "name": "stdout",
     "output_type": "stream",
     "text": [
      "b\n"
     ]
    }
   ],
   "source": [
    "# SUBSET\n",
    "# 3rd element\n",
    "print(a[2])"
   ]
  },
  {
   "cell_type": "code",
   "execution_count": 11,
   "id": "507bbe58",
   "metadata": {},
   "outputs": [
    {
     "name": "stdout",
     "output_type": "stream",
     "text": [
      "3\n"
     ]
    }
   ],
   "source": [
    "# last element\n",
    "print(a[-1])"
   ]
  },
  {
   "cell_type": "code",
   "execution_count": 12,
   "id": "05af5e00",
   "metadata": {},
   "outputs": [
    {
     "name": "stdout",
     "output_type": "stream",
     "text": [
      "c\n"
     ]
    }
   ],
   "source": [
    "# 2nd last element\n",
    "print(a[-2])"
   ]
  },
  {
   "cell_type": "code",
   "execution_count": 13,
   "id": "860db886",
   "metadata": {},
   "outputs": [
    {
     "name": "stdout",
     "output_type": "stream",
     "text": [
      "[1, 'b', 2]\n"
     ]
    }
   ],
   "source": [
    "# SLICE\n",
    "# 2nd, 3rd, and 4th element\n",
    "print(a[1:4])"
   ]
  },
  {
   "cell_type": "code",
   "execution_count": 14,
   "id": "1f51e06a",
   "metadata": {},
   "outputs": [
    {
     "name": "stdout",
     "output_type": "stream",
     "text": [
      "['a', 1, 'b', 2]\n"
     ]
    }
   ],
   "source": [
    "# all elements up to 4th element\n",
    "print(a[:4])"
   ]
  },
  {
   "cell_type": "code",
   "execution_count": 15,
   "id": "42ae3e61",
   "metadata": {},
   "outputs": [
    {
     "name": "stdout",
     "output_type": "stream",
     "text": [
      "['c', 3]\n"
     ]
    }
   ],
   "source": [
    "# all elements from 5th element onward\n",
    "print(a[4:])"
   ]
  },
  {
   "cell_type": "code",
   "execution_count": 16,
   "id": "29779e14",
   "metadata": {},
   "outputs": [
    {
     "name": "stdout",
     "output_type": "stream",
     "text": [
      "g\n"
     ]
    }
   ],
   "source": [
    "# SUBSET LISTS OF LISTS\n",
    "a = [[\"a\", \"b\", \"c\"],\n",
    "     [\"d\", \"e\", \"f\"],\n",
    "     [\"g\", \"h\", \"i\"]]\n",
    "\n",
    "# a[row][column]\n",
    "# 3rd row, 1st column = \"g\"\n",
    "print(a[2][0])"
   ]
  },
  {
   "cell_type": "code",
   "execution_count": 17,
   "id": "e6fbcc2e",
   "metadata": {},
   "outputs": [
    {
     "name": "stdout",
     "output_type": "stream",
     "text": [
      "['g', 'h']\n"
     ]
    }
   ],
   "source": [
    "#  3rd row, 1st 2 columns i.e. a, b, d, e, g, h\n",
    "print(a[2][:2])"
   ]
  },
  {
   "cell_type": "code",
   "execution_count": 18,
   "id": "df26b49e",
   "metadata": {},
   "outputs": [
    {
     "name": "stdout",
     "output_type": "stream",
     "text": [
      "['a', 'b', 'x', 'd', 'e', 'f']\n"
     ]
    }
   ],
   "source": [
    "# REPLACE ELEMENTS\n",
    "a = [\"a\", \"b\", \"c\", \"d\", \"e\", \"f\"]\n",
    "# replace 3rd element c with \"z\"\n",
    "a[2] = \"x\"\n",
    "print(a)"
   ]
  },
  {
   "cell_type": "code",
   "execution_count": 19,
   "id": "f518c843",
   "metadata": {},
   "outputs": [
    {
     "name": "stdout",
     "output_type": "stream",
     "text": [
      "['a', 'y', 'z']\n"
     ]
    }
   ],
   "source": [
    "a[1:] = [\"y\", \"z\"]\n",
    "print(a)"
   ]
  },
  {
   "cell_type": "code",
   "execution_count": 20,
   "id": "d6bf623d",
   "metadata": {},
   "outputs": [
    {
     "name": "stdout",
     "output_type": "stream",
     "text": [
      "['a', 'y', 'z', 'g', 'h', 'i', 'j', 'k', 'l']\n"
     ]
    }
   ],
   "source": [
    "# EXTEND LIST\n",
    "b = [\"g\", \"h\", \"i\", \"j\", \"k\", \"l\"]\n",
    "a = a + b\n",
    "print(a)"
   ]
  },
  {
   "cell_type": "code",
   "execution_count": null,
   "id": "33bf5a79",
   "metadata": {},
   "outputs": [],
   "source": []
  },
  {
   "cell_type": "code",
   "execution_count": null,
   "id": "41ae96f2",
   "metadata": {},
   "outputs": [],
   "source": []
  },
  {
   "cell_type": "code",
   "execution_count": null,
   "id": "90844660",
   "metadata": {},
   "outputs": [],
   "source": []
  }
 ],
 "metadata": {
  "kernelspec": {
   "display_name": "Python 3 (ipykernel)",
   "language": "python",
   "name": "python3"
  },
  "language_info": {
   "codemirror_mode": {
    "name": "ipython",
    "version": 3
   },
   "file_extension": ".py",
   "mimetype": "text/x-python",
   "name": "python",
   "nbconvert_exporter": "python",
   "pygments_lexer": "ipython3",
   "version": "3.11.0"
  }
 },
 "nbformat": 4,
 "nbformat_minor": 5
}
