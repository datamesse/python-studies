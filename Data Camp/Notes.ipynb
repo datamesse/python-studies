{
 "cells": [
  {
   "cell_type": "code",
   "execution_count": 1,
   "id": "3aa54f90",
   "metadata": {},
   "outputs": [],
   "source": [
    "# This is my Jupyter Notebook for notes taken whilst taking the \"Data Scientist with Python\" certification track.\n",
    "# https://app.datacamp.com/learn/career-tracks/data-scientist-with-python"
   ]
  },
  {
   "cell_type": "code",
   "execution_count": 3,
   "id": "0903003d",
   "metadata": {},
   "outputs": [
    {
     "name": "stdout",
     "output_type": "stream",
     "text": [
      "aaaaa\n"
     ]
    }
   ],
   "source": [
    "# ======================\n",
    "# Introduction to Python\n",
    "# ======================\n",
    "\n",
    "# https://app.datacamp.com/learn/courses/intro-to-python-for-data-science\n",
    "\n",
    "# operators behave differently across types\n",
    "a = 5 * \"a\"\n",
    "print(a)\n",
    "\n"
   ]
  },
  {
   "cell_type": "code",
   "execution_count": 4,
   "id": "6de26032",
   "metadata": {},
   "outputs": [
    {
     "name": "stdout",
     "output_type": "stream",
     "text": [
      "30\n"
     ]
    }
   ],
   "source": [
    "a = 5 * 6\n",
    "print(a)"
   ]
  },
  {
   "cell_type": "code",
   "execution_count": 5,
   "id": "c8fe0ea1",
   "metadata": {},
   "outputs": [
    {
     "name": "stdout",
     "output_type": "stream",
     "text": [
      "9\n"
     ]
    }
   ],
   "source": [
    "# exponent e.g. 3 to power of 2\n",
    "a = 3 ** 2\n",
    "print(a)"
   ]
  },
  {
   "cell_type": "code",
   "execution_count": 6,
   "id": "6eda41fc",
   "metadata": {},
   "outputs": [
    {
     "name": "stdout",
     "output_type": "stream",
     "text": [
      "<class 'int'>\n"
     ]
    }
   ],
   "source": [
    "# check type()\n",
    "print(type(a))"
   ]
  },
  {
   "cell_type": "code",
   "execution_count": 7,
   "id": "a3cb5c54",
   "metadata": {},
   "outputs": [
    {
     "name": "stdout",
     "output_type": "stream",
     "text": [
      "3 to the power of 2 = 9, isn't that great?\n"
     ]
    }
   ],
   "source": [
    "# string concatenation requires explicit type conversion\n",
    "print(\"3 to the power of 2 = \" + str(a) + \", isn't that great?\")\n",
    "\n",
    "# other type conversions: bool(), float(), int()"
   ]
  },
  {
   "cell_type": "code",
   "execution_count": 8,
   "id": "0efc2473",
   "metadata": {},
   "outputs": [
    {
     "name": "stdout",
     "output_type": "stream",
     "text": [
      "[['a', 1], ['b', 2], ['c', 3]]\n"
     ]
    }
   ],
   "source": [
    "# lists can use mixed types, and have nested lists\n",
    "a = [ [\"a\", 1], [\"b\", 2], [\"c\", 3]]\n",
    "print(a)"
   ]
  },
  {
   "cell_type": "code",
   "execution_count": 9,
   "id": "8552b20d",
   "metadata": {},
   "outputs": [
    {
     "name": "stdout",
     "output_type": "stream",
     "text": [
      "['a', 1, 'b', 2, 'c', 3]\n"
     ]
    }
   ],
   "source": [
    "a = [\"a\", 1, \"b\", 2, \"c\", 3]\n",
    "print(a)"
   ]
  },
  {
   "cell_type": "code",
   "execution_count": 10,
   "id": "fb16917e",
   "metadata": {},
   "outputs": [
    {
     "name": "stdout",
     "output_type": "stream",
     "text": [
      "b\n"
     ]
    }
   ],
   "source": [
    "# SUBSET\n",
    "# 3rd element\n",
    "print(a[2])"
   ]
  },
  {
   "cell_type": "code",
   "execution_count": 11,
   "id": "507bbe58",
   "metadata": {},
   "outputs": [
    {
     "name": "stdout",
     "output_type": "stream",
     "text": [
      "3\n"
     ]
    }
   ],
   "source": [
    "# last element\n",
    "print(a[-1])"
   ]
  },
  {
   "cell_type": "code",
   "execution_count": 12,
   "id": "05af5e00",
   "metadata": {},
   "outputs": [
    {
     "name": "stdout",
     "output_type": "stream",
     "text": [
      "c\n"
     ]
    }
   ],
   "source": [
    "# 2nd last element\n",
    "print(a[-2])"
   ]
  },
  {
   "cell_type": "code",
   "execution_count": 13,
   "id": "860db886",
   "metadata": {},
   "outputs": [
    {
     "name": "stdout",
     "output_type": "stream",
     "text": [
      "[1, 'b', 2]\n"
     ]
    }
   ],
   "source": [
    "# SLICE\n",
    "# 2nd, 3rd, and 4th element\n",
    "print(a[1:4])"
   ]
  },
  {
   "cell_type": "code",
   "execution_count": 14,
   "id": "1f51e06a",
   "metadata": {},
   "outputs": [
    {
     "name": "stdout",
     "output_type": "stream",
     "text": [
      "['a', 1, 'b', 2]\n"
     ]
    }
   ],
   "source": [
    "# all elements up to 4th element\n",
    "print(a[:4])"
   ]
  },
  {
   "cell_type": "code",
   "execution_count": 15,
   "id": "42ae3e61",
   "metadata": {},
   "outputs": [
    {
     "name": "stdout",
     "output_type": "stream",
     "text": [
      "['c', 3]\n"
     ]
    }
   ],
   "source": [
    "# all elements from 5th element onward\n",
    "print(a[4:])"
   ]
  },
  {
   "cell_type": "code",
   "execution_count": 16,
   "id": "29779e14",
   "metadata": {},
   "outputs": [
    {
     "name": "stdout",
     "output_type": "stream",
     "text": [
      "g\n"
     ]
    }
   ],
   "source": [
    "# SUBSET LISTS OF LISTS\n",
    "a = [[\"a\", \"b\", \"c\"],\n",
    "     [\"d\", \"e\", \"f\"],\n",
    "     [\"g\", \"h\", \"i\"]]\n",
    "\n",
    "# a[row][column]\n",
    "# 3rd row, 1st column = \"g\"\n",
    "print(a[2][0])"
   ]
  },
  {
   "cell_type": "code",
   "execution_count": 17,
   "id": "e6fbcc2e",
   "metadata": {},
   "outputs": [
    {
     "name": "stdout",
     "output_type": "stream",
     "text": [
      "['g', 'h']\n"
     ]
    }
   ],
   "source": [
    "#  3rd row, 1st 2 columns i.e. a, b, d, e, g, h\n",
    "print(a[2][:2])"
   ]
  },
  {
   "cell_type": "code",
   "execution_count": 18,
   "id": "df26b49e",
   "metadata": {},
   "outputs": [
    {
     "name": "stdout",
     "output_type": "stream",
     "text": [
      "['a', 'b', 'x', 'd', 'e', 'f']\n"
     ]
    }
   ],
   "source": [
    "# REPLACE ELEMENTS\n",
    "a = [\"a\", \"b\", \"c\", \"d\", \"e\", \"f\"]\n",
    "# replace 3rd element c with \"z\"\n",
    "a[2] = \"x\"\n",
    "print(a)"
   ]
  },
  {
   "cell_type": "code",
   "execution_count": 19,
   "id": "f518c843",
   "metadata": {},
   "outputs": [
    {
     "name": "stdout",
     "output_type": "stream",
     "text": [
      "['a', 'y', 'z']\n"
     ]
    }
   ],
   "source": [
    "a[1:] = [\"y\", \"z\"]\n",
    "print(a)"
   ]
  },
  {
   "cell_type": "code",
   "execution_count": 20,
   "id": "d6bf623d",
   "metadata": {},
   "outputs": [
    {
     "name": "stdout",
     "output_type": "stream",
     "text": [
      "['a', 'y', 'z', 'g', 'h', 'i', 'j', 'k', 'l']\n"
     ]
    }
   ],
   "source": [
    "# EXTEND LIST\n",
    "b = [\"g\", \"h\", \"i\", \"j\", \"k\", \"l\"]\n",
    "a = a + b\n",
    "print(a)"
   ]
  },
  {
   "cell_type": "code",
   "execution_count": null,
   "id": "33bf5a79",
   "metadata": {},
   "outputs": [],
   "source": [
    "# DELETE LIST ELEMENT\n",
    "# delete 2nd element\n",
    "del(a[1])\n",
    "print(a)"
   ]
  },
  {
   "cell_type": "code",
   "execution_count": null,
   "id": "41ae96f2",
   "metadata": {},
   "outputs": [],
   "source": [
    "# delete 2nd last and 3rd last elements\n",
    "del(a[-2:-4])"
   ]
  },
  {
   "cell_type": "code",
   "execution_count": null,
   "id": "90844660",
   "metadata": {},
   "outputs": [],
   "source": [
    "# PREVENT UPDATE TO REFERENCED LIST\n",
    "b = list(a)\n",
    "b[1] = \"x\"\n",
    "print(b)\n",
    "# notice only b gets updated, but not a\n",
    "print(a)"
   ]
  },
  {
   "cell_type": "code",
   "execution_count": null,
   "id": "db95735d",
   "metadata": {},
   "outputs": [],
   "source": [
    "# count elements in list\n",
    "print(len(a))"
   ]
  },
  {
   "cell_type": "code",
   "execution_count": null,
   "metadata": {},
   "outputs": [],
   "source": [
    "# HELP\n",
    "help(max)"
   ]
  },
  {
   "cell_type": "code",
   "execution_count": null,
   "id": "1b375bff",
   "metadata": {},
   "outputs": [],
   "source": [
    "help(pow)"
   ]
  },
  {
   "cell_type": "code",
   "execution_count": null,
   "id": "1581f9e5",
   "metadata": {},
   "outputs": [],
   "source": [
    "help(sorted)"
   ]
  },
  {
   "cell_type": "code",
   "execution_count": null,
   "metadata": {},
   "outputs": [],
   "source": [
    "# sorted has 3 args: iterable, key, reverse\n",
    "print(sorted(a))"
   ]
  },
  {
   "cell_type": "code",
   "execution_count": null,
   "metadata": {},
   "outputs": [],
   "source": [
    "# change function behaviours via its arguments\n",
    "b = sorted(list(a),reverse=True)\n",
    "print(b)"
   ]
  },
  {
   "cell_type": "code",
   "execution_count": null,
   "id": "7aa3e134",
   "metadata": {},
   "outputs": [],
   "source": [
    "# METHODS\n",
    "# uppercase\n",
    "a = \"dictionary\"\n",
    "print(a.upper())\n"
   ]
  },
  {
   "cell_type": "code",
   "execution_count": null,
   "id": "19886fc1",
   "metadata": {},
   "outputs": [],
   "source": [
    "# count number of times the substring appears\n",
    "print(a.count(\"i\",0))"
   ]
  },
  {
   "cell_type": "code",
   "execution_count": null,
   "id": "15180d11",
   "metadata": {},
   "outputs": [],
   "source": [
    "# LIST METHODS\n",
    "\n",
    "# index of first matching element\n",
    "a = [5, 4, 3, 2, 1, 4]\n",
    "print(a.index(4))\n"
   ]
  },
  {
   "cell_type": "code",
   "execution_count": null,
   "id": "9cc3b097",
   "metadata": {},
   "outputs": [],
   "source": [
    "# count instances of element\n",
    "print(a.count(4))"
   ]
  },
  {
   "cell_type": "code",
   "execution_count": null,
   "id": "a5937513",
   "metadata": {},
   "outputs": [],
   "source": [
    "# add elements to end of list\n",
    "a.append(3)\n",
    "a.append(2)\n",
    "print(a)"
   ]
  },
  {
   "cell_type": "code",
   "execution_count": null,
   "id": "4f1d6d86",
   "metadata": {},
   "outputs": [],
   "source": [
    "# reverse order of elements\n",
    "a.reverse()\n",
    "print(a)"
   ]
  },
  {
   "cell_type": "code",
   "execution_count": null,
   "id": "38ea586d",
   "metadata": {},
   "outputs": [],
   "source": [
    "# IMPORT PACKAGE\n",
    "\n",
    "import math as m\n",
    "radius = 7\n",
    "circumference = 2 * m.pi * radius\n",
    "print(circumference)"
   ]
  },
  {
   "cell_type": "code",
   "execution_count": null,
   "id": "265a74c9",
   "metadata": {},
   "outputs": [],
   "source": [
    "import math as m\n",
    "radius = 7\n",
    "area = m.pi * radius ** 2\n",
    "print(area)"
   ]
  },
  {
   "cell_type": "code",
   "execution_count": null,
   "id": "8b1d359a",
   "metadata": {},
   "outputs": [],
   "source": [
    "# SELECTIVE IMPORT\n",
    "from math import radians\n",
    "radius = 1234\n",
    "a = radians(12)\n",
    "b = radius * a\n",
    "print(b)\n"
   ]
  },
  {
   "cell_type": "code",
   "execution_count": null,
   "id": "9973dc51",
   "metadata": {},
   "outputs": [],
   "source": [
    "# selective import with aliased method\n",
    "from scripy.linalg import inv as alias_inv\n",
    "alias_inv([[1,2], [3,4]])"
   ]
  },
  {
   "cell_type": "code",
   "execution_count": null,
   "id": "b7173fc5",
   "metadata": {},
   "outputs": [],
   "source": [
    "# NUMPY\n",
    "\n",
    "# convert list to NumPy array\n",
    "a = [10, 15, 5, 35, 50, 10]\n",
    "print(type(a))\n",
    "import numpy as np\n",
    "np_a = np.array(a)\n",
    "print(type(np_a))"
   ]
  },
  {
   "cell_type": "code",
   "execution_count": null,
   "id": "637187b8",
   "metadata": {},
   "outputs": [],
   "source": [
    "# operators function differently between lists and NumPy array\n",
    "import numpy as np\n",
    "\n",
    "# list as a whole is muliplied and concatenated\n",
    "a = a * 2\n",
    "print(a)\n",
    "# NumPy element values are multiplied\n",
    "np_a = np_a * 2\n",
    "print(np_a)"
   ]
  },
  {
   "cell_type": "code",
   "execution_count": null,
   "id": "94bbf319",
   "metadata": {},
   "outputs": [],
   "source": [
    "# boolean test works on NumPy array, but not lists\n",
    "import numpy as np\n",
    "\n",
    "a = [10, 15, 5, 35, 50, 10]\n",
    "b = np.array(a) > 10\n",
    "print(b)"
   ]
  },
  {
   "cell_type": "code",
   "execution_count": null,
   "id": "d4bdf71c",
   "metadata": {},
   "outputs": [],
   "source": [
    "# NumPy array must contain same data types, unlike list which can have a mix\n",
    "# NumPy arrays enforce data coercion where possible\n",
    "# e.g. boolean true and false are converted to 1 and 0\n",
    "import numpy as np\n",
    "\n",
    "a = np.array([False, 1, 2]) + np.array([0, True, 2])\n",
    "print(a)"
   ]
  },
  {
   "cell_type": "code",
   "execution_count": null,
   "id": "cc3e3b03",
   "metadata": {},
   "outputs": [],
   "source": [
    "# subset NumPy array is the same as subsetting a list\n",
    "a = [5, 10, 15, 20, 25, 30]\n",
    "print(a[2:5])\n",
    "\n",
    "import numpy as np\n",
    "b = np.array(a)\n",
    "print(b[2:5])"
   ]
  },
  {
   "cell_type": "code",
   "execution_count": null,
   "id": "a260e4e2",
   "metadata": {},
   "outputs": [],
   "source": [
    "# check dimensions a.k.a. shape of NumPy array\n",
    "a = [[10, 20],\n",
    "     [30, 40],\n",
    "     [50, 60],\n",
    "     [70, 80]]\n",
    "\n",
    "import numpy as np\n",
    "b = np.array(a)\n",
    "print(b.shape)"
   ]
  },
  {
   "cell_type": "code",
   "execution_count": null,
   "id": "ecf33ab2",
   "metadata": {},
   "outputs": [],
   "source": [
    "# subset 2D array\n",
    "a = [[10, 20, 30],\n",
    "     [40, 50, 60],\n",
    "     [70, 80, 90],\n",
    "     [100, 110, 120]]\n",
    "\n",
    "import numpy as np\n",
    "b = np.array(a)\n",
    "\n",
    "# print all elements in 3rd row\n",
    "print(b[2, :])\n",
    "\n",
    "# print all elements in 2nd column\n",
    "print(b[:, 1])\n",
    "\n",
    "# print 3rd row's 2nd element\n",
    "print(b[2, 1])"
   ]
  },
  {
   "cell_type": "code",
   "execution_count": null,
   "id": "b099fe30",
   "metadata": {},
   "outputs": [],
   "source": [
    "# arithmetic on 2D NumPy array \n",
    "import numpy as np\n",
    "a = np.array([[10, 20, 30],\n",
    "              [40, 50, 60],\n",
    "              [70, 80, 90]])\n",
    "b = np.array([1, 2, 3]) \n",
    "\n",
    "print(a / b)"
   ]
  },
  {
   "cell_type": "code",
   "execution_count": null,
   "id": "89f84f94",
   "metadata": {},
   "outputs": [],
   "source": [
    "# NumPy basic statistics\n",
    "import numpy as np\n",
    "a = np.array([[5, 2, 6],\n",
    "              [7, 1, 3],\n",
    "              [8, 9, 4]])\n",
    "\n",
    "# mean for 2nd column\n",
    "print(np.mean(a[:, 1]))\n",
    "\n",
    "# median for 2nd row\n",
    "print(np.median(a[1, :]))\n",
    "\n",
    "# standard deviation for 3rd column\n",
    "print(np.std(a[:, 2]))\n",
    "\n",
    "# correlation between 1st and 2nd columns\n",
    "print(np.corrcoef(a[:, 0], a[:, 1]))"
   ]
  },
  {
   "cell_type": "code",
   "execution_count": null,
   "id": "f32717e7",
   "metadata": {},
   "outputs": [],
   "source": [
    "# filter NumPy array by value in another array\n",
    "import numpy as np\n",
    "a = np.array(['Red', 'Blue', 'Blue', 'Red', 'Blue', 'Red', 'Red'])\n",
    "b = np.array([1, 2, 4, 3, 6, 5, 7])\n",
    "c = b[a == 'Red']\n",
    "d = b[a != 'Red']\n",
    "print(c)\n",
    "print(d)\n",
    "\n",
    "# perform statistical operation on filtered array\n",
    "print(np.median(c))\n",
    "print(np.mean(d))"
   ]
  }
 ],
 "metadata": {
  "kernelspec": {
   "display_name": "Python 3 (ipykernel)",
   "language": "python",
   "name": "python3"
  },
  "language_info": {
   "codemirror_mode": {
    "name": "ipython",
    "version": 3
   },
   "file_extension": ".py",
   "mimetype": "text/x-python",
   "name": "python",
   "nbconvert_exporter": "python",
   "pygments_lexer": "ipython3",
   "version": "3.11.0"
  }
 },
 "nbformat": 4,
 "nbformat_minor": 5
}
