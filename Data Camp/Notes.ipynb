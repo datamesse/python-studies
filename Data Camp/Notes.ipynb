{
 "cells": [
  {
   "cell_type": "code",
   "execution_count": 1,
   "id": "3aa54f90",
   "metadata": {},
   "outputs": [],
   "source": [
    "# This is my Jupyter Notebook for notes taken whilst taking the \"Data Scientist with Python\" certification track.\n",
    "# https://app.datacamp.com/learn/career-tracks/data-scientist-with-python"
   ]
  },
  {
   "cell_type": "code",
   "execution_count": 1,
   "id": "0903003d",
   "metadata": {},
   "outputs": [
    {
     "name": "stdout",
     "output_type": "stream",
     "text": [
      "aaaaa\n"
     ]
    }
   ],
   "source": [
    "# ======================\n",
    "# Introduction to Python\n",
    "# ======================\n",
    "\n",
    "# https://app.datacamp.com/learn/courses/intro-to-python-for-data-science\n",
    "\n",
    "# operators behave differently across types\n",
    "a = 5 * \"a\"\n",
    "print(a)\n",
    "\n"
   ]
  },
  {
   "cell_type": "code",
   "execution_count": 2,
   "id": "6de26032",
   "metadata": {},
   "outputs": [
    {
     "name": "stdout",
     "output_type": "stream",
     "text": [
      "30\n"
     ]
    }
   ],
   "source": [
    "a = 5 * 6\n",
    "print(a)"
   ]
  },
  {
   "cell_type": "code",
   "execution_count": 3,
   "id": "c8fe0ea1",
   "metadata": {},
   "outputs": [
    {
     "name": "stdout",
     "output_type": "stream",
     "text": [
      "9\n"
     ]
    }
   ],
   "source": [
    "# exponent e.g. 3 to power of 2\n",
    "a = 3 ** 2\n",
    "print(a)"
   ]
  },
  {
   "cell_type": "code",
   "execution_count": 4,
   "id": "6eda41fc",
   "metadata": {},
   "outputs": [
    {
     "name": "stdout",
     "output_type": "stream",
     "text": [
      "<class 'int'>\n"
     ]
    }
   ],
   "source": [
    "# check type()\n",
    "print(type(a))"
   ]
  },
  {
   "cell_type": "code",
   "execution_count": 5,
   "id": "a3cb5c54",
   "metadata": {},
   "outputs": [
    {
     "name": "stdout",
     "output_type": "stream",
     "text": [
      "3 to the power of 2 = 9, isn't that great?\n"
     ]
    }
   ],
   "source": [
    "# string concatenation requires explicit type conversion\n",
    "print(\"3 to the power of 2 = \" + str(a) + \", isn't that great?\")\n",
    "\n",
    "# other type conversions: bool(), float(), int()"
   ]
  },
  {
   "cell_type": "code",
   "execution_count": 6,
   "id": "0efc2473",
   "metadata": {},
   "outputs": [
    {
     "name": "stdout",
     "output_type": "stream",
     "text": [
      "[['a', 1], ['b', 2], ['c', 3]]\n"
     ]
    }
   ],
   "source": [
    "# lists can use mixed types, and have nested lists\n",
    "a = [ [\"a\", 1], [\"b\", 2], [\"c\", 3]]\n",
    "print(a)"
   ]
  },
  {
   "cell_type": "code",
   "execution_count": 7,
   "id": "8552b20d",
   "metadata": {},
   "outputs": [
    {
     "name": "stdout",
     "output_type": "stream",
     "text": [
      "['a', 1, 'b', 2, 'c', 3]\n"
     ]
    }
   ],
   "source": [
    "a = [\"a\", 1, \"b\", 2, \"c\", 3]\n",
    "print(a)"
   ]
  },
  {
   "cell_type": "code",
   "execution_count": 8,
   "id": "fb16917e",
   "metadata": {},
   "outputs": [
    {
     "name": "stdout",
     "output_type": "stream",
     "text": [
      "b\n"
     ]
    }
   ],
   "source": [
    "# SUBSET\n",
    "# 3rd element\n",
    "print(a[2])"
   ]
  },
  {
   "cell_type": "code",
   "execution_count": 9,
   "id": "507bbe58",
   "metadata": {},
   "outputs": [
    {
     "name": "stdout",
     "output_type": "stream",
     "text": [
      "3\n"
     ]
    }
   ],
   "source": [
    "# last element\n",
    "print(a[-1])"
   ]
  },
  {
   "cell_type": "code",
   "execution_count": 10,
   "id": "05af5e00",
   "metadata": {},
   "outputs": [
    {
     "name": "stdout",
     "output_type": "stream",
     "text": [
      "c\n"
     ]
    }
   ],
   "source": [
    "# 2nd last element\n",
    "print(a[-2])"
   ]
  },
  {
   "cell_type": "code",
   "execution_count": 11,
   "id": "860db886",
   "metadata": {},
   "outputs": [
    {
     "name": "stdout",
     "output_type": "stream",
     "text": [
      "[1, 'b', 2]\n"
     ]
    }
   ],
   "source": [
    "# SLICE\n",
    "# 2nd, 3rd, and 4th element\n",
    "print(a[1:4])"
   ]
  },
  {
   "cell_type": "code",
   "execution_count": 12,
   "id": "1f51e06a",
   "metadata": {},
   "outputs": [
    {
     "name": "stdout",
     "output_type": "stream",
     "text": [
      "['a', 1, 'b', 2]\n"
     ]
    }
   ],
   "source": [
    "# all elements up to 4th element\n",
    "print(a[:4])"
   ]
  },
  {
   "cell_type": "code",
   "execution_count": 13,
   "id": "42ae3e61",
   "metadata": {},
   "outputs": [
    {
     "name": "stdout",
     "output_type": "stream",
     "text": [
      "['c', 3]\n"
     ]
    }
   ],
   "source": [
    "# all elements from 5th element onward\n",
    "print(a[4:])"
   ]
  },
  {
   "cell_type": "code",
   "execution_count": 39,
   "id": "29779e14",
   "metadata": {},
   "outputs": [
    {
     "name": "stdout",
     "output_type": "stream",
     "text": [
      "g\n"
     ]
    }
   ],
   "source": [
    "# SUBSET LISTS OF LISTS\n",
    "a = [[\"a\", \"b\", \"c\"],\n",
    "     [\"d\", \"e\", \"f\"],\n",
    "     [\"g\", \"h\", \"i\"]]\n",
    "\n",
    "# a[row][column]\n",
    "# 3rd row, 1st column = \"g\"\n",
    "print(a[2][0])"
   ]
  },
  {
   "cell_type": "code",
   "execution_count": 40,
   "id": "e6fbcc2e",
   "metadata": {},
   "outputs": [
    {
     "name": "stdout",
     "output_type": "stream",
     "text": [
      "['g', 'h']\n"
     ]
    }
   ],
   "source": [
    "#  3rd row, 1st 2 columns i.e. a, b, d, e, g, h\n",
    "print(a[2][:2])"
   ]
  },
  {
   "cell_type": "code",
   "execution_count": 41,
   "id": "df26b49e",
   "metadata": {},
   "outputs": [
    {
     "name": "stdout",
     "output_type": "stream",
     "text": [
      "['a', 'b', 'x', 'd', 'e', 'f']\n"
     ]
    }
   ],
   "source": [
    "# REPLACE ELEMENTS\n",
    "a = [\"a\", \"b\", \"c\", \"d\", \"e\", \"f\"]\n",
    "# replace 3rd element c with \"z\"\n",
    "a[2] = \"x\"\n",
    "print(a)"
   ]
  },
  {
   "cell_type": "code",
   "execution_count": 42,
   "id": "f518c843",
   "metadata": {},
   "outputs": [
    {
     "name": "stdout",
     "output_type": "stream",
     "text": [
      "['a', 'y', 'z']\n"
     ]
    }
   ],
   "source": [
    "a[1:] = [\"y\", \"z\"]\n",
    "print(a)"
   ]
  },
  {
   "cell_type": "code",
   "execution_count": 43,
   "id": "d6bf623d",
   "metadata": {},
   "outputs": [
    {
     "name": "stdout",
     "output_type": "stream",
     "text": [
      "['a', 'y', 'z', 'g', 'h', 'i', 'j', 'k', 'l']\n"
     ]
    }
   ],
   "source": [
    "# EXTEND LIST\n",
    "b = [\"g\", \"h\", \"i\", \"j\", \"k\", \"l\"]\n",
    "a = a + b\n",
    "print(a)"
   ]
  },
  {
   "cell_type": "code",
   "execution_count": 44,
   "id": "33bf5a79",
   "metadata": {},
   "outputs": [
    {
     "name": "stdout",
     "output_type": "stream",
     "text": [
      "['a', 'z', 'g', 'h', 'i', 'j', 'k', 'l']\n"
     ]
    }
   ],
   "source": [
    "# DELETE LIST ELEMENT\n",
    "# delete 2nd element\n",
    "del(a[1])\n",
    "print(a)"
   ]
  },
  {
   "cell_type": "code",
   "execution_count": 45,
   "id": "41ae96f2",
   "metadata": {},
   "outputs": [],
   "source": [
    "# delete 2nd last and 3rd last elements\n",
    "del(a[-2:-4])"
   ]
  },
  {
   "cell_type": "code",
   "execution_count": 46,
   "id": "90844660",
   "metadata": {},
   "outputs": [
    {
     "name": "stdout",
     "output_type": "stream",
     "text": [
      "['a', 'x', 'g', 'h', 'i', 'j', 'k', 'l']\n",
      "['a', 'z', 'g', 'h', 'i', 'j', 'k', 'l']\n"
     ]
    }
   ],
   "source": [
    "# PREVENT UPDATE TO REFERENCED LIST\n",
    "b = list(a)\n",
    "b[1] = \"x\"\n",
    "print(b)\n",
    "# notice only b gets updated, but not a\n",
    "print(a)"
   ]
  },
  {
   "cell_type": "code",
   "execution_count": 47,
   "id": "db95735d",
   "metadata": {},
   "outputs": [
    {
     "name": "stdout",
     "output_type": "stream",
     "text": [
      "8\n"
     ]
    }
   ],
   "source": [
    "# count elements in list\n",
    "print(len(a))"
   ]
  },
  {
   "cell_type": "code",
   "execution_count": 48,
   "id": "ac0afbf1",
   "metadata": {},
   "outputs": [
    {
     "name": "stdout",
     "output_type": "stream",
     "text": [
      "Help on built-in function max in module builtins:\n",
      "\n",
      "max(...)\n",
      "    max(iterable, *[, default=obj, key=func]) -> value\n",
      "    max(arg1, arg2, *args, *[, key=func]) -> value\n",
      "    \n",
      "    With a single iterable argument, return its biggest item. The\n",
      "    default keyword-only argument specifies an object to return if\n",
      "    the provided iterable is empty.\n",
      "    With two or more arguments, return the largest argument.\n",
      "\n"
     ]
    }
   ],
   "source": [
    "# HELP\n",
    "help(max)"
   ]
  },
  {
   "cell_type": "code",
   "execution_count": 49,
   "id": "1b375bff",
   "metadata": {},
   "outputs": [
    {
     "name": "stdout",
     "output_type": "stream",
     "text": [
      "Help on built-in function pow in module builtins:\n",
      "\n",
      "pow(base, exp, mod=None)\n",
      "    Equivalent to base**exp with 2 arguments or base**exp % mod with 3 arguments\n",
      "    \n",
      "    Some types, such as ints, are able to use a more efficient algorithm when\n",
      "    invoked using the three argument form.\n",
      "\n"
     ]
    }
   ],
   "source": [
    "help(pow)"
   ]
  },
  {
   "cell_type": "code",
   "execution_count": 50,
   "id": "1581f9e5",
   "metadata": {},
   "outputs": [
    {
     "name": "stdout",
     "output_type": "stream",
     "text": [
      "Help on built-in function sorted in module builtins:\n",
      "\n",
      "sorted(iterable, /, *, key=None, reverse=False)\n",
      "    Return a new list containing all items from the iterable in ascending order.\n",
      "    \n",
      "    A custom key function can be supplied to customize the sort order, and the\n",
      "    reverse flag can be set to request the result in descending order.\n",
      "\n"
     ]
    }
   ],
   "source": [
    "help(sorted)"
   ]
  },
  {
   "cell_type": "code",
   "execution_count": 51,
   "id": "9582eaed",
   "metadata": {},
   "outputs": [
    {
     "name": "stdout",
     "output_type": "stream",
     "text": [
      "['a', 'g', 'h', 'i', 'j', 'k', 'l', 'z']\n"
     ]
    }
   ],
   "source": [
    "# sorted has 3 args: iterable, key, reverse\n",
    "print(sorted(a))"
   ]
  },
  {
   "cell_type": "code",
   "execution_count": 52,
   "id": "30d70f2e",
   "metadata": {},
   "outputs": [
    {
     "name": "stdout",
     "output_type": "stream",
     "text": [
      "['z', 'l', 'k', 'j', 'i', 'h', 'g', 'a']\n"
     ]
    }
   ],
   "source": [
    "# change function behaviours via its arguments\n",
    "b = sorted(list(a),reverse=True)\n",
    "print(b)"
   ]
  },
  {
   "cell_type": "code",
   "execution_count": 53,
   "id": "7aa3e134",
   "metadata": {},
   "outputs": [
    {
     "name": "stdout",
     "output_type": "stream",
     "text": [
      "DICTIONARY\n"
     ]
    }
   ],
   "source": [
    "# METHODS\n",
    "# uppercase\n",
    "a = \"dictionary\"\n",
    "print(a.upper())\n"
   ]
  },
  {
   "cell_type": "code",
   "execution_count": 54,
   "id": "19886fc1",
   "metadata": {},
   "outputs": [
    {
     "name": "stdout",
     "output_type": "stream",
     "text": [
      "2\n"
     ]
    }
   ],
   "source": [
    "# count number of times the substring appears\n",
    "print(a.count(\"i\",0))"
   ]
  },
  {
   "cell_type": "code",
   "execution_count": 55,
   "id": "15180d11",
   "metadata": {},
   "outputs": [
    {
     "name": "stdout",
     "output_type": "stream",
     "text": [
      "1\n"
     ]
    }
   ],
   "source": [
    "# LIST METHODS\n",
    "\n",
    "# index of first matching element\n",
    "a = [5, 4, 3, 2, 1, 4]\n",
    "print(a.index(4))\n"
   ]
  },
  {
   "cell_type": "code",
   "execution_count": 56,
   "id": "9cc3b097",
   "metadata": {},
   "outputs": [
    {
     "name": "stdout",
     "output_type": "stream",
     "text": [
      "2\n"
     ]
    }
   ],
   "source": [
    "# count instances of element\n",
    "print(a.count(4))"
   ]
  },
  {
   "cell_type": "code",
   "execution_count": 57,
   "id": "a5937513",
   "metadata": {},
   "outputs": [
    {
     "name": "stdout",
     "output_type": "stream",
     "text": [
      "[5, 4, 3, 2, 1, 4, 3, 2]\n"
     ]
    }
   ],
   "source": [
    "# add elements to end of list\n",
    "a.append(3)\n",
    "a.append(2)\n",
    "print(a)"
   ]
  },
  {
   "cell_type": "code",
   "execution_count": 58,
   "id": "4f1d6d86",
   "metadata": {},
   "outputs": [
    {
     "name": "stdout",
     "output_type": "stream",
     "text": [
      "[2, 3, 4, 1, 2, 3, 4, 5]\n"
     ]
    }
   ],
   "source": [
    "# reverse order of elements\n",
    "a.reverse()\n",
    "print(a)"
   ]
  },
  {
   "cell_type": "code",
   "execution_count": 59,
   "id": "38ea586d",
   "metadata": {},
   "outputs": [
    {
     "name": "stdout",
     "output_type": "stream",
     "text": [
      "43.982297150257104\n"
     ]
    }
   ],
   "source": [
    "# IMPORT PACKAGE\n",
    "\n",
    "import math as m\n",
    "radius = 7\n",
    "circumference = 2 * m.pi * radius\n",
    "print(circumference)"
   ]
  },
  {
   "cell_type": "code",
   "execution_count": 60,
   "id": "265a74c9",
   "metadata": {},
   "outputs": [
    {
     "name": "stdout",
     "output_type": "stream",
     "text": [
      "153.93804002589985\n"
     ]
    }
   ],
   "source": [
    "import math as m\n",
    "radius = 7\n",
    "area = m.pi * radius ** 2\n",
    "print(area)"
   ]
  },
  {
   "cell_type": "code",
   "execution_count": 61,
   "id": "8b1d359a",
   "metadata": {},
   "outputs": [
    {
     "name": "stdout",
     "output_type": "stream",
     "text": [
      "258.44835563532035\n"
     ]
    }
   ],
   "source": [
    "# SELECTIVE IMPORT\n",
    "from math import radians\n",
    "radius = 1234\n",
    "a = radians(12)\n",
    "b = radius * a\n",
    "print(b)\n"
   ]
  },
  {
   "cell_type": "code",
   "execution_count": 63,
   "id": "9973dc51",
   "metadata": {},
   "outputs": [
    {
     "ename": "ModuleNotFoundError",
     "evalue": "No module named 'scripy'",
     "output_type": "error",
     "traceback": [
      "\u001b[1;31m---------------------------------------------------------------------------\u001b[0m",
      "\u001b[1;31mModuleNotFoundError\u001b[0m                       Traceback (most recent call last)",
      "Cell \u001b[1;32mIn[63], line 2\u001b[0m\n\u001b[0;32m      1\u001b[0m \u001b[38;5;66;03m# selective import with aliased method\u001b[39;00m\n\u001b[1;32m----> 2\u001b[0m \u001b[38;5;28;01mfrom\u001b[39;00m \u001b[38;5;21;01mscripy\u001b[39;00m\u001b[38;5;21;01m.\u001b[39;00m\u001b[38;5;21;01mlinalg\u001b[39;00m \u001b[38;5;28;01mimport\u001b[39;00m inv \u001b[38;5;28;01mas\u001b[39;00m alias_inv\n\u001b[0;32m      3\u001b[0m alias_inv([[\u001b[38;5;241m1\u001b[39m,\u001b[38;5;241m2\u001b[39m], [\u001b[38;5;241m3\u001b[39m,\u001b[38;5;241m4\u001b[39m]])\n",
      "\u001b[1;31mModuleNotFoundError\u001b[0m: No module named 'scripy'"
     ]
    }
   ],
   "source": [
    "# selective import with aliased method\n",
    "from scripy.linalg import inv as alias_inv\n",
    "alias_inv([[1,2], [3,4]])"
   ]
  },
  {
   "cell_type": "code",
   "execution_count": 64,
   "id": "b7173fc5",
   "metadata": {},
   "outputs": [
    {
     "name": "stdout",
     "output_type": "stream",
     "text": [
      "<class 'list'>\n",
      "<class 'numpy.ndarray'>\n"
     ]
    }
   ],
   "source": [
    "# NUMPY\n",
    "\n",
    "# convert list to NumPy array\n",
    "a = [10, 15, 5, 35, 50, 10]\n",
    "print(type(a))\n",
    "import numpy as np\n",
    "np_a = np.array(a)\n",
    "print(type(np_a))"
   ]
  },
  {
   "cell_type": "code",
   "execution_count": 65,
   "id": "637187b8",
   "metadata": {},
   "outputs": [
    {
     "name": "stdout",
     "output_type": "stream",
     "text": [
      "[10, 15, 5, 35, 50, 10, 10, 15, 5, 35, 50, 10]\n",
      "[10, 15, 5, 35, 50, 10, 10, 15, 5, 35, 50, 10, 10, 15, 5, 35, 50, 10, 10, 15, 5, 35, 50, 10]\n"
     ]
    }
   ],
   "source": [
    "# operators function differently between lists and NumPy array\n",
    "import numpy as np\n",
    "\n",
    "# list as a whole is muliplied and concatenated\n",
    "a = a * 2\n",
    "print(a)\n",
    "# NumPy element values are multiplied\n",
    "np_a = a * 2\n",
    "print(np_a)"
   ]
  },
  {
   "cell_type": "code",
   "execution_count": 66,
   "id": "94bbf319",
   "metadata": {},
   "outputs": [
    {
     "name": "stdout",
     "output_type": "stream",
     "text": [
      "[False  True False  True  True False]\n"
     ]
    }
   ],
   "source": [
    "# boolean test works on NumPy array, but not lists\n",
    "import numpy as np\n",
    "\n",
    "a = [10, 15, 5, 35, 50, 10]\n",
    "b = np.array(a) > 10\n",
    "print(b)"
   ]
  },
  {
   "cell_type": "code",
   "execution_count": 67,
   "id": "d4bdf71c",
   "metadata": {},
   "outputs": [
    {
     "name": "stdout",
     "output_type": "stream",
     "text": [
      "[0 2 4]\n"
     ]
    }
   ],
   "source": [
    "# NumPy array must contain same data types, unlike list which can have a mix\n",
    "# NumPy arrays enforce data coercion where possible\n",
    "# e.g. boolean true and false are converted to 1 and 0\n",
    "import numpy as np\n",
    "\n",
    "a = np.array([False, 1, 2]) + np.array([0, True, 2])\n",
    "print(a)"
   ]
  },
  {
   "cell_type": "code",
   "execution_count": 68,
   "id": "cc3e3b03",
   "metadata": {},
   "outputs": [
    {
     "name": "stdout",
     "output_type": "stream",
     "text": [
      "[15, 20, 25]\n",
      "[15 20 25]\n"
     ]
    }
   ],
   "source": [
    "# subset NumPy array is the same as subsetting a list\n",
    "a = [5, 10, 15, 20, 25, 30]\n",
    "print(a[2:5])\n",
    "\n",
    "import numpy as np\n",
    "b = np.array(a)\n",
    "print(b[2:5])"
   ]
  },
  {
   "cell_type": "code",
   "execution_count": 69,
   "id": "a260e4e2",
   "metadata": {},
   "outputs": [
    {
     "name": "stdout",
     "output_type": "stream",
     "text": [
      "(4, 2)\n"
     ]
    }
   ],
   "source": [
    "# check dimensions a.k.a. shape of NumPy array\n",
    "a = [[10, 20],\n",
    "     [30, 40],\n",
    "     [50, 60],\n",
    "     [70, 80]]\n",
    "\n",
    "import numpy as np\n",
    "b = np.array(a)\n",
    "print(b.shape)"
   ]
  },
  {
   "cell_type": "code",
   "execution_count": 70,
   "id": "ecf33ab2",
   "metadata": {},
   "outputs": [
    {
     "name": "stdout",
     "output_type": "stream",
     "text": [
      "[70 80 90]\n",
      "[ 20  50  80 110]\n",
      "80\n"
     ]
    }
   ],
   "source": [
    "# subset 2D array\n",
    "a = [[10, 20, 30],\n",
    "     [40, 50, 60],\n",
    "     [70, 80, 90],\n",
    "     [100, 110, 120]]\n",
    "\n",
    "import numpy as np\n",
    "b = np.array(a)\n",
    "\n",
    "# print all elements in 3rd row\n",
    "print(b[2, :])\n",
    "\n",
    "# print all elements in 2nd column\n",
    "print(b[:, 1])\n",
    "\n",
    "# print 3rd row's 2nd element\n",
    "print(b[2, 1])"
   ]
  },
  {
   "cell_type": "code",
   "execution_count": 71,
   "id": "b099fe30",
   "metadata": {},
   "outputs": [
    {
     "name": "stdout",
     "output_type": "stream",
     "text": [
      "[[10. 10. 10.]\n",
      " [40. 25. 20.]\n",
      " [70. 40. 30.]]\n"
     ]
    }
   ],
   "source": [
    "# arithmetic on 2D NumPy array \n",
    "import numpy as np\n",
    "a = np.array([[10, 20, 30],\n",
    "              [40, 50, 60],\n",
    "              [70, 80, 90]])\n",
    "b = np.array([1, 2, 3]) \n",
    "\n",
    "print(a / b)"
   ]
  },
  {
   "cell_type": "code",
   "execution_count": 72,
   "id": "89f84f94",
   "metadata": {},
   "outputs": [
    {
     "name": "stdout",
     "output_type": "stream",
     "text": [
      "4.0\n",
      "3.0\n",
      "1.247219128924647\n",
      "[[1.         0.67584534]\n",
      " [0.67584534 1.        ]]\n"
     ]
    }
   ],
   "source": [
    "# NumPy basic statistics\n",
    "import numpy as np\n",
    "a = np.array([[5, 2, 6],\n",
    "              [7, 1, 3],\n",
    "              [8, 9, 4]])\n",
    "\n",
    "# mean for 2nd column\n",
    "print(np.mean(a[:, 1]))\n",
    "\n",
    "# median for 2nd row\n",
    "print(np.median(a[1, :]))\n",
    "\n",
    "# standard deviation for 3rd column\n",
    "print(np.std(a[:, 2]))\n",
    "\n",
    "# correlation between 1st and 2nd columns\n",
    "print(np.corrcoef(a[:, 0], a[:, 1]))"
   ]
  },
  {
   "cell_type": "code",
   "execution_count": 75,
   "id": "f32717e7",
   "metadata": {},
   "outputs": [
    {
     "name": "stdout",
     "output_type": "stream",
     "text": [
      "[11 33  5 77]\n",
      "[ 2  4 66]\n",
      "22.0\n",
      "24.0\n"
     ]
    }
   ],
   "source": [
    "# filter NumPy array by value in another array\n",
    "import numpy as np\n",
    "a = np.array(['Red', 'Blue', 'Blue', 'Red', 'Blue', 'Red', 'Red'])\n",
    "b = np.array([11, 2, 4, 33, 66, 5, 77])\n",
    "c = b[a == 'Red']\n",
    "d = b[a != 'Red']\n",
    "print(c)\n",
    "print(d)\n",
    "\n",
    "# perform statistical operation on filtered array\n",
    "print(np.median(c))\n",
    "print(np.mean(d))"
   ]
  },
  {
   "cell_type": "code",
   "execution_count": null,
   "id": "210f8194",
   "metadata": {},
   "outputs": [],
   "source": [
    "# ======================\n",
    "# Intermediate Python\n",
    "# ======================\n",
    "\n",
    "# https://campus.datacamp.com/courses/intermediate-python/"
   ]
  },
  {
   "cell_type": "code",
   "execution_count": null,
   "id": "9869063a",
   "metadata": {},
   "outputs": [],
   "source": [
    "# Line chart\n",
    "\n",
    "import matplotlib.pyplot as plt\n",
    "year = [1960, 1970, 1980, 1990, 2000, 2010, 2020]\n",
    "australia_population_millions = [10.48, 12.51, 14.69, 17.07, 19.03, 22.03, 25.69]\n",
    "\n",
    "plt.plot(year, australia_population_millions)\n",
    "plt.show()"
   ]
  },
  {
   "cell_type": "code",
   "execution_count": null,
   "id": "a1e0c960",
   "metadata": {},
   "outputs": [],
   "source": [
    "# Scatter plot\n",
    "\n",
    "import matplotlib.pyplot as plt\n",
    "year = [1960, 1970, 1980, 1990, 2000, 2010, 2020]\n",
    "australia_population_millions = [10.48, 12.51, 14.69, 17.07, 19.03, 22.03, 25.69]\n",
    "\n",
    "plt.scatter(year, australia_population_millions)\n",
    "plt.show()"
   ]
  },
  {
   "cell_type": "code",
   "execution_count": null,
   "id": "c2a14c67",
   "metadata": {},
   "outputs": [],
   "source": [
    "# apply logaritmic scale to axis\n",
    "import matplotlib.pyplot as plt\n",
    "year = [1960, 1970, 1980, 1990, 2000, 2010, 2020]\n",
    "australia_gdppcapita_usd = [1810.51, 3304.68, 10208.58, 18249.71, 21853.78, 52134.31, 51720.37]\n",
    "plt.scatter(year, australia_gdppcapita_usd)\n",
    "plt.show()\n",
    "plt.yscale('log')\n",
    "plt.show()"
   ]
  },
  {
   "cell_type": "code",
   "execution_count": null,
   "id": "20049da0",
   "metadata": {},
   "outputs": [],
   "source": [
    "# Histogram\n",
    "import matplotlib.pyplot as plt\n",
    "\n",
    "# hist(values_to_bin, number_of_bins defaults to 10)\n",
    "help(hist)\n",
    "\n",
    "australian_age_sample = [5,8,11,14,65,71,80,15,19,25,28,32,36,39,43,47,52,56,59,64]\n",
    "\n",
    "plt.hist(australian_age_sample, bins=3)\n",
    "plt.show()"
   ]
  },
  {
   "cell_type": "code",
   "execution_count": null,
   "id": "f89659f5",
   "metadata": {},
   "outputs": [],
   "source": [
    "# clear current plotted figure\n",
    "import matplotlib.pyplot as plt\n",
    "plt.clf()"
   ]
  },
  {
   "cell_type": "code",
   "execution_count": null,
   "id": "f85f8c31",
   "metadata": {},
   "outputs": [],
   "source": [
    "# CUSTOMISE PLOT\n",
    "# add customisations before the .show() function\n",
    "# use .yticks() function to define where y axis starts from\n",
    "# .yticks([list of values to use], [list of labels to display])\n",
    "\n",
    "import matplotlib.pyplot as plt\n",
    "year = [1960, 1970, 1980, 1990, 2000, 2010, 2020]\n",
    "australia_population_millions = [10.48, 12.51, 14.69, 17.07, 19.03, 22.03, 25.69]\n",
    "\n",
    "# can manually add more data to existing lists\n",
    "year = [1901, 1911, 1921, 1931, 1941, 1951] + year\n",
    "australia_population_millions = [3.79, 4.49, 5.46, 6.53, 7.11, 8.42] + australia_population_millions\n",
    "\n",
    "plt.plot(year, australia_population_millions)\n",
    "\n",
    "plt.xlabel('Year')\n",
    "plt.ylabel('Population')\n",
    "plt.title('World Population Projections')\n",
    "plt.yticks([0, 5, 10, 15, 20, 25, 27.5], ['0', '5M', '10M', '15M', '20M', '25M', ' '])\n",
    "\n",
    "plt.show()"
   ]
  },
  {
   "cell_type": "code",
   "execution_count": null,
   "id": "1372f6a5",
   "metadata": {},
   "outputs": [],
   "source": []
  }
 ],
 "metadata": {
  "kernelspec": {
   "display_name": "Python 3 (ipykernel)",
   "language": "python",
   "name": "python3"
  },
  "language_info": {
   "codemirror_mode": {
    "name": "ipython",
    "version": 3
   },
   "file_extension": ".py",
   "mimetype": "text/x-python",
   "name": "python",
   "nbconvert_exporter": "python",
   "pygments_lexer": "ipython3",
   "version": "3.11.0"
  }
 },
 "nbformat": 4,
 "nbformat_minor": 5
}
