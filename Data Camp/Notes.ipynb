{
 "cells": [
  {
   "cell_type": "code",
   "execution_count": 1,
   "id": "3aa54f90",
   "metadata": {},
   "outputs": [],
   "source": [
    "# This is my Jupyter Notebook for notes taken whilst taking the \"Data Scientist with Python\" certification track.\n",
    "# https://app.datacamp.com/learn/career-tracks/data-scientist-with-python"
   ]
  },
  {
   "cell_type": "code",
   "execution_count": 2,
   "id": "0903003d",
   "metadata": {},
   "outputs": [
    {
     "name": "stdout",
     "output_type": "stream",
     "text": [
      "aaaaa\n"
     ]
    }
   ],
   "source": [
    "# ======================\n",
    "# Introduction to Python\n",
    "# ======================\n",
    "\n",
    "# https://app.datacamp.com/learn/courses/intro-to-python-for-data-science\n",
    "\n",
    "# operators behave differently across types\n",
    "a = 5 * \"a\"\n",
    "print(a)\n",
    "\n"
   ]
  },
  {
   "cell_type": "code",
   "execution_count": 3,
   "id": "6de26032",
   "metadata": {},
   "outputs": [
    {
     "name": "stdout",
     "output_type": "stream",
     "text": [
      "30\n"
     ]
    }
   ],
   "source": [
    "a = 5 * 6\n",
    "print(a)"
   ]
  },
  {
   "cell_type": "code",
   "execution_count": 4,
   "id": "c8fe0ea1",
   "metadata": {},
   "outputs": [
    {
     "name": "stdout",
     "output_type": "stream",
     "text": [
      "9\n"
     ]
    }
   ],
   "source": [
    "# exponent e.g. 3 to power of 2\n",
    "a = 3 ** 2\n",
    "print(a)"
   ]
  },
  {
   "cell_type": "code",
   "execution_count": 5,
   "id": "6eda41fc",
   "metadata": {},
   "outputs": [
    {
     "name": "stdout",
     "output_type": "stream",
     "text": [
      "<class 'int'>\n"
     ]
    }
   ],
   "source": [
    "# check type()\n",
    "print(type(a))"
   ]
  },
  {
   "cell_type": "code",
   "execution_count": 6,
   "id": "a3cb5c54",
   "metadata": {},
   "outputs": [
    {
     "name": "stdout",
     "output_type": "stream",
     "text": [
      "3 to the power of 2 = 9, isn't that great?\n"
     ]
    }
   ],
   "source": [
    "# string concatenation requires explicit type conversion\n",
    "print(\"3 to the power of 2 = \" + str(a) + \", isn't that great?\")\n",
    "\n",
    "# other type conversions: bool(), float(), int()"
   ]
  },
  {
   "cell_type": "code",
   "execution_count": 7,
   "id": "0efc2473",
   "metadata": {},
   "outputs": [
    {
     "name": "stdout",
     "output_type": "stream",
     "text": [
      "[['a', 1], ['b', 2], ['c', 3]]\n"
     ]
    }
   ],
   "source": [
    "# lists can use mixed types, and have nested lists\n",
    "a = [ [\"a\", 1], [\"b\", 2], [\"c\", 3]]\n",
    "print(a)"
   ]
  },
  {
   "cell_type": "code",
   "execution_count": 8,
   "id": "8552b20d",
   "metadata": {},
   "outputs": [
    {
     "name": "stdout",
     "output_type": "stream",
     "text": [
      "['a', 1, 'b', 2, 'c', 3]\n"
     ]
    }
   ],
   "source": [
    "a = [\"a\", 1, \"b\", 2, \"c\", 3]\n",
    "print(a)"
   ]
  },
  {
   "cell_type": "code",
   "execution_count": 9,
   "id": "fb16917e",
   "metadata": {},
   "outputs": [
    {
     "name": "stdout",
     "output_type": "stream",
     "text": [
      "b\n"
     ]
    }
   ],
   "source": [
    "# SUBSET\n",
    "# 3rd element\n",
    "print(a[2])"
   ]
  },
  {
   "cell_type": "code",
   "execution_count": 10,
   "id": "507bbe58",
   "metadata": {},
   "outputs": [
    {
     "name": "stdout",
     "output_type": "stream",
     "text": [
      "3\n"
     ]
    }
   ],
   "source": [
    "# last element\n",
    "print(a[-1])"
   ]
  },
  {
   "cell_type": "code",
   "execution_count": 11,
   "id": "05af5e00",
   "metadata": {},
   "outputs": [
    {
     "name": "stdout",
     "output_type": "stream",
     "text": [
      "c\n"
     ]
    }
   ],
   "source": [
    "# 2nd last element\n",
    "print(a[-2])"
   ]
  },
  {
   "cell_type": "code",
   "execution_count": 12,
   "id": "860db886",
   "metadata": {},
   "outputs": [
    {
     "name": "stdout",
     "output_type": "stream",
     "text": [
      "[1, 'b', 2]\n"
     ]
    }
   ],
   "source": [
    "# SLICE\n",
    "# 2nd, 3rd, and 4th element\n",
    "print(a[1:4])"
   ]
  },
  {
   "cell_type": "code",
   "execution_count": 13,
   "id": "1f51e06a",
   "metadata": {},
   "outputs": [
    {
     "name": "stdout",
     "output_type": "stream",
     "text": [
      "['a', 1, 'b', 2]\n"
     ]
    }
   ],
   "source": [
    "# all elements up to 4th element\n",
    "print(a[:4])"
   ]
  },
  {
   "cell_type": "code",
   "execution_count": 14,
   "id": "42ae3e61",
   "metadata": {},
   "outputs": [
    {
     "name": "stdout",
     "output_type": "stream",
     "text": [
      "['c', 3]\n"
     ]
    }
   ],
   "source": [
    "# all elements from 5th element onward\n",
    "print(a[4:])"
   ]
  },
  {
   "cell_type": "code",
   "execution_count": 15,
   "id": "29779e14",
   "metadata": {},
   "outputs": [
    {
     "name": "stdout",
     "output_type": "stream",
     "text": [
      "g\n"
     ]
    }
   ],
   "source": [
    "# SUBSET LISTS OF LISTS\n",
    "a = [[\"a\", \"b\", \"c\"],\n",
    "     [\"d\", \"e\", \"f\"],\n",
    "     [\"g\", \"h\", \"i\"]]\n",
    "\n",
    "# a[row][column]\n",
    "# 3rd row, 1st column = \"g\"\n",
    "print(a[2][0])"
   ]
  },
  {
   "cell_type": "code",
   "execution_count": 16,
   "id": "e6fbcc2e",
   "metadata": {},
   "outputs": [
    {
     "name": "stdout",
     "output_type": "stream",
     "text": [
      "['g', 'h']\n"
     ]
    }
   ],
   "source": [
    "#  3rd row, 1st 2 columns i.e. a, b, d, e, g, h\n",
    "print(a[2][:2])"
   ]
  },
  {
   "cell_type": "code",
   "execution_count": 17,
   "id": "df26b49e",
   "metadata": {},
   "outputs": [
    {
     "name": "stdout",
     "output_type": "stream",
     "text": [
      "['a', 'b', 'x', 'd', 'e', 'f']\n"
     ]
    }
   ],
   "source": [
    "# REPLACE ELEMENTS\n",
    "a = [\"a\", \"b\", \"c\", \"d\", \"e\", \"f\"]\n",
    "# replace 3rd element c with \"z\"\n",
    "a[2] = \"x\"\n",
    "print(a)"
   ]
  },
  {
   "cell_type": "code",
   "execution_count": 18,
   "id": "f518c843",
   "metadata": {},
   "outputs": [
    {
     "name": "stdout",
     "output_type": "stream",
     "text": [
      "['a', 'y', 'z']\n"
     ]
    }
   ],
   "source": [
    "a[1:] = [\"y\", \"z\"]\n",
    "print(a)"
   ]
  },
  {
   "cell_type": "code",
   "execution_count": 19,
   "id": "d6bf623d",
   "metadata": {},
   "outputs": [
    {
     "name": "stdout",
     "output_type": "stream",
     "text": [
      "['a', 'y', 'z', 'g', 'h', 'i', 'j', 'k', 'l']\n"
     ]
    }
   ],
   "source": [
    "# EXTEND LIST\n",
    "b = [\"g\", \"h\", \"i\", \"j\", \"k\", \"l\"]\n",
    "a = a + b\n",
    "print(a)"
   ]
  },
  {
   "cell_type": "code",
   "execution_count": 20,
   "id": "33bf5a79",
   "metadata": {},
   "outputs": [
    {
     "name": "stdout",
     "output_type": "stream",
     "text": [
      "['a', 'z', 'g', 'h', 'i', 'j', 'k', 'l']\n"
     ]
    }
   ],
   "source": [
    "# DELETE LIST ELEMENT\n",
    "# delete 2nd element\n",
    "del(a[1])\n",
    "print(a)"
   ]
  },
  {
   "cell_type": "code",
   "execution_count": 21,
   "id": "41ae96f2",
   "metadata": {},
   "outputs": [],
   "source": [
    "# delete 2nd last and 3rd last elements\n",
    "del(a[-2:-4])"
   ]
  },
  {
   "cell_type": "code",
   "execution_count": 22,
   "id": "90844660",
   "metadata": {},
   "outputs": [
    {
     "name": "stdout",
     "output_type": "stream",
     "text": [
      "['a', 'x', 'g', 'h', 'i', 'j', 'k', 'l']\n",
      "['a', 'z', 'g', 'h', 'i', 'j', 'k', 'l']\n"
     ]
    }
   ],
   "source": [
    "# PREVENT UPDATE TO REFERENCED LIST\n",
    "b = list(a)\n",
    "b[1] = \"x\"\n",
    "print(b)\n",
    "# notice only b gets updated, but not a\n",
    "print(a)"
   ]
  },
  {
   "cell_type": "code",
   "execution_count": 23,
   "id": "db95735d",
   "metadata": {},
   "outputs": [
    {
     "name": "stdout",
     "output_type": "stream",
     "text": [
      "8\n"
     ]
    }
   ],
   "source": [
    "# count elements in list\n",
    "print(len(a))"
   ]
  },
  {
   "cell_type": "code",
   "execution_count": 24,
   "id": "ac0afbf1",
   "metadata": {},
   "outputs": [
    {
     "name": "stdout",
     "output_type": "stream",
     "text": [
      "Help on built-in function max in module builtins:\n",
      "\n",
      "max(...)\n",
      "    max(iterable, *[, default=obj, key=func]) -> value\n",
      "    max(arg1, arg2, *args, *[, key=func]) -> value\n",
      "    \n",
      "    With a single iterable argument, return its biggest item. The\n",
      "    default keyword-only argument specifies an object to return if\n",
      "    the provided iterable is empty.\n",
      "    With two or more arguments, return the largest argument.\n",
      "\n"
     ]
    }
   ],
   "source": [
    "# HELP\n",
    "help(max)"
   ]
  },
  {
   "cell_type": "code",
   "execution_count": 25,
   "id": "1b375bff",
   "metadata": {},
   "outputs": [
    {
     "name": "stdout",
     "output_type": "stream",
     "text": [
      "Help on built-in function pow in module builtins:\n",
      "\n",
      "pow(base, exp, mod=None)\n",
      "    Equivalent to base**exp with 2 arguments or base**exp % mod with 3 arguments\n",
      "    \n",
      "    Some types, such as ints, are able to use a more efficient algorithm when\n",
      "    invoked using the three argument form.\n",
      "\n"
     ]
    }
   ],
   "source": [
    "help(pow)"
   ]
  },
  {
   "cell_type": "code",
   "execution_count": 26,
   "id": "1581f9e5",
   "metadata": {},
   "outputs": [
    {
     "name": "stdout",
     "output_type": "stream",
     "text": [
      "Help on built-in function sorted in module builtins:\n",
      "\n",
      "sorted(iterable, /, *, key=None, reverse=False)\n",
      "    Return a new list containing all items from the iterable in ascending order.\n",
      "    \n",
      "    A custom key function can be supplied to customize the sort order, and the\n",
      "    reverse flag can be set to request the result in descending order.\n",
      "\n"
     ]
    }
   ],
   "source": [
    "help(sorted)"
   ]
  },
  {
   "cell_type": "code",
   "execution_count": 27,
   "id": "9582eaed",
   "metadata": {},
   "outputs": [
    {
     "name": "stdout",
     "output_type": "stream",
     "text": [
      "['a', 'g', 'h', 'i', 'j', 'k', 'l', 'z']\n"
     ]
    }
   ],
   "source": [
    "# sorted has 3 args: iterable, key, reverse\n",
    "print(sorted(a))"
   ]
  },
  {
   "cell_type": "code",
   "execution_count": 28,
   "id": "30d70f2e",
   "metadata": {},
   "outputs": [
    {
     "name": "stdout",
     "output_type": "stream",
     "text": [
      "['z', 'l', 'k', 'j', 'i', 'h', 'g', 'a']\n"
     ]
    }
   ],
   "source": [
    "# change function behaviours via its arguments\n",
    "b = sorted(list(a),reverse=True)\n",
    "print(b)"
   ]
  },
  {
   "cell_type": "code",
   "execution_count": 29,
   "id": "7aa3e134",
   "metadata": {},
   "outputs": [
    {
     "name": "stdout",
     "output_type": "stream",
     "text": [
      "DICTIONARY\n"
     ]
    }
   ],
   "source": [
    "# METHODS\n",
    "# uppercase\n",
    "a = \"dictionary\"\n",
    "print(a.upper())\n"
   ]
  },
  {
   "cell_type": "code",
   "execution_count": 30,
   "id": "19886fc1",
   "metadata": {},
   "outputs": [
    {
     "name": "stdout",
     "output_type": "stream",
     "text": [
      "2\n"
     ]
    }
   ],
   "source": [
    "# count number of times the substring appears\n",
    "print(a.count(\"i\",0))"
   ]
  },
  {
   "cell_type": "code",
   "execution_count": 31,
   "id": "15180d11",
   "metadata": {},
   "outputs": [
    {
     "name": "stdout",
     "output_type": "stream",
     "text": [
      "1\n"
     ]
    }
   ],
   "source": [
    "# LIST METHODS\n",
    "\n",
    "# index of first matching element\n",
    "a = [5, 4, 3, 2, 1, 4]\n",
    "print(a.index(4))\n"
   ]
  },
  {
   "cell_type": "code",
   "execution_count": 32,
   "id": "9cc3b097",
   "metadata": {},
   "outputs": [
    {
     "name": "stdout",
     "output_type": "stream",
     "text": [
      "2\n"
     ]
    }
   ],
   "source": [
    "# count instances of element\n",
    "print(a.count(4))"
   ]
  },
  {
   "cell_type": "code",
   "execution_count": 33,
   "id": "a5937513",
   "metadata": {},
   "outputs": [
    {
     "name": "stdout",
     "output_type": "stream",
     "text": [
      "[5, 4, 3, 2, 1, 4, 3, 2]\n"
     ]
    }
   ],
   "source": [
    "# add elements to end of list\n",
    "a.append(3)\n",
    "a.append(2)\n",
    "print(a)"
   ]
  },
  {
   "cell_type": "code",
   "execution_count": 34,
   "id": "4f1d6d86",
   "metadata": {},
   "outputs": [
    {
     "name": "stdout",
     "output_type": "stream",
     "text": [
      "[2, 3, 4, 1, 2, 3, 4, 5]\n"
     ]
    }
   ],
   "source": [
    "# reverse order of elements\n",
    "a.reverse()\n",
    "print(a)"
   ]
  },
  {
   "cell_type": "code",
   "execution_count": 35,
   "id": "38ea586d",
   "metadata": {},
   "outputs": [
    {
     "name": "stdout",
     "output_type": "stream",
     "text": [
      "43.982297150257104\n"
     ]
    }
   ],
   "source": [
    "# IMPORT PACKAGE\n",
    "\n",
    "import math as m\n",
    "radius = 7\n",
    "circumference = 2 * m.pi * radius\n",
    "print(circumference)"
   ]
  },
  {
   "cell_type": "code",
   "execution_count": 36,
   "id": "265a74c9",
   "metadata": {},
   "outputs": [
    {
     "name": "stdout",
     "output_type": "stream",
     "text": [
      "153.93804002589985\n"
     ]
    }
   ],
   "source": [
    "import math as m\n",
    "radius = 7\n",
    "area = m.pi * radius ** 2\n",
    "print(area)"
   ]
  },
  {
   "cell_type": "code",
   "execution_count": 37,
   "id": "8b1d359a",
   "metadata": {},
   "outputs": [
    {
     "name": "stdout",
     "output_type": "stream",
     "text": [
      "258.44835563532035\n"
     ]
    }
   ],
   "source": [
    "# SELECTIVE IMPORT\n",
    "from math import radians\n",
    "radius = 1234\n",
    "a = radians(12)\n",
    "b = radius * a\n",
    "print(b)\n"
   ]
  },
  {
   "cell_type": "code",
   "execution_count": 38,
   "id": "9973dc51",
   "metadata": {},
   "outputs": [
    {
     "ename": "ModuleNotFoundError",
     "evalue": "No module named 'scripy'",
     "output_type": "error",
     "traceback": [
      "\u001b[1;31m---------------------------------------------------------------------------\u001b[0m",
      "\u001b[1;31mModuleNotFoundError\u001b[0m                       Traceback (most recent call last)",
      "Cell \u001b[1;32mIn[38], line 2\u001b[0m\n\u001b[0;32m      1\u001b[0m \u001b[38;5;66;03m# selective import with aliased method\u001b[39;00m\n\u001b[1;32m----> 2\u001b[0m \u001b[38;5;28;01mfrom\u001b[39;00m \u001b[38;5;21;01mscripy\u001b[39;00m\u001b[38;5;21;01m.\u001b[39;00m\u001b[38;5;21;01mlinalg\u001b[39;00m \u001b[38;5;28;01mimport\u001b[39;00m inv \u001b[38;5;28;01mas\u001b[39;00m alias_inv\n\u001b[0;32m      3\u001b[0m alias_inv([[\u001b[38;5;241m1\u001b[39m,\u001b[38;5;241m2\u001b[39m], [\u001b[38;5;241m3\u001b[39m,\u001b[38;5;241m4\u001b[39m]])\n",
      "\u001b[1;31mModuleNotFoundError\u001b[0m: No module named 'scripy'"
     ]
    }
   ],
   "source": [
    "# selective import with aliased method\n",
    "from scripy.linalg import inv as alias_inv\n",
    "alias_inv([[1,2], [3,4]])"
   ]
  },
  {
   "cell_type": "code",
   "execution_count": null,
   "id": "b7173fc5",
   "metadata": {},
   "outputs": [],
   "source": [
    "# NUMPY\n",
    "\n",
    "# convert list to NumPy array\n",
    "a = [10, 15, 5, 35, 50, 10]\n",
    "print(type(a))\n",
    "import numpy as np\n",
    "np_a = np.array(a)\n",
    "print(type(np_a))"
   ]
  },
  {
   "cell_type": "code",
   "execution_count": 39,
   "id": "637187b8",
   "metadata": {},
   "outputs": [
    {
     "name": "stdout",
     "output_type": "stream",
     "text": [
      "0.4188790204786391\n",
      "0.8377580409572782\n"
     ]
    }
   ],
   "source": [
    "# operators function differently between lists and NumPy array\n",
    "import numpy as np\n",
    "\n",
    "# list as a whole is muliplied and concatenated\n",
    "a = a * 2\n",
    "print(a)\n",
    "# NumPy element values are multiplied\n",
    "np_a = a * 2\n",
    "print(np_a)"
   ]
  },
  {
   "cell_type": "code",
   "execution_count": 40,
   "id": "94bbf319",
   "metadata": {},
   "outputs": [
    {
     "name": "stdout",
     "output_type": "stream",
     "text": [
      "[False  True False  True  True False]\n"
     ]
    }
   ],
   "source": [
    "# boolean test works on NumPy array, but not lists\n",
    "import numpy as np\n",
    "\n",
    "a = [10, 15, 5, 35, 50, 10]\n",
    "b = np.array(a) > 10\n",
    "print(b)"
   ]
  },
  {
   "cell_type": "code",
   "execution_count": 41,
   "id": "d4bdf71c",
   "metadata": {},
   "outputs": [
    {
     "name": "stdout",
     "output_type": "stream",
     "text": [
      "[0 2 4]\n"
     ]
    }
   ],
   "source": [
    "# NumPy array must contain same data types, unlike list which can have a mix\n",
    "# NumPy arrays enforce data coercion where possible\n",
    "# e.g. boolean true and false are converted to 1 and 0\n",
    "import numpy as np\n",
    "\n",
    "a = np.array([False, 1, 2]) + np.array([0, True, 2])\n",
    "print(a)"
   ]
  },
  {
   "cell_type": "code",
   "execution_count": 42,
   "id": "cc3e3b03",
   "metadata": {},
   "outputs": [
    {
     "name": "stdout",
     "output_type": "stream",
     "text": [
      "[15, 20, 25]\n",
      "[15 20 25]\n"
     ]
    }
   ],
   "source": [
    "# subset NumPy array is the same as subsetting a list\n",
    "a = [5, 10, 15, 20, 25, 30]\n",
    "print(a[2:5])\n",
    "\n",
    "import numpy as np\n",
    "b = np.array(a)\n",
    "print(b[2:5])"
   ]
  },
  {
   "cell_type": "code",
   "execution_count": 43,
   "id": "a260e4e2",
   "metadata": {},
   "outputs": [
    {
     "name": "stdout",
     "output_type": "stream",
     "text": [
      "(4, 2)\n"
     ]
    }
   ],
   "source": [
    "# check dimensions a.k.a. shape of NumPy array\n",
    "a = [[10, 20],\n",
    "     [30, 40],\n",
    "     [50, 60],\n",
    "     [70, 80]]\n",
    "\n",
    "import numpy as np\n",
    "b = np.array(a)\n",
    "print(b.shape)"
   ]
  },
  {
   "cell_type": "code",
   "execution_count": 44,
   "id": "ecf33ab2",
   "metadata": {},
   "outputs": [
    {
     "name": "stdout",
     "output_type": "stream",
     "text": [
      "[70 80 90]\n",
      "[ 20  50  80 110]\n",
      "80\n"
     ]
    }
   ],
   "source": [
    "# subset 2D array\n",
    "a = [[10, 20, 30],\n",
    "     [40, 50, 60],\n",
    "     [70, 80, 90],\n",
    "     [100, 110, 120]]\n",
    "\n",
    "import numpy as np\n",
    "b = np.array(a)\n",
    "\n",
    "# print all elements in 3rd row\n",
    "print(b[2, :])\n",
    "\n",
    "# print all elements in 2nd column\n",
    "print(b[:, 1])\n",
    "\n",
    "# print 3rd row's 2nd element\n",
    "print(b[2, 1])"
   ]
  },
  {
   "cell_type": "code",
   "execution_count": 45,
   "id": "b099fe30",
   "metadata": {},
   "outputs": [
    {
     "name": "stdout",
     "output_type": "stream",
     "text": [
      "[[10. 10. 10.]\n",
      " [40. 25. 20.]\n",
      " [70. 40. 30.]]\n"
     ]
    }
   ],
   "source": [
    "# arithmetic on 2D NumPy array \n",
    "import numpy as np\n",
    "a = np.array([[10, 20, 30],\n",
    "              [40, 50, 60],\n",
    "              [70, 80, 90]])\n",
    "b = np.array([1, 2, 3]) \n",
    "\n",
    "print(a / b)"
   ]
  },
  {
   "cell_type": "code",
   "execution_count": 46,
   "id": "89f84f94",
   "metadata": {},
   "outputs": [
    {
     "name": "stdout",
     "output_type": "stream",
     "text": [
      "4.0\n",
      "3.0\n",
      "1.247219128924647\n",
      "[[1.         0.67584534]\n",
      " [0.67584534 1.        ]]\n"
     ]
    }
   ],
   "source": [
    "# NumPy basic statistics\n",
    "import numpy as np\n",
    "a = np.array([[5, 2, 6],\n",
    "              [7, 1, 3],\n",
    "              [8, 9, 4]])\n",
    "\n",
    "# mean for 2nd column\n",
    "print(np.mean(a[:, 1]))\n",
    "\n",
    "# median for 2nd row\n",
    "print(np.median(a[1, :]))\n",
    "\n",
    "# standard deviation for 3rd column\n",
    "print(np.std(a[:, 2]))\n",
    "\n",
    "# correlation between 1st and 2nd columns\n",
    "print(np.corrcoef(a[:, 0], a[:, 1]))"
   ]
  },
  {
   "cell_type": "code",
   "execution_count": 47,
   "id": "f32717e7",
   "metadata": {},
   "outputs": [
    {
     "name": "stdout",
     "output_type": "stream",
     "text": [
      "[11 33  5 77]\n",
      "[ 2  4 66]\n",
      "22.0\n",
      "24.0\n"
     ]
    }
   ],
   "source": [
    "# filter NumPy array by value in another array\n",
    "import numpy as np\n",
    "a = np.array(['Red', 'Blue', 'Blue', 'Red', 'Blue', 'Red', 'Red'])\n",
    "b = np.array([11, 2, 4, 33, 66, 5, 77])\n",
    "c = b[a == 'Red']\n",
    "d = b[a != 'Red']\n",
    "print(c)\n",
    "print(d)\n",
    "\n",
    "# perform statistical operation on filtered array\n",
    "print(np.median(c))\n",
    "print(np.mean(d))"
   ]
  },
  {
   "cell_type": "code",
   "execution_count": 48,
   "id": "210f8194",
   "metadata": {},
   "outputs": [],
   "source": [
    "# ======================\n",
    "# Intermediate Python\n",
    "# ======================\n",
    "\n",
    "# https://campus.datacamp.com/courses/intermediate-python/"
   ]
  },
  {
   "cell_type": "code",
   "execution_count": 49,
   "id": "9869063a",
   "metadata": {},
   "outputs": [
    {
     "data": {
      "image/png": "[encoded data removed]",
      "text/plain": [
       "<Figure size 640x480 with 1 Axes>"
      ]
     },
     "metadata": {},
     "output_type": "display_data"
    }
   ],
   "source": [
    "# Line chart\n",
    "\n",
    "import matplotlib.pyplot as plt\n",
    "year = [1960, 1970, 1980, 1990, 2000, 2010, 2020]\n",
    "australia_population_millions = [10.48, 12.51, 14.69, 17.07, 19.03, 22.03, 25.69]\n",
    "\n",
    "plt.plot(year, australia_population_millions)\n",
    "plt.show()"
   ]
  },
  {
   "cell_type": "code",
   "execution_count": 50,
   "id": "a1e0c960",
   "metadata": {},
   "outputs": [
    {
     "data": {
      "image/png": "[encoded data removed]",
      "text/plain": [
       "<Figure size 640x480 with 1 Axes>"
      ]
     },
     "metadata": {},
     "output_type": "display_data"
    }
   ],
   "source": [
    "# Scatter plot\n",
    "\n",
    "import matplotlib.pyplot as plt\n",
    "year = [1960, 1970, 1980, 1990, 2000, 2010, 2020]\n",
    "australia_population_millions = [10.48, 12.51, 14.69, 17.07, 19.03, 22.03, 25.69]\n",
    "\n",
    "plt.scatter(year, australia_population_millions)\n",
    "plt.show()"
   ]
  },
  {
   "cell_type": "code",
   "execution_count": 51,
   "id": "c2a14c67",
   "metadata": {},
   "outputs": [
    {
     "data": {
      "image/png": "[encoded data removed]",
      "text/plain": [
       "<Figure size 640x480 with 1 Axes>"
      ]
     },
     "metadata": {},
     "output_type": "display_data"
    },
    {
     "data": {
      "image/png": "[encoded data removed]",
      "text/plain": [
       "<Figure size 640x480 with 1 Axes>"
      ]
     },
     "metadata": {},
     "output_type": "display_data"
    }
   ],
   "source": [
    "# apply logaritmic scale to axis\n",
    "import matplotlib.pyplot as plt\n",
    "year = [1960, 1970, 1980, 1990, 2000, 2010, 2020]\n",
    "australia_gdppcapita_usd = [1810.51, 3304.68, 10208.58, 18249.71, 21853.78, 52134.31, 51720.37]\n",
    "plt.scatter(year, australia_gdppcapita_usd)\n",
    "plt.show()\n",
    "plt.yscale('log')\n",
    "plt.show()"
   ]
  },
  {
   "cell_type": "code",
   "execution_count": 59,
   "id": "20049da0",
   "metadata": {},
   "outputs": [
    {
     "name": "stdout",
     "output_type": "stream",
     "text": [
      "Help on function hist in module matplotlib.pyplot:\n",
      "\n",
      "hist(x, bins=None, range=None, density=False, weights=None, cumulative=False, bottom=None, histtype='bar', align='mid', orientation='vertical', rwidth=None, log=False, color=None, label=None, stacked=False, *, data=None, **kwargs)\n",
      "    Compute and plot a histogram.\n",
      "    \n",
      "    This method uses `numpy.histogram` to bin the data in *x* and count the\n",
      "    number of values in each bin, then draws the distribution either as a\n",
      "    `.BarContainer` or `.Polygon`. The *bins*, *range*, *density*, and\n",
      "    *weights* parameters are forwarded to `numpy.histogram`.\n",
      "    \n",
      "    If the data has already been binned and counted, use `~.bar` or\n",
      "    `~.stairs` to plot the distribution::\n",
      "    \n",
      "        counts, bins = np.histogram(x)\n",
      "        plt.stairs(counts, bins)\n",
      "    \n",
      "    Alternatively, plot pre-computed bins and counts using ``hist()`` by\n",
      "    treating each bin as a single point with a weight equal to its count::\n",
      "    \n",
      "        plt.hist(bins[:-1], bins, weights=counts)\n",
      "    \n",
      "    The data input *x* can be a singular array, a list of datasets of\n",
      "    potentially different lengths ([*x0*, *x1*, ...]), or a 2D ndarray in\n",
      "    which each column is a dataset. Note that the ndarray form is\n",
      "    transposed relative to the list form. If the input is an array, then\n",
      "    the return value is a tuple (*n*, *bins*, *patches*); if the input is a\n",
      "    sequence of arrays, then the return value is a tuple\n",
      "    ([*n0*, *n1*, ...], *bins*, [*patches0*, *patches1*, ...]).\n",
      "    \n",
      "    Masked arrays are not supported.\n",
      "    \n",
      "    Parameters\n",
      "    ----------\n",
      "    x : (n,) array or sequence of (n,) arrays\n",
      "        Input values, this takes either a single array or a sequence of\n",
      "        arrays which are not required to be of the same length.\n",
      "    \n",
      "    bins : int or sequence or str, default: :rc:`hist.bins`\n",
      "        If *bins* is an integer, it defines the number of equal-width bins\n",
      "        in the range.\n",
      "    \n",
      "        If *bins* is a sequence, it defines the bin edges, including the\n",
      "        left edge of the first bin and the right edge of the last bin;\n",
      "        in this case, bins may be unequally spaced.  All but the last\n",
      "        (righthand-most) bin is half-open.  In other words, if *bins* is::\n",
      "    \n",
      "            [1, 2, 3, 4]\n",
      "    \n",
      "        then the first bin is ``[1, 2)`` (including 1, but excluding 2) and\n",
      "        the second ``[2, 3)``.  The last bin, however, is ``[3, 4]``, which\n",
      "        *includes* 4.\n",
      "    \n",
      "        If *bins* is a string, it is one of the binning strategies\n",
      "        supported by `numpy.histogram_bin_edges`: 'auto', 'fd', 'doane',\n",
      "        'scott', 'stone', 'rice', 'sturges', or 'sqrt'.\n",
      "    \n",
      "    range : tuple or None, default: None\n",
      "        The lower and upper range of the bins. Lower and upper outliers\n",
      "        are ignored. If not provided, *range* is ``(x.min(), x.max())``.\n",
      "        Range has no effect if *bins* is a sequence.\n",
      "    \n",
      "        If *bins* is a sequence or *range* is specified, autoscaling\n",
      "        is based on the specified bin range instead of the\n",
      "        range of x.\n",
      "    \n",
      "    density : bool, default: False\n",
      "        If ``True``, draw and return a probability density: each bin\n",
      "        will display the bin's raw count divided by the total number of\n",
      "        counts *and the bin width*\n",
      "        (``density = counts / (sum(counts) * np.diff(bins))``),\n",
      "        so that the area under the histogram integrates to 1\n",
      "        (``np.sum(density * np.diff(bins)) == 1``).\n",
      "    \n",
      "        If *stacked* is also ``True``, the sum of the histograms is\n",
      "        normalized to 1.\n",
      "    \n",
      "    weights : (n,) array-like or None, default: None\n",
      "        An array of weights, of the same shape as *x*.  Each value in\n",
      "        *x* only contributes its associated weight towards the bin count\n",
      "        (instead of 1).  If *density* is ``True``, the weights are\n",
      "        normalized, so that the integral of the density over the range\n",
      "        remains 1.\n",
      "    \n",
      "    cumulative : bool or -1, default: False\n",
      "        If ``True``, then a histogram is computed where each bin gives the\n",
      "        counts in that bin plus all bins for smaller values. The last bin\n",
      "        gives the total number of datapoints.\n",
      "    \n",
      "        If *density* is also ``True`` then the histogram is normalized such\n",
      "        that the last bin equals 1.\n",
      "    \n",
      "        If *cumulative* is a number less than 0 (e.g., -1), the direction\n",
      "        of accumulation is reversed.  In this case, if *density* is also\n",
      "        ``True``, then the histogram is normalized such that the first bin\n",
      "        equals 1.\n",
      "    \n",
      "    bottom : array-like, scalar, or None, default: None\n",
      "        Location of the bottom of each bin, ie. bins are drawn from\n",
      "        ``bottom`` to ``bottom + hist(x, bins)`` If a scalar, the bottom\n",
      "        of each bin is shifted by the same amount. If an array, each bin\n",
      "        is shifted independently and the length of bottom must match the\n",
      "        number of bins. If None, defaults to 0.\n",
      "    \n",
      "    histtype : {'bar', 'barstacked', 'step', 'stepfilled'}, default: 'bar'\n",
      "        The type of histogram to draw.\n",
      "    \n",
      "        - 'bar' is a traditional bar-type histogram.  If multiple data\n",
      "          are given the bars are arranged side by side.\n",
      "        - 'barstacked' is a bar-type histogram where multiple\n",
      "          data are stacked on top of each other.\n",
      "        - 'step' generates a lineplot that is by default unfilled.\n",
      "        - 'stepfilled' generates a lineplot that is by default filled.\n",
      "    \n",
      "    align : {'left', 'mid', 'right'}, default: 'mid'\n",
      "        The horizontal alignment of the histogram bars.\n",
      "    \n",
      "        - 'left': bars are centered on the left bin edges.\n",
      "        - 'mid': bars are centered between the bin edges.\n",
      "        - 'right': bars are centered on the right bin edges.\n",
      "    \n",
      "    orientation : {'vertical', 'horizontal'}, default: 'vertical'\n",
      "        If 'horizontal', `~.Axes.barh` will be used for bar-type histograms\n",
      "        and the *bottom* kwarg will be the left edges.\n",
      "    \n",
      "    rwidth : float or None, default: None\n",
      "        The relative width of the bars as a fraction of the bin width.  If\n",
      "        ``None``, automatically compute the width.\n",
      "    \n",
      "        Ignored if *histtype* is 'step' or 'stepfilled'.\n",
      "    \n",
      "    log : bool, default: False\n",
      "        If ``True``, the histogram axis will be set to a log scale.\n",
      "    \n",
      "    color : color or array-like of colors or None, default: None\n",
      "        Color or sequence of colors, one per dataset.  Default (``None``)\n",
      "        uses the standard line color sequence.\n",
      "    \n",
      "    label : str or None, default: None\n",
      "        String, or sequence of strings to match multiple datasets.  Bar\n",
      "        charts yield multiple patches per dataset, but only the first gets\n",
      "        the label, so that `~.Axes.legend` will work as expected.\n",
      "    \n",
      "    stacked : bool, default: False\n",
      "        If ``True``, multiple data are stacked on top of each other If\n",
      "        ``False`` multiple data are arranged side by side if histtype is\n",
      "        'bar' or on top of each other if histtype is 'step'\n",
      "    \n",
      "    Returns\n",
      "    -------\n",
      "    n : array or list of arrays\n",
      "        The values of the histogram bins. See *density* and *weights* for a\n",
      "        description of the possible semantics.  If input *x* is an array,\n",
      "        then this is an array of length *nbins*. If input is a sequence of\n",
      "        arrays ``[data1, data2, ...]``, then this is a list of arrays with\n",
      "        the values of the histograms for each of the arrays in the same\n",
      "        order.  The dtype of the array *n* (or of its element arrays) will\n",
      "        always be float even if no weighting or normalization is used.\n",
      "    \n",
      "    bins : array\n",
      "        The edges of the bins. Length nbins + 1 (nbins left edges and right\n",
      "        edge of last bin).  Always a single array even when multiple data\n",
      "        sets are passed in.\n",
      "    \n",
      "    patches : `.BarContainer` or list of a single `.Polygon` or list of such objects\n",
      "        Container of individual artists used to create the histogram\n",
      "        or list of such containers if there are multiple input datasets.\n",
      "    \n",
      "    Other Parameters\n",
      "    ----------------\n",
      "    data : indexable object, optional\n",
      "        If given, the following parameters also accept a string ``s``, which is\n",
      "        interpreted as ``data[s]`` (unless this raises an exception):\n",
      "    \n",
      "        *x*, *weights*\n",
      "    \n",
      "    **kwargs\n",
      "        `~matplotlib.patches.Patch` properties\n",
      "    \n",
      "    See Also\n",
      "    --------\n",
      "    hist2d : 2D histogram with rectangular bins\n",
      "    hexbin : 2D histogram with hexagonal bins\n",
      "    \n",
      "    Notes\n",
      "    -----\n",
      "    For large numbers of bins (>1000), plotting can be significantly faster\n",
      "    if *histtype* is set to 'step' or 'stepfilled' rather than 'bar' or\n",
      "    'barstacked'.\n",
      "\n"
     ]
    },
    {
     "data": {
      "image/png": "[encoded data removed]",
      "text/plain": [
       "<Figure size 640x480 with 1 Axes>"
      ]
     },
     "metadata": {},
     "output_type": "display_data"
    }
   ],
   "source": [
    "# Histogram\n",
    "import matplotlib.pyplot as plt\n",
    "\n",
    "# hist(values_to_bin, number_of_bins defaults to 10)\n",
    "help(plt.hist)\n",
    "\n",
    "australian_age_sample = [5,8,11,14,65,71,80,15,19,25,28,32,36,39,43,47,52,56,59,64]\n",
    "\n",
    "plt.hist(australian_age_sample, bins=3)\n",
    "plt.show()"
   ]
  },
  {
   "cell_type": "code",
   "execution_count": null,
   "id": "f89659f5",
   "metadata": {},
   "outputs": [],
   "source": [
    "# clear current plotted figure\n",
    "import matplotlib.pyplot as plt\n",
    "plt.clf()"
   ]
  },
  {
   "cell_type": "code",
   "execution_count": 53,
   "id": "f85f8c31",
   "metadata": {},
   "outputs": [
    {
     "data": {
      "image/png": "[encoded data removed]",
      "text/plain": [
       "<Figure size 640x480 with 1 Axes>"
      ]
     },
     "metadata": {},
     "output_type": "display_data"
    }
   ],
   "source": [
    "# CUSTOMISE PLOT\n",
    "# add customisations before the .show() function\n",
    "# use .yticks() function to define where y axis starts from\n",
    "# .yticks([list of values to use], [list of labels to display])\n",
    "\n",
    "import matplotlib.pyplot as plt\n",
    "year = [1960, 1970, 1980, 1990, 2000, 2010, 2020]\n",
    "australia_population_millions = [10.48, 12.51, 14.69, 17.07, 19.03, 22.03, 25.69]\n",
    "\n",
    "# can manually add more data to existing lists\n",
    "year = [1901, 1911, 1921, 1931, 1941, 1951] + year\n",
    "australia_population_millions = [3.79, 4.49, 5.46, 6.53, 7.11, 8.42] + australia_population_millions\n",
    "\n",
    "plt.plot(year, australia_population_millions)\n",
    "\n",
    "plt.xlabel('Year')\n",
    "plt.ylabel('Population')\n",
    "plt.title('World Population Projections')\n",
    "plt.yticks([0, 5, 10, 15, 20, 25, 27.5], ['0', '5M', '10M', '15M', '20M', '25M', ' '])\n",
    "\n",
    "plt.show()"
   ]
  },
  {
   "cell_type": "code",
   "execution_count": 57,
   "id": "1372f6a5",
   "metadata": {},
   "outputs": [
    {
     "data": {
      "image/png": "[encoded data removed]",
      "text/plain": [
       "<Figure size 640x480 with 1 Axes>"
      ]
     },
     "metadata": {},
     "output_type": "display_data"
    }
   ],
   "source": [
    "# CUSTOMISATION\n",
    "# .scatter() takes s argument =  for circle size\n",
    "# .scatter() takes dictionary argument c =  for colour\n",
    "# .scatter() takes argument alpha =   for opacity (0 = transparent, 1 = visible)\n",
    "# .text() annotates the plot .text(x-axis value, y-axis value, text)\n",
    "# .grid(True) displays grid\n",
    "\n",
    "import matplotlib.pyplot as plt\n",
    "import numpy as np\n",
    "\n",
    "year = [1960, 1970, 1980, 1990, 2000, 2010, 2020]\n",
    "australia_population_millions = [10.48, 12.51, 14.69, 17.07, 19.03, 22.03, 25.69]\n",
    "australia_gdppcapita_usd = [1810.51, 3304.68, 10208.58, 18249.71, 21853.78, 52134.31, 51720.37]\n",
    "century = ['20th', '20th', '20th', '20th', '20th', '21st', '21st']\n",
    "\n",
    "spot_size = np.array(australia_population_millions) * 100\n",
    "\n",
    "plt.scatter(year, australia_gdppcapita_usd, s = spot_size,  c = 'blue', alpha = 0.75)\n",
    "\n",
    "plt.yscale('log') # check to see if needs to be removed\n",
    "plt.xlabel('Year')\n",
    "plt.ylabel('GDP per capita (USD)')\n",
    "plt.title('Australian GDP and population from 1960')\n",
    "plt.yticks([1000, 5000, 50000],['1k', '5k', '50k'])\n",
    "plt.grid(True)\n",
    "plt.text(1965, 49000, 'Upper bound')\n",
    "\n",
    "plt.show()"
   ]
  },
  {
   "cell_type": "code",
   "execution_count": null,
   "id": "c79c69d8",
   "metadata": {},
   "outputs": [],
   "source": [
    "#  TO DO  COPY AND PASTED BELOW, NEED TO MODIFY\n",
    "\n"
   ]
  }
 ],
 "metadata": {
  "kernelspec": {
   "display_name": "Python 3 (ipykernel)",
   "language": "python",
   "name": "python3"
  },
  "language_info": {
   "codemirror_mode": {
    "name": "ipython",
    "version": 3
   },
   "file_extension": ".py",
   "mimetype": "text/x-python",
   "name": "python",
   "nbconvert_exporter": "python",
   "pygments_lexer": "ipython3",
   "version": "3.11.0"
  }
 },
 "nbformat": 4,
 "nbformat_minor": 5
}
