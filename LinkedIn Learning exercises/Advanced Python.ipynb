{
 "cells": [
  {
   "cell_type": "code",
   "execution_count": null,
   "id": "3aa54f90",
   "metadata": {},
   "outputs": [],
   "source": [
    "# This is my Jupyter Notebook code-along whilst going through the course\n",
    "\n",
    "# ===============\n",
    "# ADVANCED PYTHON\n",
    "# ===============\n",
    "\n",
    "# https://www.linkedin.com/learning/advanced-python"
   ]
  },
  {
   "cell_type": "code",
   "execution_count": 1,
   "id": "0903003d",
   "metadata": {},
   "outputs": [
    {
     "name": "stdout",
     "output_type": "stream",
     "text": [
      "False\n",
      "False\n"
     ]
    }
   ],
   "source": [
    "# --------------------\n",
    "# 1. LANGUAGE FEATURES\n",
    "# --------------------\n",
    "\n",
    "# 1.1 BOOLEAN EVALUATION\n",
    "\n",
    "x = []\n",
    "print(bool(x))\n",
    "\n",
    "y = {}\n",
    "print(bool(y))\n"
   ]
  },
  {
   "cell_type": "code",
   "execution_count": 2,
   "id": "0b5bf583",
   "metadata": {},
   "outputs": [
    {
     "name": "stdout",
     "output_type": "stream",
     "text": [
      "b'ABCD'\n",
      "This is a string\n",
      "ABCDThis is a string\n",
      "b'ABCDThis is a string'\n"
     ]
    }
   ],
   "source": [
    "# 1.2 STRING = UNICODE, BYTE = 8-BIT VALUES\n",
    "\n",
    "b = bytes([0x41, 0x42, 0x43, 0x44])\n",
    "print(b)\n",
    "\n",
    "s = \"This is a string\"\n",
    "print(s)\n",
    "\n",
    "print(b.decode('utf-8') + s)\n",
    "\n",
    "print(b + s.encode('utf-8'))\n"
   ]
  },
  {
   "cell_type": "code",
   "execution_count": 3,
   "id": "add1ddc1",
   "metadata": {},
   "outputs": [
    {
     "name": "stdout",
     "output_type": "stream",
     "text": [
      "You're watching Advanced Python by Joe Marini\n",
      "You're watching {0} by {1}\n",
      "You're watching {0} by {1}\n"
     ]
    }
   ],
   "source": [
    "# 1.3 TEMPLATE STRINGS\n",
    "\n",
    "from string import Template\n",
    "\n",
    "# Conventional string formatting\n",
    "str1 = \"You're watching {0} by {1}\".format(\"Advanced Python\", \"Joe Marini\")\n",
    "print(str1)\n",
    "\n",
    "# Template with placeholders\n",
    "# recommended for formatting strings for extra security\n",
    "templ = Template(\"You're watching {0} by {1}\")\n",
    "\n",
    "# Susbstitute with keyword arguments\n",
    "str2 = templ.substitute(title=\"Advanced Python\", author=\"Joe Marini\")\n",
    "print(str2)\n",
    "\n",
    "# Substitute with dictionary\n",
    "data = {\n",
    "    \"author\" : \"Joe Marini\",\n",
    "    \"title\" : \"Advanced Python\"\n",
    "    }\n",
    "str3 = templ.substitute(data)\n",
    "print(str3)\n",
    "\n"
   ]
  },
  {
   "cell_type": "code",
   "execution_count": 4,
   "id": "f891a25d",
   "metadata": {
    "scrolled": true
   },
   "outputs": [
    {
     "name": "stdout",
     "output_type": "stream",
     "text": [
      "True\n",
      "False\n",
      "min:  0\n",
      "min:  6\n",
      "sum:  17\n"
     ]
    }
   ],
   "source": [
    "# ---------------------\n",
    "# 2. BUILT-IN FUNCTIONS\n",
    "# ---------------------\n",
    "\n",
    "def main():\n",
    "    list1 = {1, 2, 3, 0, 5, 6}\n",
    "\n",
    "    # any returns true if any sequence elements are true\n",
    "    print(any(list1))\n",
    "\n",
    "    # all returns true if all values are true\n",
    "    print(all(list1))\n",
    "\n",
    "    print(\"min: \", min(list1))\n",
    "    print(\"min: \", max(list1))\n",
    "    print(\"sum: \", sum(list1))\n",
    "\n",
    "if __name__ == \"__main__\":\n",
    "    main()\n"
   ]
  },
  {
   "cell_type": "code",
   "execution_count": 7,
   "id": "461866ae",
   "metadata": {},
   "outputs": [
    {
     "ename": "IndentationError",
     "evalue": "unexpected indent (390646012.py, line 10)",
     "output_type": "error",
     "traceback": [
      "\u001b[1;36m  Cell \u001b[1;32mIn[7], line 10\u001b[1;36m\u001b[0m\n\u001b[1;33m    print(next(i))\u001b[0m\n\u001b[1;37m    ^\u001b[0m\n\u001b[1;31mIndentationError\u001b[0m\u001b[1;31m:\u001b[0m unexpected indent\n"
     ]
    }
   ],
   "source": [
    "# 2.1 ITERATE / ITERATORS OVER SEQUENCES\n",
    "\n",
    "def main():\n",
    "    days = [\"Sun\", \"Mon\", \"Tue\", \"Wed\", \"Thu\", \"Fri\", \"Sat\"]\n",
    "    daysFr = [\"Dim\", \"Lun\", \"Mar\", \"Mer\", \"Jeu\", \"Ven\", \"Sam\"]\n",
    "\n",
    "\n",
    "# iter goes through each element of the collection\n",
    "    i = iter(days)\n",
    "    print(next(i))\n",
    "    print(next(i))\n",
    "    print(next(i))"
   ]
  },
  {
   "cell_type": "code",
   "execution_count": 8,
   "id": "47b706e4",
   "metadata": {},
   "outputs": [
    {
     "ename": "IndentationError",
     "evalue": "unexpected indent (2763131008.py, line 6)",
     "output_type": "error",
     "traceback": [
      "\u001b[1;36m  Cell \u001b[1;32mIn[8], line 6\u001b[1;36m\u001b[0m\n\u001b[1;33m    with open(\"testfile.txt\", \"r\") as fp:\u001b[0m\n\u001b[1;37m    ^\u001b[0m\n\u001b[1;31mIndentationError\u001b[0m\u001b[1;31m:\u001b[0m unexpected indent\n"
     ]
    }
   ],
   "source": [
    "# 2.2. ITERATE USING FUNCTION & SENTINEL \n",
    "# readline retrieves next line in the file,\n",
    "# followed by '' which is a sentinel value of blank representing end of the file\n",
    "# i.e. iter calls the function provided to generate each value\n",
    "# iter stops when it finds a value equal to the sentinel i.e. end of file\n",
    "    with open(\"testfile.txt\", \"r\") as fp:\n",
    "        for line in iter(fp.readline, ''):\n",
    "            print(line)\n"
   ]
  },
  {
   "cell_type": "code",
   "execution_count": 10,
   "id": "b36df56f",
   "metadata": {},
   "outputs": [
    {
     "ename": "IndentationError",
     "evalue": "unexpected indent (3225706899.py, line 4)",
     "output_type": "error",
     "traceback": [
      "\u001b[1;36m  Cell \u001b[1;32mIn[10], line 4\u001b[1;36m\u001b[0m\n\u001b[1;33m    for m in range(len(days)):\u001b[0m\n\u001b[1;37m    ^\u001b[0m\n\u001b[1;31mIndentationError\u001b[0m\u001b[1;31m:\u001b[0m unexpected indent\n"
     ]
    }
   ],
   "source": [
    "# 2.3. ITERATE OVER COLLECTIONS\n",
    "\n",
    "# regular iteration with indexing\n",
    "    for m in range(len(days)):\n",
    "        print(m + 1, days[m])\n",
    "\n",
    "# enumerate to reduce code\n",
    "    for i, m in enumerate(days, start = 1):\n",
    "        print(i, m)\n",
    "\n",
    "# iterate over multiple sequences at the same time\n",
    "# zip is used to combine multiple sequences into a single iterator\n",
    "    for m in zip(days, daysFr):\n",
    "        print(m)\n",
    "\n",
    "for i, m in enumerate(zip(days, daysFr), start = 1):\n",
    "    print(i, m[0], \"=\", [1], \"in French\")\n",
    "\n",
    "if __name__ == \"__main__\":\n",
    "    main()\n"
   ]
  },
  {
   "cell_type": "code",
   "execution_count": 11,
   "id": "72f16b90",
   "metadata": {},
   "outputs": [
    {
     "name": "stdout",
     "output_type": "stream",
     "text": [
      "[1, 5, 13, 381, 47]\n",
      "['a', 'b', 'c', 'd', 'e', 'f', 'h', 'i', 'j', 'k', 'l', 'm', 'n', 'o', 'q', 'r', 's', 't', 'u', 'w', 'x', 'y']\n",
      "[1, 64, 16, 25, 169, 676, 145161, 168100, 3364, 2209]\n",
      "['F', 'D', 'C', 'C', 'B', 'B', 'A', 'A']\n"
     ]
    }
   ],
   "source": [
    "# 2.4 TRANSFORM\n",
    "\n",
    "# define functions as filters\n",
    "def filterFunc(x):\n",
    "    if x % 2 == 0:\n",
    "        return False\n",
    "    return True\n",
    "\n",
    "def filterFunc2(x):\n",
    "    if x.isupper():\n",
    "        return False\n",
    "    return True\n",
    "\n",
    "def squareFunc(x):\n",
    "    return x ** 2\n",
    "\n",
    "def toGrade(x):\n",
    "    if (x >= 90):\n",
    "        return \"A\"\n",
    "    elif (x >= 80 and x < 90):\n",
    "        return \"B\"\n",
    "    elif (x >= 70 and x < 80):\n",
    "        return \"C\"\n",
    "    elif (x >= 65 and x < 70):\n",
    "        return \"D\"\n",
    "    elif (x < 65):\n",
    "        return \"F\"\n",
    "\n",
    "def main():\n",
    "    nums = (1, 8, 4, 5, 13, 26, 381, 410, 58, 47)\n",
    "    chars = \"abcdefGhijklmnoPqrstuVwxyZ\"\n",
    "    grades = (81, 89, 94, 78, 61, 66, 99, 74)\n",
    "\n",
    "    odds = list(filter(filterFunc, nums))\n",
    "    print(odds)\n",
    "\n",
    "    lowers = list(filter(filterFunc2, chars))\n",
    "    print(lowers)\n",
    "\n",
    "    squares = list(map(squareFunc, nums))\n",
    "    print(squares)\n",
    "\n",
    "    grades = sorted(grades)\n",
    "    letters = list(map(toGrade, grades))\n",
    "    print(letters)\n",
    "\n",
    "if __name__ == \"__main__\":\n",
    "    main()\n"
   ]
  },
  {
   "cell_type": "code",
   "execution_count": 12,
   "id": "b5ca3e9e",
   "metadata": {},
   "outputs": [
    {
     "name": "stdout",
     "output_type": "stream",
     "text": [
      "Ken\n",
      "Joe\n",
      "Jun\n",
      "Ken\n",
      "100\n",
      "110\n",
      "120\n",
      "130\n",
      "[10, 30, 60, 100, 150, 190, 220]\n",
      "[10, 20, 30, 40, 50, 50, 50]\n",
      "['A', 'B', 'C', 'D', '1', '2', '3', '4']\n",
      "[40, 50, 40, 30]\n",
      "[10, 20, 30]\n"
     ]
    }
   ],
   "source": [
    "# 2.5 ITERTOOLS\n",
    "\n",
    "import itertools\n",
    "\n",
    "def testFunction(x):\n",
    "    return x < 40\n",
    "\n",
    "def main():\n",
    "\n",
    "    seq1 = [\"Ken\", \"Joe\", \"Jun\"]\n",
    "    cycle1 = itertools.cycle(seq1)\n",
    "    print(next(cycle1))\n",
    "    print(next(cycle1))\n",
    "    print(next(cycle1))\n",
    "    print(next(cycle1))\n",
    "    \n",
    "    count1 = itertools.count(100,10)\n",
    "    print(next(count1))\n",
    "    print(next(count1))\n",
    "    print(next(count1))\n",
    "    print(next(count1))\n",
    "\n",
    "    # iterator that accumulates values\n",
    "    vals = [10,20,30,40,50,40,30]\n",
    "    acc = itertools.accumulate(vals)\n",
    "    print(list(acc))\n",
    "    acc = itertools.accumulate(vals, max)\n",
    "    print(list(acc))\n",
    "\n",
    "    # connect sequences together\n",
    "    x = itertools.chain(\"ABCD\", \"1234\")\n",
    "    print(list(x))\n",
    "\n",
    "    # both dropwhile and takewhile take predicate functions for a value test\n",
    "    # dropwhile drops calues from the sequence whilst the predicate evaluates true,\n",
    "    # then returns other values after that\n",
    "    # takewhile returns values from sequence whilst predicate remains true\n",
    "    # then stops after that\n",
    "    print(list(itertools.dropwhile(testFunction, vals)))\n",
    "    print(list(itertools.takewhile(testFunction, vals)))\n",
    "\n",
    "if __name__ == \"__main__\":\n",
    "    main()\n"
   ]
  },
  {
   "cell_type": "code",
   "execution_count": 14,
   "id": "9a931c3f",
   "metadata": {},
   "outputs": [
    {
     "ename": "IndentationError",
     "evalue": "expected an indented block after function definition on line 8 (116848235.py, line 17)",
     "output_type": "error",
     "traceback": [
      "\u001b[1;36m  Cell \u001b[1;32mIn[14], line 17\u001b[1;36m\u001b[0m\n\u001b[1;33m    def main():\u001b[0m\n\u001b[1;37m    ^\u001b[0m\n\u001b[1;31mIndentationError\u001b[0m\u001b[1;31m:\u001b[0m expected an indented block after function definition on line 8\n"
     ]
    }
   ],
   "source": [
    "# ----------------------------\n",
    "# 3. ADVANCED PYTHON FUNCTIONS\n",
    "# ----------------------------\n",
    "\n",
    "# To get documentation for a Python function, class, module, etc. e.g. map\n",
    "print(map.__doc__)\n",
    "\n",
    "# Create documentation steing for your own classes, functions, etc.\n",
    "\n",
    "def myFunction(arg1, arg2 = None):\n",
    "#    \"\"\"myFunction(arg1, arg2 = None) --> Doesn't do anything\n",
    "\n",
    "#    Parameters:\n",
    "#    arg1: 1st argument you pass\n",
    "#    arg2: 2nd argument you pass\n",
    "#    \"\"\"\n",
    "#    print(arg1, arg2)\n",
    "\n",
    "def main():\n",
    "    print(myFunction.__doc__)\n",
    "\n",
    "if __name__ == \"__main__\":\n",
    "    main()\n"
   ]
  },
  {
   "cell_type": "code",
   "execution_count": 15,
   "id": "1189ac61",
   "metadata": {},
   "outputs": [
    {
     "name": "stdout",
     "output_type": "stream",
     "text": [
      "50\n",
      "10\n",
      "50\n"
     ]
    }
   ],
   "source": [
    "# 3.1 VARIABLE PARAMETER FUNCTIONS / LISTS\n",
    "# use a prefixed asterisk parameter name, but it must occur at end of parameter list\n",
    "\n",
    "def addition(*args):\n",
    "    result = 0\n",
    "    for arg in args:\n",
    "        result += arg\n",
    "    return result\n",
    "\n",
    "def main():\n",
    "    print(addition(5, 10, 15, 20))\n",
    "    print(addition(1, 2, 3, 4))\n",
    "\n",
    "    myNums = [5, 10, 15, 20]\n",
    "    print(addition(*myNums))\n",
    "\n",
    "if __name__ == \"__main__\":\n",
    "    main()\n"
   ]
  },
  {
   "cell_type": "code",
   "execution_count": 16,
   "id": "e97e6e44",
   "metadata": {},
   "outputs": [
    {
     "name": "stdout",
     "output_type": "stream",
     "text": [
      "[0.0, 18.333333333333332, 37.77777777777778, 100.0]\n",
      "[32.0, 53.6, 93.2, 212.0]\n",
      "[0.0, 18.333333333333332, 37.77777777777778, 100.0]\n",
      "[32.0, 53.6, 93.2, 212.0]\n"
     ]
    }
   ],
   "source": [
    "# 3.2 LAMBDA FUNCTIONS\n",
    "# anonymous functioms a.k.a. lambda functions\n",
    "# general format is lambda(parametwrs) : (expression)\n",
    "\n",
    "def CelsiusToFahrenheit(temp):\n",
    "    return (temp * 9/5) + 32\n",
    "\n",
    "def FahrenheitToCelsius(temp):\n",
    "    return (temp - 32) * 5/9\n",
    "\n",
    "def main():\n",
    "    ctemps = [0, 12, 34, 100]\n",
    "    ftemps = [32, 65, 100, 212]\n",
    "\n",
    "    print(list(map(FahrenheitToCelsius, ftemps)))\n",
    "    print(list(map(CelsiusToFahrenheit, ctemps)))\n",
    "\n",
    "    # lambda equivalent which simplifies code\n",
    "    print(list(map(lambda t: (t - 32) * 5/9, ftemps)))\n",
    "    print(list(map(lambda t: (t * 9/5) + 32, ctemps)))\n",
    "\n",
    "if __name__ == \"__main__\":\n",
    "    main()\n",
    "\n"
   ]
  },
  {
   "cell_type": "code",
   "execution_count": 17,
   "id": "07ff720a",
   "metadata": {},
   "outputs": [
    {
     "name": "stdout",
     "output_type": "stream",
     "text": [
      "Point(x=10, y=20) Point(x=30, y=40)\n",
      "10 40\n"
     ]
    }
   ],
   "source": [
    "# ----------------------\n",
    "# 4 ADVANCED COLLECTIONS\n",
    "# ----------------------\n",
    "\n",
    "# list - mutable sequence of values i.e. values can be changed after creation\n",
    "# tuple - fixedsequence of values cannot be changed after creation\n",
    "\n",
    "# 4.1 NAMEDTUPLE\n",
    "# tuple with named fielda\n",
    "\n",
    "import collections\n",
    "\n",
    "def main():\n",
    "    Point = collections.namedtuple(\"Point\", \"x y\")\n",
    "    p1 = Point(10, 20)\n",
    "    p2 = Point(30, 40)\n",
    "    print(p1, p2)\n",
    "    print(p1.x, p2.y)\n",
    "\n",
    "if __name__ == \"__main__\":\n",
    "    main()\n"
   ]
  },
  {
   "cell_type": "code",
   "execution_count": 18,
   "id": "cddb139d",
   "metadata": {},
   "outputs": [
    {
     "name": "stdout",
     "output_type": "stream",
     "text": [
      "apple: 2\n",
      "pear: 1\n",
      "orange: 1\n",
      "banana: 3\n",
      "grape: 1\n"
     ]
    }
   ],
   "source": [
    "# 4.2 ORDEREDDICT, DEFAULTDICT\n",
    "# dictionary with special properties\n",
    "\n",
    "from collections import defaultdict\n",
    "\n",
    "def main():\n",
    "    fruits = ['apple', 'pear', 'orange', 'banana',\n",
    "              'apple', 'grape', 'banana', 'banana']\n",
    "\n",
    "    fruitCounter = defaultdict(int)\n",
    "\n",
    "    for fruit in fruits:\n",
    "            fruitCounter[fruit] += 1\n",
    "\n",
    "    for (k, v) in fruitCounter.items():\n",
    "        print(k + \": \" + str(v))\n",
    "\n",
    "if __name__ == \"__main__\":\n",
    "    main()"
   ]
  },
  {
   "cell_type": "code",
   "execution_count": 19,
   "id": "575b5166",
   "metadata": {},
   "outputs": [
    {
     "name": "stdout",
     "output_type": "stream",
     "text": [
      "2\n",
      "12  students in class 1\n",
      "[('James', 2), ('Bob', 1), ('Becky', 1)]\n"
     ]
    }
   ],
   "source": [
    "# 4.3 COUNTER\n",
    "# counts distinct values\n",
    "\n",
    "from collections import Counter\n",
    "\n",
    "def main():\n",
    "    class1 = [\"Bob\",\"Becky\", \"Chad\", \"Darcy\", \"Frank\", \"Hannah\",\n",
    "              \"Kevin\", \"James\", \"James\", \"Melanie\", \"Penny\", \"Steve\"]\n",
    "    class2 =  [\"Bill\", \"Barry\", \"Cindy\", \"Debbie\", \"Frank\",\n",
    "               \"Gabby\", \"Kelly\", \"James\", \"Joe\", \"Sam\", \"Tara\", \"Ziggy\"]\n",
    "\n",
    "    c1 = Counter(class1)\n",
    "    c2 = Counter(class2)\n",
    "\n",
    "    print(c1[\"James\"])\n",
    "    print(sum(c1.values()), \" students in class 1\")\n",
    "    print(c1.most_common(3))\n",
    "\n",
    "if __name__ == \"__main__\":\n",
    "    main()\n"
   ]
  },
  {
   "cell_type": "code",
   "execution_count": 20,
   "id": "65842742",
   "metadata": {},
   "outputs": [
    {
     "name": "stdout",
     "output_type": "stream",
     "text": [
      "OrderedDict([('Warriors', (25, 5)), ('Rockets', (24, 6)), ('Dragons', (22, 8)), ('Cardinals', (20, 10)), ('Chargers', (20, 10)), ('Royals', (18, 12)), ('Jets', (16, 14)), ('Kings', (15, 15))])\n",
      "Top team:  Warriors (25, 5)\n",
      "1 Rockets\n",
      "2 Dragons\n",
      "3 Cardinals\n",
      "4 Chargers\n",
      "Equality test:  True\n"
     ]
    }
   ],
   "source": [
    "# 4.4 ORDEREDDICT\n",
    "\n",
    "from collections import OrderedDict\n",
    "\n",
    "def main():\n",
    "    sportTeams = [(\"Royals\", (18, 12)), (\"Rockets\", (24, 6)),\n",
    "               (\"Cardinals\", (20, 10)), (\"Dragons\", (22, 8)),\n",
    "               (\"Kings\", (15, 15)), (\"Chargers\", (20, 10)),\n",
    "               (\"Jets\", (16, 14)), (\"Warriors\", (25, 5))]\n",
    "\n",
    "    sortedTeams = sorted(sportTeams, key = lambda t: t[1][0], reverse = True)\n",
    "\n",
    "    # create ordered dictionary\n",
    "    teams = OrderedDict(sortedTeams)\n",
    "    print(teams)\n",
    "\n",
    "    # remove the top item\n",
    "    tm, wl = teams.popitem(False)\n",
    "    print(\"Top team: \", tm, wl)\n",
    "\n",
    "    # the next 4 ite,s\n",
    "    for i, team in enumerate(teams, start = 1):\n",
    "        print(i, team)\n",
    "        if i == 4:\n",
    "            break\n",
    "\n",
    "    a = OrderedDict({\"a\" : 1, \"b\" : 2, \"c\" : 3})\n",
    "    b = OrderedDict({\"a\" : 1, \"b\" : 2, \"c\" : 3})\n",
    "    print(\"Equality test: \", a == b)\n",
    "\n",
    "if __name__ == \"__main__\":\n",
    "    main()\n"
   ]
  },
  {
   "cell_type": "code",
   "execution_count": 21,
   "id": "3c86ec6d",
   "metadata": {},
   "outputs": [
    {
     "name": "stdout",
     "output_type": "stream",
     "text": [
      "Item count:  26\n",
      "A,B,C,D,E,F,G,H,I,J,K,L,M,N,O,P,Q,R,S,T,U,V,W,X,Y,Z,deque([1, 'b', 'c', 'd', 'e', 'f', 'g', 'h', 'i', 'j', 'k', 'l', 'm', 'n', 'o', 'p', 'q', 'r', 's', 't', 'u', 'v', 'w', 'x', 'y', 2])\n",
      "deque(['q', 'r', 's', 't', 'u', 'v', 'w', 'x', 'y', 2, 1, 'b', 'c', 'd', 'e', 'f', 'g', 'h', 'i', 'j', 'k', 'l', 'm', 'n', 'o', 'p'])\n"
     ]
    }
   ],
   "source": [
    "# 4.5 DEQUE\n",
    "# double-ended object list\n",
    "# pop data from either side, double-ended queue\n",
    "# to add items to start of collection, use appendleft()\n",
    "# to add items to end of collection, use append()\n",
    "# similarly, remove items using pop() or popleft()\n",
    "# rotate() positive numbers rotate to right, negative rotate to the left\n",
    "\n",
    "import collections\n",
    "import string\n",
    "\n",
    "def main():\n",
    "    d = collections.deque(string.ascii_lowercase)\n",
    "\n",
    "    print(\"Item count: \", str(len(d)))\n",
    "    for elem in d:\n",
    "        print(elem.upper(), end = \",\")\n",
    "\n",
    "    d.pop()\n",
    "    d.popleft()\n",
    "    d.append(2)\n",
    "    d.appendleft(1)\n",
    "    print(d)\n",
    "\n",
    "    d.rotate(10)\n",
    "    print(d)\n",
    "\n",
    "if __name__ == \"__main__\":\n",
    "    main()\n"
   ]
  },
  {
   "cell_type": "code",
   "execution_count": 22,
   "id": "097f60f7",
   "metadata": {},
   "outputs": [
    {
     "name": "stdout",
     "output_type": "stream",
     "text": [
      "Fruit.APPLE\n",
      "<enum 'Fruit'>\n",
      "<Fruit.APPLE: 1>\n",
      "APPLE 1\n",
      "5\n"
     ]
    }
   ],
   "source": [
    "# ----------------------------\n",
    "# 5 ADVANCED CLASSES & OBJECTS\n",
    "# ----------------------------\n",
    "\n",
    "# 5.1 DEFINE ENUMERATION\n",
    "# Cannot have duplicate keys e.g. 2 x APPLE, but can have duplicate values\n",
    "# Use unique to enforce uniqueness integrity in values\n",
    "\n",
    "from enum import Enum, unique, auto\n",
    "\n",
    "@unique\n",
    "class Fruit(Enum):\n",
    "    APPLE = 1\n",
    "    BANANA = 2\n",
    "    ORANGE = 3\n",
    "    TOMATO = 4\n",
    "    PEAR = auto()\n",
    "\n",
    "def main():\n",
    "    pass\n",
    "\n",
    "    print(Fruit.APPLE)\n",
    "    print(type(Fruit.APPLE))\n",
    "    print(repr(Fruit.APPLE))\n",
    "\n",
    "    # enums have separaye name and value properties\n",
    "    print(Fruit.APPLE.name, Fruit.APPLE.value)\n",
    "\n",
    "    # auto-generated value will recognise existing vslues and assign next unused in sequence\n",
    "    print(Fruit.PEAR.value)\n",
    "\n",
    "    # enums can be used as hash values i.e. keys\n",
    "    myFruits = {}\n",
    "    myFruits[Fruit.BANANA] = \"Come Mr Superman\"\n",
    "\n",
    "if __name__ == \"__main__\":\n",
    "    main()\n",
    "\n"
   ]
  },
  {
   "cell_type": "code",
   "execution_count": 23,
   "id": "325abba9",
   "metadata": {},
   "outputs": [
    {
     "name": "stdout",
     "output_type": "stream",
     "text": [
      "<Person Class - fname:Joe, lname:Marini, age:25\n",
      "<Person Class - fname:Joe, lname:Marini, age:25\n",
      "Formatted: <Person Class - fname:Joe, lname:Marini, age:25\n"
     ]
    }
   ],
   "source": [
    "# 5.2 CLASS STRING VALUES\n",
    "\n",
    "# str(object), print(object), \"{0}\".format(object)\n",
    "# repr(object)\n",
    "# format(object, format_spec)\n",
    "# bytes(object)\n",
    "\n",
    "class Person():\n",
    "    def __init__(self):\n",
    "        self.fname = \"Joe\"\n",
    "        self.lname = \"Marini\"\n",
    "        self.age = 25\n",
    "\n",
    "    # use __repr__ to create a useful string for debugging\n",
    "    def __repr__(self):\n",
    "        return \"<Person Class - fname:{0}, lname:{1}, age:{2}\".format(\n",
    "            self.fname, self.lname, self.age\n",
    "        )\n",
    "\n",
    "    # give class ability to convert into bytes\n",
    "    def __bytes__(self):\n",
    "        val = \"Person:{0}:{1}:{2}\".format(\n",
    "            self.fname, self.lname, self.age\n",
    "        )\n",
    "        return bytes(val.encode('utf-8'))\n",
    "\n",
    "def main():\n",
    "    cls1 = Person()\n",
    "\n",
    "    print(repr(cls1))\n",
    "    print(str(cls1))\n",
    "    print(\"Formatted: {0}\".format(cls1))\n",
    "\n",
    "if __name__ == \"__main__\":\n",
    "    main()\n"
   ]
  },
  {
   "cell_type": "code",
   "execution_count": 24,
   "id": "7d1d138b",
   "metadata": {},
   "outputs": [
    {
     "name": "stdout",
     "output_type": "stream",
     "text": [
      "(50, 75, 100)\n",
      "#324b64\n",
      "(125, 200, 86)\n",
      "#7dc856\n"
     ]
    }
   ],
   "source": [
    "# 5.3 COMPUTED ATTRIBUTES\n",
    "# controls how attributes are retrieved from the object\n",
    "# __getattr__() is only called when requested attribute cannot be found on object\n",
    "# __getattribute__() unconditionally called when attribute is requested\n",
    "# __setattr__ is called when an attribute isset on an object\n",
    "# __delattr__() called to delete an attribute\n",
    "# __dir__() called when dir function is used on the object\n",
    "\n",
    "class myColour():\n",
    "    def __init__(self):\n",
    "        self.red = 50\n",
    "        self.green = 75\n",
    "        self.blue = 100\n",
    "\n",
    "    # use geattr to dynamically return a value\n",
    "    def __getattr__(self, attr):\n",
    "            if attr == \"rgbcolor\":\n",
    "                return (self.red, self.green, self.blue)\n",
    "            elif attr == \"hexcolor\":\n",
    "                return \"#{0:02x}{1:02x}{2:02x}\".format(\n",
    "                    self.red, self.green, self.blue\n",
    "                  )\n",
    "            else:\n",
    "                raise AtributeError\n",
    "\n",
    "    # use setattr to dynamically return a value\n",
    "    def __setattr__(self, attr, val):\n",
    "        if attr == \"rgbcolor\":\n",
    "            self.red = val[0]\n",
    "            self.green = val[1]\n",
    "            self.blue = val[2]\n",
    "        else:\n",
    "            super().__setattr__(attr, val)\n",
    "\n",
    "    # use dir to list the available properties\n",
    "    def __dir__(self):\n",
    "        return(\"red\", \"green\", \"blue\", \"rgbcolor\", \"hexcolor\")\n",
    "\n",
    "def main():\n",
    "    cls1 = myColour()\n",
    "    print(cls1.rgbcolor)\n",
    "    print(cls1.hexcolor)\n",
    "\n",
    "    # setting value of computed attribute\n",
    "    cls1.rgbcolor = (125, 200, 86)\n",
    "    print(cls1.rgbcolor)\n",
    "    print(cls1.hexcolor)\n",
    "\n",
    "if __name__ == \"__main__\":\n",
    "    main()\n"
   ]
  },
  {
   "cell_type": "code",
   "execution_count": 25,
   "id": "990ee741",
   "metadata": {},
   "outputs": [
    {
     "ename": "NameError",
     "evalue": "name 'Point' is not defined",
     "output_type": "error",
     "traceback": [
      "\u001b[1;31m---------------------------------------------------------------------------\u001b[0m",
      "\u001b[1;31mNameError\u001b[0m                                 Traceback (most recent call last)",
      "Cell \u001b[1;32mIn[25], line 13\u001b[0m\n\u001b[0;32m      1\u001b[0m \u001b[38;5;66;03m# 5.4 OBJECT OPERATIONS\u001b[39;00m\n\u001b[0;32m      2\u001b[0m \u001b[38;5;66;03m# Numeric Function                   Called when\u001b[39;00m\n\u001b[0;32m      3\u001b[0m \u001b[38;5;66;03m# object.__iadd__(self, other)       self += other   \u001b[39;00m\n\u001b[1;32m   (...)\u001b[0m\n\u001b[0;32m     10\u001b[0m \u001b[38;5;66;03m# object.__ior__(self, other)        self != other\u001b[39;00m\n\u001b[0;32m     11\u001b[0m \u001b[38;5;66;03m# python also supports \"in-place\" opeations on objects\u001b[39;00m\n\u001b[1;32m---> 13\u001b[0m \u001b[38;5;28;43;01mclass\u001b[39;49;00m\u001b[43m \u001b[49m\u001b[38;5;21;43;01mPoint\u001b[39;49;00m\u001b[43m(\u001b[49m\u001b[43m)\u001b[49m\u001b[43m:\u001b[49m\n\u001b[0;32m     14\u001b[0m \u001b[43m    \u001b[49m\u001b[38;5;28;43;01mdef\u001b[39;49;00m\u001b[43m \u001b[49m\u001b[38;5;21;43m__init__\u001b[39;49m\u001b[43m(\u001b[49m\u001b[38;5;28;43mself\u001b[39;49m\u001b[43m,\u001b[49m\u001b[43m \u001b[49m\u001b[43mx\u001b[49m\u001b[43m,\u001b[49m\u001b[43m \u001b[49m\u001b[43my\u001b[49m\u001b[43m)\u001b[49m\u001b[43m:\u001b[49m\n\u001b[0;32m     15\u001b[0m \u001b[43m        \u001b[49m\u001b[38;5;28;43mself\u001b[39;49m\u001b[38;5;241;43m.\u001b[39;49m\u001b[43mx\u001b[49m\u001b[43m \u001b[49m\u001b[38;5;241;43m=\u001b[39;49m\u001b[43m \u001b[49m\u001b[43mx\u001b[49m\n",
      "Cell \u001b[1;32mIn[25], line 35\u001b[0m, in \u001b[0;36mPoint\u001b[1;34m()\u001b[0m\n\u001b[0;32m     31\u001b[0m         \u001b[38;5;28;01mreturn\u001b[39;00m \u001b[38;5;28mself\u001b[39m\n\u001b[0;32m     33\u001b[0m \u001b[38;5;66;03m#def main():\u001b[39;00m\n\u001b[0;32m     34\u001b[0m     \u001b[38;5;66;03m# decl are points then add\u001b[39;00m\n\u001b[1;32m---> 35\u001b[0m     p1 \u001b[38;5;241m=\u001b[39m \u001b[43mPoint\u001b[49m(\u001b[38;5;241m10\u001b[39m, \u001b[38;5;241m20\u001b[39m)\n\u001b[0;32m     36\u001b[0m     p2 \u001b[38;5;241m=\u001b[39m Point(\u001b[38;5;241m30\u001b[39m, \u001b[38;5;241m30\u001b[39m)\n\u001b[0;32m     37\u001b[0m     \u001b[38;5;28mprint\u001b[39m(p1, p2)\n",
      "\u001b[1;31mNameError\u001b[0m: name 'Point' is not defined"
     ]
    }
   ],
   "source": [
    "# 5.4 OBJECT OPERATIONS\n",
    "# Numeric Function                   Called when\n",
    "# object.__iadd__(self, other)       self += other   \n",
    "# object.__isub__(self, other)       self -= other\n",
    "# object.__imul__(self, other)       self *= other\n",
    "# object.__itruediv__(self, other)   self /= other\n",
    "# object.__ifloordiv__(self, other)  self //= other\n",
    "# object.__ipow__(self, other)       self **= other\n",
    "# object.__iand__(self, other)       self &= other\n",
    "# object.__ior__(self, other)        self != other\n",
    "# python also supports \"in-place\" opeations on objects\n",
    "\n",
    "class Point():\n",
    "    def __init__(self, x, y):\n",
    "        self.x = x\n",
    "        self.y = y\n",
    "\n",
    "    def __repr__(self):\n",
    "        return \"<Point x:{0},y:{1}>\".format(self.x, self.y)\n",
    "\n",
    "    def __add__(self, other):\n",
    "        return Point(self.x + other.x, self.y + other.y)\n",
    "\n",
    "    def __sub__(self, other):\n",
    "        return Point(self.x - other.x, self.y - other.y)\n",
    "\n",
    "    # coded differently because it is modifying the object itself\n",
    "    def __iadd__(self, other):\n",
    "        self.x += other.x\n",
    "        self.y += other.y\n",
    "        return self\n",
    "\n",
    "#def main():\n",
    "    # decl are points then add\n",
    "    p1 = Point(10, 20)\n",
    "    p2 = Point(30, 30)\n",
    "    print(p1, p2)\n",
    "\n",
    "    p3 = p1 + p2\n",
    "    print(p3)\n",
    "\n",
    "    p4 = p2 - 1\n",
    "    print(p4)\n",
    "\n",
    "    p1 += p2\n",
    "    print(p1)\n",
    "\n",
    "if __name__ == \"__main__\":\n",
    "    main()\n"
   ]
  },
  {
   "cell_type": "code",
   "execution_count": 26,
   "id": "560d640e",
   "metadata": {},
   "outputs": [
    {
     "name": "stdout",
     "output_type": "stream",
     "text": [
      "False\n",
      "True\n",
      "Doe\n",
      "Sims\n",
      "Durden\n",
      "Robinson\n",
      "Smith\n"
     ]
    }
   ],
   "source": [
    "# 5.5 OBJECT COMPANIONS / CLASS COMPARISON OPERATORS\n",
    "# Comparison function          Called when     \n",
    "# object.__gt__(self, other)   self > other\n",
    "# object.__ge__(self, other)   self >= other\n",
    "# object.__It__(self, other)   self < other\n",
    "# object.__le__(self, other)   self <= other\n",
    "# object.__eq__(self, other)   self == other\n",
    "# object.__ne__(self, other)   self != other\n",
    "\n",
    "class Employee():\n",
    "    def __init__(self, fname, lname, level, yrsService):\n",
    "        self.fname = fname\n",
    "        self.lname = lname\n",
    "        self.level = level\n",
    "        self.seniority = yrsService\n",
    "\n",
    "    def __ge__(self, other):\n",
    "        if (self.level == other.level):\n",
    "            return self.seniority >= other.seniority\n",
    "        return self.level >= other.level\n",
    "\n",
    "    def __gt__(self, other):\n",
    "        if (self.level == other.level):\n",
    "            return self.seniority > other.seniority\n",
    "        return self.level > other.level\n",
    "\n",
    "    def __lt__(self, other):\n",
    "        if (self.level == other.level):\n",
    "            return self.seniority < other.seniority\n",
    "        return self.level < other.level\n",
    "\n",
    "    def __le__(self, other):\n",
    "        if (self.level == other.level):\n",
    "            return self.seniority <= other.seniority\n",
    "        return self.level <= other.level\n",
    "\n",
    "    def __eq__(self, other):\n",
    "        pass\n",
    "\n",
    "def main():\n",
    "    dept = []\n",
    "    dept.append(Employee(\"Tim\", \"Sims\", 5, 9))\n",
    "    dept.append(Employee(\"John\", \"Doe\", 4, 12))\n",
    "    dept.append(Employee(\"Jane\", \"Smith\", 6, 6))\n",
    "    dept.append(Employee(\"Rebecca\", \"Robinson\", 5, 13))\n",
    "    dept.append(Employee(\"Tyler\", \"Durden\", 5, 12))\n",
    "\n",
    "    # who's most senior\n",
    "    print(dept[0] > dept[2])\n",
    "    print(dept[4] < dept[3])\n",
    "\n",
    "    emps = sorted(dept)\n",
    "    for emp in emps:\n",
    "        print(emp.lname)\n",
    "\n",
    "if __name__ == \"__main__\":\n",
    "    main()\n"
   ]
  },
  {
   "cell_type": "code",
   "execution_count": 30,
   "id": "5f8f701f",
   "metadata": {},
   "outputs": [],
   "source": [
    "# ---------\n",
    "# 6 LOGGING\n",
    "# ---------\n",
    "\n",
    "# 6.1 BASIC LOGGING\n",
    "# by default, the logging module only allows warning messages or greater severity\n",
    "# for lower level debug and info messages, it can be configured\n",
    "# by setting the level argument\n",
    "# e.g. logging.basicConfig(level=logging.DEBUG)\n",
    "\n",
    "import logging\n",
    "\n",
    "def main():\n",
    "\n",
    "    logging.basicConfig(level=logging.DEBUG,\n",
    "                        filename = \"output.log\",\n",
    "                        filemode = \"w\")\n",
    "\n",
    "    # once the log file is created, subsequent logging is appended to end of file\n",
    "    logging.debug(\"This is a debug message\")\n",
    "    logging.info(\"This is an info message\")\n",
    "    logging.warning(\"This is a warning message\")\n",
    "    logging.error(\"This is an error message\")\n",
    "    logging.critical(\"This isna critical message\")\n",
    "\n",
    "    logging.info(\"Here's a {} variable and an int:\".format(\"string\", 10))\n",
    "\n",
    "if __name__ == \"__main__\":\n",
    "    main()\n"
   ]
  },
  {
   "cell_type": "code",
   "execution_count": 31,
   "id": "d742da14",
   "metadata": {},
   "outputs": [],
   "source": [
    "# 6.2 CUSTOM LOGGING\n",
    "# basicConfig(\n",
    "#   format = , <-- string that controls precise formatting of message output\n",
    "#   datefmt = )\n",
    "# examples of tokens that can be used in formatting parameter\n",
    "# %(asctime)s   human readable dateformat when log was created\n",
    "# %(filename)s  file namenwhere log message originated\n",
    "# %(funcName)s  function where log originated\n",
    "# %(levelname)s string representation of message level\n",
    "# %(levelno)d   numeric representation of messagr level\n",
    "# %(lineno)d    source line number where logging call issued\n",
    "# %(message)s   logged message string\n",
    "\n",
    "# basicConfig() can only be called once. Subsequent attempts are ignored\n",
    "\n",
    "# embed custom data into the log message, do so by\n",
    "# using the logging functions, in that each takes an extra parameter named extra\n",
    "# which can be set to a dictionary object that contains key-value pairs\n",
    "\n",
    "import logging\n",
    "\n",
    "extraData = {\n",
    "        'user' : 'Supermam'\n",
    "    }\n",
    "\n",
    "def anotherFunction():\n",
    "    logging.debug(\"This is a debug-level message\", extra = extraData)\n",
    "\n",
    "def main():\n",
    "    fmtstr = \"User:%(user)s %(asctime)s: %(levelname)s: %(funcNamr)s Line:%(lineo)d %(message)s\"\n",
    "    datestr = \"%m/%d/%Y %I:%M:%S %p\"\n",
    "\n",
    "    logging.basicConfig(level=logging.DEBUG,\n",
    "                        filename = \"output.log\",\n",
    "                        filemode = \"w\",\n",
    "                        format = fmtstr,\n",
    "                        datefmt = datestr)\n",
    "\n",
    "    # once the log file is created, subsequent logging is appended to end of file\n",
    "    logging.info(\"This is an info message\", extra = extraData)\n",
    "    logging.warning(\"This is a warning message\", extra = extraData)\n",
    "    anotherFunction()\n",
    "\n",
    "if __name__ == \"__main__\":\n",
    "    main()\n"
   ]
  },
  {
   "cell_type": "code",
   "execution_count": 32,
   "id": "ad2001e7",
   "metadata": {},
   "outputs": [
    {
     "name": "stdout",
     "output_type": "stream",
     "text": [
      "[36, 64, 100, 144, 196]\n",
      "[4, 16, 36, 64, 100, 144, 196, 256, 324, 400]\n",
      "[25, 49, 81, 121, 169, 225]\n"
     ]
    }
   ],
   "source": [
    "# -----------------------\n",
    "# 7 PYTHON COMPREHENSIONS\n",
    "# -----------------------\n",
    "\n",
    "# can be applied to list, sets, and dictionaries\n",
    "# example: the map function applies another function to a list\n",
    "#          and if wrapped inside a list, generates the output as a new list\n",
    "# i.e. list(map(FahrenheotToCelsius, [32, 65, 104, 212])\n",
    "# an alternative to this is using comprhensions, which streamlines the code\n",
    "# the following code is the equivalent of the above\n",
    "# e.g. [ (t * 9/5) + 32 for t in [32, 65, 104, 212] ]\n",
    "\n",
    "# 7.1 LIST COMPREHENSIONS\n",
    "\n",
    "def main():\n",
    "    evens = [2, 4, 6, 8, 10, 12, 14, 16, 18, 20]\n",
    "    odds = [1, 3, 5, 7, 9, 11, 13, 15, 17, 19]\n",
    "\n",
    "    # traditional mapping and filter\n",
    "    evenSquared = list(\n",
    "        map(lambda e: e ** 2, filter(lambda e: e > 4 and e < 16, evens)))\n",
    "    print(evenSquared)\n",
    "\n",
    "    # comprehension version\n",
    "    evenSquared = [e ** 2 for e in evens]\n",
    "    print(evenSquared)\n",
    "    \n",
    "    # comprehension version using predicate for filter\n",
    "    oddSquared = [e ** 2 for e in odds if e > 3 and e < 17]\n",
    "    print(oddSquared)\n",
    "\n",
    "if __name__ == \"__main__\":\n",
    "    main()\n",
    "\n"
   ]
  },
  {
   "cell_type": "code",
   "execution_count": null,
   "id": "e82926c1",
   "metadata": {},
   "outputs": [],
   "source": []
  }
 ],
 "metadata": {
  "kernelspec": {
   "display_name": "Python 3 (ipykernel)",
   "language": "python",
   "name": "python3"
  },
  "language_info": {
   "codemirror_mode": {
    "name": "ipython",
    "version": 3
   },
   "file_extension": ".py",
   "mimetype": "text/x-python",
   "name": "python",
   "nbconvert_exporter": "python",
   "pygments_lexer": "ipython3",
   "version": "3.11.0"
  }
 },
 "nbformat": 4,
 "nbformat_minor": 5
}
