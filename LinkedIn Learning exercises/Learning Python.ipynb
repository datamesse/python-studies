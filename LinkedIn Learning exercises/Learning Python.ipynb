{
 "cells": [
  {
   "cell_type": "code",
   "execution_count": null,
   "id": "c355ab0d",
   "metadata": {},
   "outputs": [],
   "source": [
    "# This is my Jupyter Notebook code-along whilst going through the course\n",
    "\n",
    "# ===============\n",
    "# LEARNING PYTHON\n",
    "# ==============="
   ]
  },
  {
   "cell_type": "code",
   "execution_count": 1,
   "id": "d7f1f318",
   "metadata": {},
   "outputs": [
    {
     "name": "stdout",
     "output_type": "stream",
     "text": [
      "Hello world!\n"
     ]
    }
   ],
   "source": [
    "# 1. hello world\n",
    "\n",
    "def main():\n",
    "    print(\"Hello world!\")\n",
    "\n",
    "if __name__ == \"__main__\":\n",
    "    main()\n"
   ]
  },
  {
   "cell_type": "code",
   "execution_count": null,
   "id": "576075e3",
   "metadata": {},
   "outputs": [],
   "source": [
    "# 2. variables an expressions, strongly typed, global vs local variables\n",
    "\n"
   ]
  }
 ],
 "metadata": {
  "kernelspec": {
   "display_name": "Python 3 (ipykernel)",
   "language": "python",
   "name": "python3"
  },
  "language_info": {
   "codemirror_mode": {
    "name": "ipython",
    "version": 3
   },
   "file_extension": ".py",
   "mimetype": "text/x-python",
   "name": "python",
   "nbconvert_exporter": "python",
   "pygments_lexer": "ipython3",
   "version": "3.11.0"
  }
 },
 "nbformat": 4,
 "nbformat_minor": 5
}
