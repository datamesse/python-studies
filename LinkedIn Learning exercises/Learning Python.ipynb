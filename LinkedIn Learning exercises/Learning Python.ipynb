{
 "cells": [
  {
   "cell_type": "code",
   "execution_count": 1,
   "id": "c355ab0d",
   "metadata": {},
   "outputs": [],
   "source": [
    "# This is my Jupyter Notebook code-along whilst going through the course\n",
    "\n",
    "# ===============\n",
    "# LEARNING PYTHON\n",
    "# ===============\n",
    "\n",
    "# https://www.linkedin.com/learning/learning-python-2020"
   ]
  },
  {
   "cell_type": "code",
   "execution_count": 2,
   "id": "d7f1f318",
   "metadata": {},
   "outputs": [
    {
     "name": "stdout",
     "output_type": "stream",
     "text": [
      "Hello world!\n"
     ]
    }
   ],
   "source": [
    "# hello world\n",
    "\n",
    "def main():\n",
    "    print(\"Hello world!\")\n",
    "\n",
    "if __name__ == \"__main__\":\n",
    "    main()\n"
   ]
  },
  {
   "cell_type": "code",
   "execution_count": 3,
   "id": "576075e3",
   "metadata": {},
   "outputs": [
    {
     "name": "stdout",
     "output_type": "stream",
     "text": [
      "0\n",
      "Wonder Woman\n",
      "This is a string123\n"
     ]
    }
   ],
   "source": [
    "# variables an expressions, strongly typed, global vs local variables\n",
    "\n",
    "f = 0\n",
    "print(f)\n",
    "f = \"Wonder Woman\"\n",
    "print(f)\n",
    "print(\"This is a string\" + str(123))"
   ]
  },
  {
   "cell_type": "code",
   "execution_count": 4,
   "id": "8d3c7132",
   "metadata": {},
   "outputs": [
    {
     "name": "stdout",
     "output_type": "stream",
     "text": [
      "Batman\n"
     ]
    }
   ],
   "source": [
    "# f in this context is local to the function, \n",
    "# so no relation to the global variable of the same name\n",
    "def someFunction():\n",
    "    f = \"Batman\"\n",
    "    print(f)\n",
    "someFunction()"
   ]
  },
  {
   "cell_type": "code",
   "execution_count": 8,
   "id": "1d6400a7",
   "metadata": {},
   "outputs": [
    {
     "name": "stdout",
     "output_type": "stream",
     "text": [
      "Superman\n",
      "Superman\n"
     ]
    }
   ],
   "source": [
    "# to reference a global variable\n",
    "def someFunction():\n",
    "    global f\n",
    "    f = \"Superman\"\n",
    "    print(f)\n",
    "\n",
    "someFunction()\n",
    "print(f)\n"
   ]
  },
  {
   "cell_type": "code",
   "execution_count": 10,
   "id": "f49dce47",
   "metadata": {},
   "outputs": [
    {
     "ename": "NameError",
     "evalue": "name 'f' is not defined",
     "output_type": "error",
     "traceback": [
      "\u001b[1;31m---------------------------------------------------------------------------\u001b[0m",
      "\u001b[1;31mNameError\u001b[0m                                 Traceback (most recent call last)",
      "Cell \u001b[1;32mIn[10], line 3\u001b[0m\n\u001b[0;32m      1\u001b[0m \u001b[38;5;66;03m# delete the definition of a variable, i.e. undefine variable\u001b[39;00m\n\u001b[0;32m      2\u001b[0m \u001b[38;5;28;01mdel\u001b[39;00m f\n\u001b[1;32m----> 3\u001b[0m \u001b[38;5;28mprint\u001b[39m(\u001b[43mf\u001b[49m)\n",
      "\u001b[1;31mNameError\u001b[0m: name 'f' is not defined"
     ]
    }
   ],
   "source": [
    "# delete the definition of a variable, i.e. undefine variable\n",
    "# i.e. results in error unable t print it because not defined\n",
    "\n",
    "del f\n",
    "print(f)"
   ]
  },
  {
   "cell_type": "code",
   "execution_count": 12,
   "id": "5812ea18",
   "metadata": {},
   "outputs": [
    {
     "name": "stdout",
     "output_type": "stream",
     "text": [
      "I am a function\n",
      "I am a function\n",
      "None\n",
      "<function func1 at 0x000001C786B78040>\n"
     ]
    }
   ],
   "source": [
    "# ---------\n",
    "# FUNCTIONS\n",
    "# ---------\n",
    "\n",
    "def func1():\n",
    "    print(\"I am a function\")\n",
    "\n",
    "func1()\n",
    "print (func1())\n",
    "print (func1)"
   ]
  },
  {
   "cell_type": "code",
   "execution_count": 14,
   "id": "88cd234f",
   "metadata": {},
   "outputs": [
    {
     "name": "stdout",
     "output_type": "stream",
     "text": [
      "10   20\n",
      "10   20\n",
      "None\n",
      "27\n"
     ]
    }
   ],
   "source": [
    "# take arguments\n",
    "\n",
    "def func2(arg1,arg2):\n",
    "    print(arg1, \" \", arg2)\n",
    "\n",
    "def cube(x):\n",
    "    return x * x * x\n",
    "\n",
    "func2(10,20)\n",
    "print(func2(10,20))\n",
    "print (cube(3))"
   ]
  },
  {
   "cell_type": "code",
   "execution_count": 15,
   "id": "eafb48b6",
   "metadata": {},
   "outputs": [
    {
     "name": "stdout",
     "output_type": "stream",
     "text": [
      "2\n",
      "8\n",
      "8\n"
     ]
    }
   ],
   "source": [
    "# default value for an argument\n",
    "\n",
    "def power(num, x = 1 ):\n",
    "    result = 1\n",
    "    for i in range(x):\n",
    "        result = result * num\n",
    "    return result\n",
    "\n",
    "print (power(2))\n",
    "print (power(2,3))\n",
    "print (power(x = 3, num = 2))"
   ]
  },
  {
   "cell_type": "code",
   "execution_count": 17,
   "id": "1fec9bda",
   "metadata": {},
   "outputs": [
    {
     "name": "stdout",
     "output_type": "stream",
     "text": [
      "15\n",
      "40\n"
     ]
    }
   ],
   "source": [
    "# variable number of arguments in list\n",
    "# can combine a set of formal arguments with a variable argument list,\n",
    "# but the variable argument list should always be the last parameter\n",
    "\n",
    "def multi_add(*args):\n",
    "    result = 0\n",
    "    for x in args:\n",
    "        result = result + x\n",
    "    return result\n",
    "\n",
    "print (multi_add(1, 2, 3, 4, 5))\n",
    "print (multi_add(6, 7, 8, 9, 10))\n"
   ]
  },
  {
   "cell_type": "code",
   "execution_count": 18,
   "id": "21a2dcf4",
   "metadata": {},
   "outputs": [
    {
     "name": "stdout",
     "output_type": "stream",
     "text": [
      "x is the same as y\n"
     ]
    }
   ],
   "source": [
    "# ------------\n",
    "# CONDITIONALS\n",
    "# ------------\n",
    "\n",
    "def main():\n",
    "    x, y = 100, 100\n",
    "    if (x < y):\n",
    "        st = \"x is less than y\"\n",
    "    elif (x == y):\n",
    "        st = \"x is the same as y\"\n",
    "    else:\n",
    "        st = \"x is greater than y\"\n",
    "    print(st)\n",
    "main()\n"
   ]
  },
  {
   "cell_type": "code",
   "execution_count": 19,
   "id": "fe8000ff",
   "metadata": {},
   "outputs": [
    {
     "name": "stdout",
     "output_type": "stream",
     "text": [
      "x is greater than or the same as y\n"
     ]
    }
   ],
   "source": [
    "# conditional statement, is an if else statement all in one line\n",
    "\n",
    "def main2(): \n",
    "    x, y, = 100, 100\n",
    "    st = \"x is less than y\" if (x < y) else \"x is greater than or the same as y\"\n",
    "    print(st)\n",
    "main2()\n"
   ]
  },
  {
   "cell_type": "code",
   "execution_count": 20,
   "id": "5a9c0de4",
   "metadata": {},
   "outputs": [
    {
     "name": "stdout",
     "output_type": "stream",
     "text": [
      "0\n",
      "1\n",
      "2\n",
      "3\n",
      "4\n"
     ]
    }
   ],
   "source": [
    "# -----\n",
    "# LOOPS\n",
    "# -----\n",
    "\n",
    "def main_whileloop():\n",
    "    x = 0\n",
    "    while (x < 5):\n",
    "        print(x)\n",
    "        x = x + 1\n",
    "main_whileloop()\n",
    "\n",
    "\n"
   ]
  },
  {
   "cell_type": "code",
   "execution_count": 1,
   "id": "14ec6f56",
   "metadata": {},
   "outputs": [
    {
     "name": "stdout",
     "output_type": "stream",
     "text": [
      "5\n",
      "6\n",
      "7\n",
      "8\n",
      "9\n"
     ]
    }
   ],
   "source": [
    "def main_forloop():\n",
    "    x = 0\n",
    "    for x in range(5, 10):\n",
    "        print(x)\n",
    "main_forloop()"
   ]
  },
  {
   "cell_type": "code",
   "execution_count": 2,
   "id": "b78c45e4",
   "metadata": {},
   "outputs": [
    {
     "name": "stdout",
     "output_type": "stream",
     "text": [
      "Mon\n",
      "Tue\n",
      "Wed\n",
      "Thu\n",
      "Fri\n",
      "Sat\n",
      "Sun\n"
     ]
    }
   ],
   "source": [
    "# loop over a collection\n",
    "\n",
    "def main_forcollection():\n",
    "    days = [\"Mon\", \"Tue\", \"Wed\", \"Thu\", \"Fri\", \"Sat\", \"Sun\"]\n",
    "    for d in days:\n",
    "        print (d)\n",
    "main_forcollection()"
   ]
  },
  {
   "cell_type": "code",
   "execution_count": 3,
   "id": "97fda5bf",
   "metadata": {},
   "outputs": [
    {
     "name": "stdout",
     "output_type": "stream",
     "text": [
      "5\n",
      "6\n"
     ]
    }
   ],
   "source": [
    "# break and continue statements\n",
    "\n",
    "def main_break():\n",
    "    for x in range(5,10):\n",
    "        if (x == 7): break\n",
    "        print(x)\n",
    "main_break()"
   ]
  },
  {
   "cell_type": "code",
   "execution_count": 4,
   "id": "b56931d1",
   "metadata": {},
   "outputs": [
    {
     "name": "stdout",
     "output_type": "stream",
     "text": [
      "9\n"
     ]
    }
   ],
   "source": [
    "# continue skips the execution of the rest of the loop for that iteration\n",
    "\n",
    "def main_continue():\n",
    "    for x in range(1,10):\n",
    "        if (x % 2 == 0): continue\n",
    "    print(x)\n",
    "main_continue()\n"
   ]
  },
  {
   "cell_type": "code",
   "execution_count": 11,
   "id": "3ff8b292",
   "metadata": {},
   "outputs": [
    {
     "name": "stdout",
     "output_type": "stream",
     "text": [
      "0 Mon\n",
      "1 Tue\n",
      "2 Wed\n",
      "3 Thu\n",
      "4 Fri\n",
      "5 Sat\n",
      "6 Sun\n"
     ]
    }
   ],
   "source": [
    "# enumeration to get index\n",
    "\n",
    "def main_interate_via_enumerate():\n",
    "    days = [\"Mon\", \"Tue\", \"Wed\", \"Thu\", \"Fri\", \"Sat\", \"Sun\"]\n",
    "    for i, d in enumerate(days):\n",
    "        print(i, d)\n",
    "main_interate_via_enumerate()\n"
   ]
  },
  {
   "cell_type": "code",
   "execution_count": 12,
   "id": "54acb1c6",
   "metadata": {},
   "outputs": [
    {
     "name": "stdout",
     "output_type": "stream",
     "text": [
      "myClass method1\n",
      "myClass medthod2 This is a string\n"
     ]
    }
   ],
   "source": [
    "# -------\n",
    "# CLASSES\n",
    "# -------\n",
    "\n",
    "# note self refers to the instance of the object being operated on,\n",
    "# similar to this in JavaScript\n",
    "\n",
    "class mymainClass():\n",
    "    def method1(self):\n",
    "        print(\"myClass method1\")\n",
    "    def method2(self, someString):\n",
    "        print(\"myClass medthod2 \" + someString)\n",
    "\n",
    "def main():\n",
    "    c = mymainClass()\n",
    "    c.method1()\n",
    "    c.method2(\"This is a string\")\n",
    "\n",
    "if __name__ == \"__main__\":\n",
    "    main()\n"
   ]
  },
  {
   "cell_type": "code",
   "execution_count": 13,
   "id": "8849a8ba",
   "metadata": {},
   "outputs": [
    {
     "name": "stdout",
     "output_type": "stream",
     "text": [
      "myClass method1\n",
      "mySubClass method3 from mymainClass's method1\n",
      "mySubClass method2\n"
     ]
    }
   ],
   "source": [
    "# -----------------\n",
    "# CLASS INHERITANCE\n",
    "# -----------------\n",
    "\n",
    "class mymainClass():\n",
    "    def method1(self):\n",
    "        print(\"myClass method1\")\n",
    "    def method2(self, someString):\n",
    "        print(\"myClass method2 \" + someString)\n",
    "\n",
    "class mysubClass(mymainClass):\n",
    "    def method3(self):\n",
    "        mymainClass.method1(self)\n",
    "        print(\"mySubClass method3 from mymainClass's method1\")\n",
    "    def method4(self, someString):\n",
    "        print(\"mySubClass method2\")\n",
    "\n",
    "def main():\n",
    "    c2 = mysubClass()\n",
    "    c2.method3()\n",
    "    c2.method4(\"Test\")\n",
    "\n",
    "if __name__ == \"__main__\":\n",
    "    main()\n"
   ]
  },
  {
   "cell_type": "code",
   "execution_count": 15,
   "id": "2640dc05",
   "metadata": {},
   "outputs": [
    {
     "name": "stdout",
     "output_type": "stream",
     "text": [
      "Today's date is  2022-12-06\n",
      "Date components:  6 12 2022\n",
      "Today's weekday # is:  1\n",
      "Weekday #  1  is  Tue\n",
      "The current date and time is  2022-12-06 10:03:07.705473\n",
      "10:03:07.705473\n"
     ]
    }
   ],
   "source": [
    "# -----\n",
    "# DATES\n",
    "# -----\n",
    "\n",
    "# importing predefined date and time classes\n",
    "# weekday numbers 0 = Monday to 6 = Sunday\n",
    "\n",
    "from datetime import date\n",
    "from datetime import time\n",
    "from datetime import datetime\n",
    "\n",
    "def main_datetimes():\n",
    "    today = date.today()\n",
    "    print(\"Today's date is \", today)\n",
    "    print(\"Date components: \", today.day, today.month, today.year)\n",
    "    print (\"Today's weekday # is: \", today.weekday())\n",
    "\n",
    "# use weekday as an index for days of the week which you need to declare\n",
    "    days = [\"Mon\", \"Tue\", \"Wed\", \"Thu\", \"Fri\", \"Sat\", \"Sun\"]\n",
    "    print (\"Weekday # \", today.weekday(), \" is \", days[today.weekday()])\n",
    "    today = datetime.now()\n",
    "    print (\"The current date and time is \", today)\n",
    "\n",
    "# print just the time\n",
    "    t = datetime.time(datetime.now())\n",
    "    print(t)\n",
    "\n",
    "main_datetimes()"
   ]
  },
  {
   "cell_type": "code",
   "execution_count": 17,
   "id": "1f083a04",
   "metadata": {},
   "outputs": [
    {
     "name": "stdout",
     "output_type": "stream",
     "text": [
      "The current year is: 2022\n",
      "Tue, 06 December, 22\n",
      "Locale date and time: Tue Dec  6 10:08:17 2022\n",
      "Locale date: 12/06/22\n",
      "Locale time: 10:08:17\n",
      "Current time: 10:08:17 AM\n",
      "Current time: 10:08\n"
     ]
    }
   ],
   "source": [
    "# --------------------\n",
    "# DATE TIME FORMATTING\n",
    "# --------------------\n",
    "\n",
    "from datetime import datetime\n",
    "\n",
    "def main_formatDatetime():\n",
    "    now = datetime.now()\n",
    "\n",
    "    # %y/%Y - Year, %a/$A - Weekday, %b/%B - month, %d - day of month\n",
    "    print(now.strftime(\"The current year is: %Y\"))\n",
    "    print(now.strftime(\"%a, %d %B, %y\"))\n",
    "\n",
    "    # %c - locale's date and time, %x - locale's date, %X - locale's time\n",
    "    print(now.strftime(\"Locale date and time: %c\"))\n",
    "    print(now.strftime(\"Locale date: %x\"))\n",
    "    print(now.strftime(\"Locale time: %X\"))\n",
    "\n",
    "    # %I/%H - 12/24 Hour, %M - minute, %S - second, %p - locale's AM/PM\n",
    "    print(now.strftime(\"Current time: %I:%M:%S %p\"))\n",
    "    print(now.strftime(\"Current time: %H:%M\"))\n",
    "\n",
    "main_formatDatetime()\n"
   ]
  },
  {
   "cell_type": "code",
   "execution_count": 28,
   "id": "eaf60270",
   "metadata": {},
   "outputs": [
    {
     "name": "stdout",
     "output_type": "stream",
     "text": [
      "365 days, 5:01:00\n",
      "Today is: 2022-12-06 10:40:21.981474\n",
      "One year from now it will be: 2023-12-06 10:40:21.981474\n",
      "In 2 days and 3 weeks it will be 2022-12-29 10:40:21.981474\n",
      "One week ago it was? Tuesday November 29, 2022\n"
     ]
    }
   ],
   "source": [
    "# ------------------------------------\n",
    "# MATHEMATICAL OPERATIONS ON DATE TIME\n",
    "# ------------------------------------\n",
    "\n",
    "# a \"timedelta\" is not a specific datetime, but a range\n",
    "\n",
    "from datetime import date\n",
    "from datetime import time\n",
    "from datetime import datetime\n",
    "from datetime import timedelta\n",
    "\n",
    "print(timedelta(days = 365, hours = 5, minutes = 1))\n",
    "\n",
    "now = datetime.now()\n",
    "print (\"Today is: \" + str(now))\n",
    "\n",
    "# Print today's date one year for now\n",
    "print (\"One year from now it will be: \" + str(now + timedelta(days = 365)))\n",
    "\n",
    "# Multivariable time delta\n",
    "print (\"In 2 days and 3 weeks it will be \" + str(now + timedelta(days = 2, weeks = 3)))\n",
    "\n",
    "# Going back in time\n",
    "t = datetime.now() - timedelta(weeks = 1)\n",
    "s = t.strftime(\"%A %B %d, %Y\")\n",
    "print (\"One week ago it was? \" + s)\n",
    "\n",
    "# Calculate days remaining to next specific date\n",
    "today = date.today()\n",
    "afd = date(today.year, 4, 1)\n",
    "\n",
    "# TODO figure out why this code doesn't work\n",
    "\n",
    "#if afd < today:\n",
    "#    print(\"April Fool's Day already went by %d days ago\" % ((today-afd).day))\n",
    "#    afd = afd.replace(year = today.year + 1)\n",
    "#time_to_afd = afd-today\n",
    "#print(\"It's just \", time_to_afd.days, \" days until the next April Fool's Day\")\n"
   ]
  },
  {
   "cell_type": "code",
   "execution_count": 29,
   "id": "f247ff10",
   "metadata": {},
   "outputs": [
    {
     "name": "stdout",
     "output_type": "stream",
     "text": [
      "    January 2019\n",
      "Su Mo Tu We Th Fr Sa\n",
      "       1  2  3  4  5\n",
      " 6  7  8  9 10 11 12\n",
      "13 14 15 16 17 18 19\n",
      "20 21 22 23 24 25 26\n",
      "27 28 29 30 31\n",
      "\n"
     ]
    }
   ],
   "source": [
    "# --------\n",
    "# CALENDAR\n",
    "# --------\n",
    "\n",
    "import calendar\n",
    "\n",
    "# create plain text calendar\n",
    "c = calendar.TextCalendar(calendar.SUNDAY)\n",
    "st = c.formatmonth(2019, 1, 0, 0)\n",
    "print(st)\n"
   ]
  },
  {
   "cell_type": "code",
   "execution_count": 30,
   "id": "e0a0fee4",
   "metadata": {},
   "outputs": [
    {
     "name": "stdout",
     "output_type": "stream",
     "text": [
      "<table border=\"0\" cellpadding=\"0\" cellspacing=\"0\" class=\"month\">\n",
      "<tr><th colspan=\"7\" class=\"month\">January 2019</th></tr>\n",
      "<tr><th class=\"sun\">Sun</th><th class=\"mon\">Mon</th><th class=\"tue\">Tue</th><th class=\"wed\">Wed</th><th class=\"thu\">Thu</th><th class=\"fri\">Fri</th><th class=\"sat\">Sat</th></tr>\n",
      "<tr><td class=\"noday\">&nbsp;</td><td class=\"noday\">&nbsp;</td><td class=\"tue\">1</td><td class=\"wed\">2</td><td class=\"thu\">3</td><td class=\"fri\">4</td><td class=\"sat\">5</td></tr>\n",
      "<tr><td class=\"sun\">6</td><td class=\"mon\">7</td><td class=\"tue\">8</td><td class=\"wed\">9</td><td class=\"thu\">10</td><td class=\"fri\">11</td><td class=\"sat\">12</td></tr>\n",
      "<tr><td class=\"sun\">13</td><td class=\"mon\">14</td><td class=\"tue\">15</td><td class=\"wed\">16</td><td class=\"thu\">17</td><td class=\"fri\">18</td><td class=\"sat\">19</td></tr>\n",
      "<tr><td class=\"sun\">20</td><td class=\"mon\">21</td><td class=\"tue\">22</td><td class=\"wed\">23</td><td class=\"thu\">24</td><td class=\"fri\">25</td><td class=\"sat\">26</td></tr>\n",
      "<tr><td class=\"sun\">27</td><td class=\"mon\">28</td><td class=\"tue\">29</td><td class=\"wed\">30</td><td class=\"thu\">31</td><td class=\"noday\">&nbsp;</td><td class=\"noday\">&nbsp;</td></tr>\n",
      "</table>\n",
      "\n"
     ]
    }
   ],
   "source": [
    "# create HTML formatted calendar\n",
    "hc = calendar.HTMLCalendar(calendar.SUNDAY)\n",
    "st = hc.formatmonth(2019, 1)\n",
    "print(st)\n"
   ]
  },
  {
   "cell_type": "code",
   "execution_count": 31,
   "id": "804d4cc7",
   "metadata": {},
   "outputs": [
    {
     "name": "stdout",
     "output_type": "stream",
     "text": [
      "0\n",
      "0\n",
      "0\n",
      "0\n",
      "1\n",
      "2\n",
      "3\n",
      "4\n",
      "5\n",
      "6\n",
      "7\n",
      "8\n",
      "9\n",
      "10\n",
      "11\n",
      "12\n",
      "13\n",
      "14\n",
      "15\n",
      "16\n",
      "17\n",
      "18\n",
      "19\n",
      "20\n",
      "21\n",
      "22\n",
      "23\n",
      "24\n",
      "25\n",
      "26\n",
      "27\n",
      "28\n",
      "29\n",
      "30\n",
      "31\n"
     ]
    }
   ],
   "source": [
    "# loop over days of month, \n",
    "# with 0 representing day of week is in overlapped month\n",
    "for i in c.itermonthdays(2019, 8):\n",
    "   print(i)\n"
   ]
  },
  {
   "cell_type": "code",
   "execution_count": 32,
   "id": "72d48757",
   "metadata": {},
   "outputs": [
    {
     "name": "stdout",
     "output_type": "stream",
     "text": [
      "\n",
      "January\n",
      "February\n",
      "March\n",
      "April\n",
      "May\n",
      "June\n",
      "July\n",
      "August\n",
      "September\n",
      "October\n",
      "November\n",
      "December\n"
     ]
    }
   ],
   "source": [
    "# list distinct month names\n",
    "for name in calendar.month_name:\n",
    "    print(name)"
   ]
  },
  {
   "cell_type": "code",
   "execution_count": 33,
   "id": "85c8d05e",
   "metadata": {},
   "outputs": [
    {
     "name": "stdout",
     "output_type": "stream",
     "text": [
      "Monday\n",
      "Tuesday\n",
      "Wednesday\n",
      "Thursday\n",
      "Friday\n",
      "Saturday\n",
      "Sunday\n"
     ]
    }
   ],
   "source": [
    "## list distinct full day names\n",
    "for day in calendar.day_name:\n",
    "    print(day)"
   ]
  },
  {
   "cell_type": "code",
   "execution_count": 34,
   "id": "ce80c3b1",
   "metadata": {},
   "outputs": [
    {
     "name": "stdout",
     "output_type": "stream",
     "text": [
      "Team meetings will be on: \n",
      "   January  4\n",
      "  February  1\n",
      "     March  1\n",
      "     April  5\n",
      "       May  3\n",
      "      June  7\n",
      "      July  5\n",
      "    August  2\n",
      " September  6\n",
      "   October  4\n",
      "  November  1\n",
      "  December  6\n"
     ]
    }
   ],
   "source": [
    "# calculate days based on rule e.g. 1st Friday of each month\n",
    "print (\"Team meetings will be on: \")\n",
    "for m in range(1,13):\n",
    "    cal = calendar.monthcalendar(2019, m)\n",
    "    weekone=cal[0]\n",
    "    weektwo=cal[1]\n",
    "    if weekone[calendar.FRIDAY] != 0:\n",
    "        meetday = weekone[calendar.FRIDAY]\n",
    "    else:\n",
    "        meetday = weektwo[calendar.FRIDAY]\n",
    "\n",
    "    print(\"%10s %2d\" % (calendar.month_name[m], meetday))"
   ]
  },
  {
   "cell_type": "code",
   "execution_count": 38,
   "id": "4034bef6",
   "metadata": {},
   "outputs": [],
   "source": [
    "# ---------------------\n",
    "# WRITING DATA TO FILES\n",
    "# ---------------------\n",
    "\n",
    "# no need to import any classes\n",
    "\n",
    "# TODO double-check this works without importing a class\n",
    "\n",
    "def main():\n",
    "    # open file for writing w and create if it doesn't exist +\n",
    "    f = open(\"textfile.txt\", \"w+\")\n",
    "\n",
    "    # open existing file for adding data to the end of it a\n",
    "    f = open(\"textfile.txt\", \"a\")\n",
    "\n",
    "    for i in range(10):\n",
    "        f.write(\"This is line: \" + str(i) + \"\\r\\n\")\n",
    "\n",
    "    # open the file for reading contents\n",
    "    f = open(\"textfile.txt\", \"r\")\n",
    "    if f.mode == 'r':\n",
    "        contents = f.read()\n",
    "        print(contents)\n",
    "\n",
    "    f = open(\"textfile.txt\", \"r\")\n",
    "    if f.mode == 'r':\n",
    "        fl = f.readlines()\n",
    "        for x in fl:\n",
    "            print (x)\n",
    "\n",
    "    f.close()"
   ]
  },
  {
   "cell_type": "code",
   "execution_count": 41,
   "id": "bfd1d4f7",
   "metadata": {},
   "outputs": [
    {
     "name": "stdout",
     "output_type": "stream",
     "text": [
      "nt\n",
      "Item exists: False\n",
      "Item is a file: False\n",
      "Item is a directory: False\n",
      "Item path: C:\\Program Files\\Python311\\Scripts\\- Data Science\\textfile.txt\n",
      "Item path and name: C:\\Program Files\\Python311\\Scripts\\- Data Science\\textfile.txt\n"
     ]
    }
   ],
   "source": [
    "# -----------------------------------------------\n",
    "# WORKING WITH OS OPERATING SYSTEM PATH UTILITIES\n",
    "# -----------------------------------------------\n",
    "\n",
    "import os\n",
    "from os import path\n",
    "import datetime\n",
    "from datetime import date, time, timedelta\n",
    "import time\n",
    "\n",
    "def main():\n",
    "    # Print the name of the OS\n",
    "    print(os.name)\n",
    "\n",
    "    # check if item exists and type\n",
    "    print(\"Item exists: \" + str(path.exists(\"textfile.txt\")))\n",
    "    print(\"Item is a file: \" + str(path.isfile(\"textfile.txt\")))\n",
    "    print(\"Item is a directory: \" + str(path.isdir(\"textfile.txt\")))\n",
    "\n",
    "    # work with file paths\n",
    "    print(\"Item path: \" + str(path.realpath(\"textfile.txt\")))\n",
    "    print(\"Item path and name: \" + str(path.realpath(\"textfile.txt\")))\n",
    "\n",
    "# TODO figure out why the code below does not work\n",
    "\n",
    "    # get file's modification time to a real time\n",
    "#    t = time.ctime(path.getmtime(\"textfile.txt\"))\n",
    "#    print(t)\n",
    "#    print(datetime.datetime.fromtimestamp(path.getmtime(\"textfile.txt\")))\n",
    "\n",
    "    # calculate how long ago file was modified\n",
    "#    td = datetime.datetime.now() - datetime.datetime.fromtimestamp(\n",
    "#        path.getmtime(\"textfile.txt\")\n",
    "#    )\n",
    "#    print (\"It has been \" + str(td) + \" since the file was modified\")\n",
    "#    print (\"Or, \" + str(td.total_seconds()) + \" seconds\")\n",
    "\n",
    "main()\n"
   ]
  },
  {
   "cell_type": "code",
   "execution_count": 45,
   "id": "b1b5b7a6",
   "metadata": {},
   "outputs": [
    {
     "ename": "UnboundLocalError",
     "evalue": "cannot access local variable 'src' where it is not associated with a value",
     "output_type": "error",
     "traceback": [
      "\u001b[1;31m---------------------------------------------------------------------------\u001b[0m",
      "\u001b[1;31mUnboundLocalError\u001b[0m                         Traceback (most recent call last)",
      "Cell \u001b[1;32mIn[45], line 35\u001b[0m\n\u001b[0;32m     32\u001b[0m         newzip\u001b[38;5;241m.\u001b[39mwrite(\u001b[38;5;124m\"\u001b[39m\u001b[38;5;124mtextfile.txt\u001b[39m\u001b[38;5;124m\"\u001b[39m)\n\u001b[0;32m     33\u001b[0m         newzip\u001b[38;5;241m.\u001b[39mwrite(\u001b[38;5;124m\"\u001b[39m\u001b[38;5;124mtextfile.txt.bak\u001b[39m\u001b[38;5;124m\"\u001b[39m)\n\u001b[1;32m---> 35\u001b[0m \u001b[43mmain\u001b[49m\u001b[43m(\u001b[49m\u001b[43m)\u001b[49m\n",
      "Cell \u001b[1;32mIn[45], line 27\u001b[0m, in \u001b[0;36mmain\u001b[1;34m()\u001b[0m\n\u001b[0;32m     24\u001b[0m     os\u001b[38;5;241m.\u001b[39mrename(\u001b[38;5;124m\"\u001b[39m\u001b[38;5;124mtextfile.txt\u001b[39m\u001b[38;5;124m\"\u001b[39m, \u001b[38;5;124m\"\u001b[39m\u001b[38;5;124mnewfile.txt\u001b[39m\u001b[38;5;124m\"\u001b[39m)\n\u001b[0;32m     26\u001b[0m \u001b[38;5;66;03m# put all files in folder into a zip archive\u001b[39;00m\n\u001b[1;32m---> 27\u001b[0m root_dir, tail \u001b[38;5;241m=\u001b[39m path\u001b[38;5;241m.\u001b[39msplit(\u001b[43msrc\u001b[49m)\n\u001b[0;32m     28\u001b[0m shutil\u001b[38;5;241m.\u001b[39mmake_archive(\u001b[38;5;124m\"\u001b[39m\u001b[38;5;124marchive\u001b[39m\u001b[38;5;124m\"\u001b[39m, \u001b[38;5;124m\"\u001b[39m\u001b[38;5;124mzip\u001b[39m\u001b[38;5;124m\"\u001b[39m, root_dir)\n\u001b[0;32m     30\u001b[0m \u001b[38;5;66;03m# put specific files into a zip archive\u001b[39;00m\n",
      "\u001b[1;31mUnboundLocalError\u001b[0m: cannot access local variable 'src' where it is not associated with a value"
     ]
    }
   ],
   "source": [
    "# -------------------------------------\n",
    "# MODIFY FILES USING OS SHELL UTILITIES\n",
    "# -------------------------------------\n",
    "\n",
    "import os\n",
    "from os import path\n",
    "import shutil\n",
    "from shutil import make_archive\n",
    "from zipfile import ZipFile\n",
    "\n",
    "def main():\n",
    "\n",
    "    # make a duplicate of an existing file\n",
    "    # note this only copies over the contents of the file\n",
    "    if path.exists(\"textfile.txt\"):\n",
    "        src = path.realpath(\"textfile.txt\")\n",
    "        dst = src + \".bak\"\n",
    "        shutil.copy(src, dst)\n",
    "\n",
    "    # copy over permissions, modification time, and other metadata\n",
    "        shutil.copystat(src, dst)\n",
    "\n",
    "    # rename the original file\n",
    "        os.rename(\"textfile.txt\", \"newfile.txt\")\n",
    "\n",
    "    # put all files in folder into a zip archive\n",
    "    root_dir, tail = path.split(src)\n",
    "    shutil.make_archive(\"archive\", \"zip\", root_dir)\n",
    "\n",
    "    # put specific files into a zip archive\n",
    "    with ZipFile(\"testzip.zip\", \"w\") as newzip:\n",
    "        newzip.write(\"textfile.txt\")\n",
    "        newzip.write(\"textfile.txt.bak\")\n",
    "\n",
    "main()\n",
    "\n"
   ]
  },
  {
   "cell_type": "code",
   "execution_count": null,
   "id": "20472f54",
   "metadata": {},
   "outputs": [],
   "source": []
  }
 ],
 "metadata": {
  "kernelspec": {
   "display_name": "Python 3 (ipykernel)",
   "language": "python",
   "name": "python3"
  },
  "language_info": {
   "codemirror_mode": {
    "name": "ipython",
    "version": 3
   },
   "file_extension": ".py",
   "mimetype": "text/x-python",
   "name": "python",
   "nbconvert_exporter": "python",
   "pygments_lexer": "ipython3",
   "version": "3.11.0"
  }
 },
 "nbformat": 4,
 "nbformat_minor": 5
}
