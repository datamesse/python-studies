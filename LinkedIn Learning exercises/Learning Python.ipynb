{
 "cells": [
  {
   "cell_type": "code",
   "execution_count": 1,
   "id": "c355ab0d",
   "metadata": {},
   "outputs": [],
   "source": [
    "# This is my Jupyter Notebook code-along whilst going through the course\n",
    "\n",
    "# ===============\n",
    "# LEARNING PYTHON\n",
    "# ===============\n",
    "\n",
    "# https://www.linkedin.com/learning/learning-python-2020"
   ]
  },
  {
   "cell_type": "code",
   "execution_count": 2,
   "id": "d7f1f318",
   "metadata": {},
   "outputs": [
    {
     "name": "stdout",
     "output_type": "stream",
     "text": [
      "Hello world!\n"
     ]
    }
   ],
   "source": [
    "# hello world\n",
    "\n",
    "def main():\n",
    "    print(\"Hello world!\")\n",
    "\n",
    "if __name__ == \"__main__\":\n",
    "    main()\n"
   ]
  },
  {
   "cell_type": "code",
   "execution_count": 3,
   "id": "576075e3",
   "metadata": {},
   "outputs": [
    {
     "name": "stdout",
     "output_type": "stream",
     "text": [
      "0\n",
      "Wonder Woman\n",
      "This is a string123\n"
     ]
    }
   ],
   "source": [
    "# variables an expressions, strongly typed, global vs local variables\n",
    "\n",
    "f = 0\n",
    "print(f)\n",
    "f = \"Wonder Woman\"\n",
    "print(f)\n",
    "print(\"This is a string\" + str(123))"
   ]
  },
  {
   "cell_type": "code",
   "execution_count": 4,
   "id": "8d3c7132",
   "metadata": {},
   "outputs": [
    {
     "name": "stdout",
     "output_type": "stream",
     "text": [
      "Batman\n"
     ]
    }
   ],
   "source": [
    "# f in this context is local to the function, \n",
    "# so no relation to the global variable of the same name\n",
    "def someFunction():\n",
    "    f = \"Batman\"\n",
    "    print(f)\n",
    "someFunction()"
   ]
  },
  {
   "cell_type": "code",
   "execution_count": 8,
   "id": "1d6400a7",
   "metadata": {},
   "outputs": [
    {
     "name": "stdout",
     "output_type": "stream",
     "text": [
      "Superman\n",
      "Superman\n"
     ]
    }
   ],
   "source": [
    "# to reference a global variable\n",
    "def someFunction():\n",
    "    global f\n",
    "    f = \"Superman\"\n",
    "    print(f)\n",
    "\n",
    "someFunction()\n",
    "print(f)\n"
   ]
  },
  {
   "cell_type": "code",
   "execution_count": 10,
   "id": "f49dce47",
   "metadata": {},
   "outputs": [
    {
     "ename": "NameError",
     "evalue": "name 'f' is not defined",
     "output_type": "error",
     "traceback": [
      "\u001b[1;31m---------------------------------------------------------------------------\u001b[0m",
      "\u001b[1;31mNameError\u001b[0m                                 Traceback (most recent call last)",
      "Cell \u001b[1;32mIn[10], line 3\u001b[0m\n\u001b[0;32m      1\u001b[0m \u001b[38;5;66;03m# delete the definition of a variable, i.e. undefine variable\u001b[39;00m\n\u001b[0;32m      2\u001b[0m \u001b[38;5;28;01mdel\u001b[39;00m f\n\u001b[1;32m----> 3\u001b[0m \u001b[38;5;28mprint\u001b[39m(\u001b[43mf\u001b[49m)\n",
      "\u001b[1;31mNameError\u001b[0m: name 'f' is not defined"
     ]
    }
   ],
   "source": [
    "# delete the definition of a variable, i.e. undefine variable\n",
    "# i.e. results in error unable t print it because not defined\n",
    "\n",
    "del f\n",
    "print(f)"
   ]
  },
  {
   "cell_type": "code",
   "execution_count": 12,
   "id": "5812ea18",
   "metadata": {},
   "outputs": [
    {
     "name": "stdout",
     "output_type": "stream",
     "text": [
      "I am a function\n",
      "I am a function\n",
      "None\n",
      "<function func1 at 0x000001C786B78040>\n"
     ]
    }
   ],
   "source": [
    "# ---------\n",
    "# FUNCTIONS\n",
    "# ---------\n",
    "\n",
    "def func1():\n",
    "    print(\"I am a function\")\n",
    "\n",
    "func1()\n",
    "print (func1())\n",
    "print (func1)"
   ]
  },
  {
   "cell_type": "code",
   "execution_count": 14,
   "id": "88cd234f",
   "metadata": {},
   "outputs": [
    {
     "name": "stdout",
     "output_type": "stream",
     "text": [
      "10   20\n",
      "10   20\n",
      "None\n",
      "27\n"
     ]
    }
   ],
   "source": [
    "# take arguments\n",
    "\n",
    "def func2(arg1,arg2):\n",
    "    print(arg1, \" \", arg2)\n",
    "\n",
    "def cube(x):\n",
    "    return x * x * x\n",
    "\n",
    "func2(10,20)\n",
    "print(func2(10,20))\n",
    "print (cube(3))"
   ]
  },
  {
   "cell_type": "code",
   "execution_count": 15,
   "id": "eafb48b6",
   "metadata": {},
   "outputs": [
    {
     "name": "stdout",
     "output_type": "stream",
     "text": [
      "2\n",
      "8\n",
      "8\n"
     ]
    }
   ],
   "source": [
    "# default value for an argument\n",
    "\n",
    "def power(num, x = 1 ):\n",
    "    result = 1\n",
    "    for i in range(x):\n",
    "        result = result * num\n",
    "    return result\n",
    "\n",
    "print (power(2))\n",
    "print (power(2,3))\n",
    "print (power(x = 3, num = 2))"
   ]
  },
  {
   "cell_type": "code",
   "execution_count": 17,
   "id": "1fec9bda",
   "metadata": {},
   "outputs": [
    {
     "name": "stdout",
     "output_type": "stream",
     "text": [
      "15\n",
      "40\n"
     ]
    }
   ],
   "source": [
    "# variable number of arguments in list\n",
    "# can combine a set of formal arguments with a variable argument list,\n",
    "# but the variable argument list should always be the last parameter\n",
    "\n",
    "def multi_add(*args):\n",
    "    result = 0\n",
    "    for x in args:\n",
    "        result = result + x\n",
    "    return result\n",
    "\n",
    "print (multi_add(1, 2, 3, 4, 5))\n",
    "print (multi_add(6, 7, 8, 9, 10))\n"
   ]
  },
  {
   "cell_type": "code",
   "execution_count": 18,
   "id": "21a2dcf4",
   "metadata": {},
   "outputs": [
    {
     "name": "stdout",
     "output_type": "stream",
     "text": [
      "x is the same as y\n"
     ]
    }
   ],
   "source": [
    "# ------------\n",
    "# CONDITIONALS\n",
    "# ------------\n",
    "\n",
    "def main():\n",
    "    x, y = 100, 100\n",
    "    if (x < y):\n",
    "        st = \"x is less than y\"\n",
    "    elif (x == y):\n",
    "        st = \"x is the same as y\"\n",
    "    else:\n",
    "        st = \"x is greater than y\"\n",
    "    print(st)\n",
    "main()\n"
   ]
  },
  {
   "cell_type": "code",
   "execution_count": 19,
   "id": "fe8000ff",
   "metadata": {},
   "outputs": [
    {
     "name": "stdout",
     "output_type": "stream",
     "text": [
      "x is greater than or the same as y\n"
     ]
    }
   ],
   "source": [
    "# conditional statement, is an if else statement all in one line\n",
    "\n",
    "def main2(): \n",
    "    x, y, = 100, 100\n",
    "    st = \"x is less than y\" if (x < y) else \"x is greater than or the same as y\"\n",
    "    print(st)\n",
    "main2()\n"
   ]
  },
  {
   "cell_type": "code",
   "execution_count": 20,
   "id": "5a9c0de4",
   "metadata": {},
   "outputs": [
    {
     "name": "stdout",
     "output_type": "stream",
     "text": [
      "0\n",
      "1\n",
      "2\n",
      "3\n",
      "4\n"
     ]
    }
   ],
   "source": [
    "# -----\n",
    "# LOOPS\n",
    "# -----\n",
    "\n",
    "def main_whileloop():\n",
    "    x = 0\n",
    "    while (x < 5):\n",
    "        print(x)\n",
    "        x = x + 1\n",
    "main_whileloop()\n",
    "\n",
    "\n"
   ]
  },
  {
   "cell_type": "code",
   "execution_count": 1,
   "id": "14ec6f56",
   "metadata": {},
   "outputs": [
    {
     "name": "stdout",
     "output_type": "stream",
     "text": [
      "5\n",
      "6\n",
      "7\n",
      "8\n",
      "9\n"
     ]
    }
   ],
   "source": [
    "def main_forloop():\n",
    "    x = 0\n",
    "    for x in range(5, 10):\n",
    "        print(x)\n",
    "main_forloop()"
   ]
  },
  {
   "cell_type": "code",
   "execution_count": 2,
   "id": "b78c45e4",
   "metadata": {},
   "outputs": [
    {
     "name": "stdout",
     "output_type": "stream",
     "text": [
      "Mon\n",
      "Tue\n",
      "Wed\n",
      "Thu\n",
      "Fri\n",
      "Sat\n",
      "Sun\n"
     ]
    }
   ],
   "source": [
    "# loop over a collection\n",
    "\n",
    "def main_forcollection():\n",
    "    days = [\"Mon\", \"Tue\", \"Wed\", \"Thu\", \"Fri\", \"Sat\", \"Sun\"]\n",
    "    for d in days:\n",
    "        print (d)\n",
    "main_forcollection()"
   ]
  },
  {
   "cell_type": "code",
   "execution_count": 3,
   "id": "97fda5bf",
   "metadata": {},
   "outputs": [
    {
     "name": "stdout",
     "output_type": "stream",
     "text": [
      "5\n",
      "6\n"
     ]
    }
   ],
   "source": [
    "# break and continue statements\n",
    "\n",
    "def main_break():\n",
    "    for x in range(5,10):\n",
    "        if (x == 7): break\n",
    "        print(x)\n",
    "main_break()"
   ]
  },
  {
   "cell_type": "code",
   "execution_count": 4,
   "id": "b56931d1",
   "metadata": {},
   "outputs": [
    {
     "name": "stdout",
     "output_type": "stream",
     "text": [
      "9\n"
     ]
    }
   ],
   "source": [
    "# continue skips the execution of the rest of the loop for that iteration\n",
    "\n",
    "def main_continue():\n",
    "    for x in range(1,10):\n",
    "        if (x % 2 == 0): continue\n",
    "    print(x)\n",
    "main_continue()\n"
   ]
  },
  {
   "cell_type": "code",
   "execution_count": 11,
   "id": "3ff8b292",
   "metadata": {},
   "outputs": [
    {
     "name": "stdout",
     "output_type": "stream",
     "text": [
      "0 Mon\n",
      "1 Tue\n",
      "2 Wed\n",
      "3 Thu\n",
      "4 Fri\n",
      "5 Sat\n",
      "6 Sun\n"
     ]
    }
   ],
   "source": [
    "# enumeration to get index\n",
    "\n",
    "def main_interate_via_enumerate():\n",
    "    days = [\"Mon\", \"Tue\", \"Wed\", \"Thu\", \"Fri\", \"Sat\", \"Sun\"]\n",
    "    for i, d in enumerate(days):\n",
    "        print(i, d)\n",
    "main_interate_via_enumerate()\n"
   ]
  },
  {
   "cell_type": "code",
   "execution_count": 12,
   "id": "54acb1c6",
   "metadata": {},
   "outputs": [
    {
     "name": "stdout",
     "output_type": "stream",
     "text": [
      "myClass method1\n",
      "myClass medthod2 This is a string\n"
     ]
    }
   ],
   "source": [
    "# -------\n",
    "# CLASSES\n",
    "# -------\n",
    "\n",
    "# note self refers to the instance of the object being operated on,\n",
    "# similar to this in JavaScript\n",
    "\n",
    "class mymainClass():\n",
    "    def method1(self):\n",
    "        print(\"myClass method1\")\n",
    "    def method2(self, someString):\n",
    "        print(\"myClass medthod2 \" + someString)\n",
    "\n",
    "def main():\n",
    "    c = mymainClass()\n",
    "    c.method1()\n",
    "    c.method2(\"This is a string\")\n",
    "\n",
    "if __name__ == \"__main__\":\n",
    "    main()\n"
   ]
  },
  {
   "cell_type": "code",
   "execution_count": 13,
   "id": "8849a8ba",
   "metadata": {},
   "outputs": [
    {
     "name": "stdout",
     "output_type": "stream",
     "text": [
      "myClass method1\n",
      "mySubClass method3 from mymainClass's method1\n",
      "mySubClass method2\n"
     ]
    }
   ],
   "source": [
    "# -----------------\n",
    "# CLASS INHERITANCE\n",
    "# -----------------\n",
    "\n",
    "class mymainClass():\n",
    "    def method1(self):\n",
    "        print(\"myClass method1\")\n",
    "    def method2(self, someString):\n",
    "        print(\"myClass method2 \" + someString)\n",
    "\n",
    "class mysubClass(mymainClass):\n",
    "    def method3(self):\n",
    "        mymainClass.method1(self)\n",
    "        print(\"mySubClass method3 from mymainClass's method1\")\n",
    "    def method4(self, someString):\n",
    "        print(\"mySubClass method2\")\n",
    "\n",
    "def main():\n",
    "    c2 = mysubClass()\n",
    "    c2.method3()\n",
    "    c2.method4(\"Test\")\n",
    "\n",
    "if __name__ == \"__main__\":\n",
    "    main()\n"
   ]
  },
  {
   "cell_type": "code",
   "execution_count": 15,
   "id": "2640dc05",
   "metadata": {},
   "outputs": [
    {
     "name": "stdout",
     "output_type": "stream",
     "text": [
      "Today's date is  2022-12-06\n",
      "Date components:  6 12 2022\n",
      "Today's weekday # is:  1\n",
      "Weekday #  1  is  Tue\n",
      "The current date and time is  2022-12-06 10:03:07.705473\n",
      "10:03:07.705473\n"
     ]
    }
   ],
   "source": [
    "# -----\n",
    "# DATES\n",
    "# -----\n",
    "\n",
    "# importing predefined date and time classes\n",
    "# weekday numbers 0 = Monday to 6 = Sunday\n",
    "\n",
    "from datetime import date\n",
    "from datetime import time\n",
    "from datetime import datetime\n",
    "\n",
    "def main_datetimes():\n",
    "    today = date.today()\n",
    "    print(\"Today's date is \", today)\n",
    "    print(\"Date components: \", today.day, today.month, today.year)\n",
    "    print (\"Today's weekday # is: \", today.weekday())\n",
    "\n",
    "# use weekday as an index for days of the week which you need to declare\n",
    "    days = [\"Mon\", \"Tue\", \"Wed\", \"Thu\", \"Fri\", \"Sat\", \"Sun\"]\n",
    "    print (\"Weekday # \", today.weekday(), \" is \", days[today.weekday()])\n",
    "    today = datetime.now()\n",
    "    print (\"The current date and time is \", today)\n",
    "\n",
    "# print just the time\n",
    "    t = datetime.time(datetime.now())\n",
    "    print(t)\n",
    "\n",
    "main_datetimes()"
   ]
  },
  {
   "cell_type": "code",
   "execution_count": 17,
   "id": "1f083a04",
   "metadata": {},
   "outputs": [
    {
     "name": "stdout",
     "output_type": "stream",
     "text": [
      "The current year is: 2022\n",
      "Tue, 06 December, 22\n",
      "Locale date and time: Tue Dec  6 10:08:17 2022\n",
      "Locale date: 12/06/22\n",
      "Locale time: 10:08:17\n",
      "Current time: 10:08:17 AM\n",
      "Current time: 10:08\n"
     ]
    }
   ],
   "source": [
    "# --------------------\n",
    "# DATE TIME FORMATTING\n",
    "# --------------------\n",
    "\n",
    "from datetime import datetime\n",
    "\n",
    "def main_formatDatetime():\n",
    "    now = datetime.now()\n",
    "\n",
    "    # %y/%Y - Year, %a/$A - Weekday, %b/%B - month, %d - day of month\n",
    "    print(now.strftime(\"The current year is: %Y\"))\n",
    "    print(now.strftime(\"%a, %d %B, %y\"))\n",
    "\n",
    "    # %c - locale's date and time, %x - locale's date, %X - locale's time\n",
    "    print(now.strftime(\"Locale date and time: %c\"))\n",
    "    print(now.strftime(\"Locale date: %x\"))\n",
    "    print(now.strftime(\"Locale time: %X\"))\n",
    "\n",
    "    # %I/%H - 12/24 Hour, %M - minute, %S - second, %p - locale's AM/PM\n",
    "    print(now.strftime(\"Current time: %I:%M:%S %p\"))\n",
    "    print(now.strftime(\"Current time: %H:%M\"))\n",
    "\n",
    "main_formatDatetime()\n"
   ]
  },
  {
   "cell_type": "code",
   "execution_count": 28,
   "id": "eaf60270",
   "metadata": {},
   "outputs": [
    {
     "name": "stdout",
     "output_type": "stream",
     "text": [
      "365 days, 5:01:00\n",
      "Today is: 2022-12-06 10:40:21.981474\n",
      "One year from now it will be: 2023-12-06 10:40:21.981474\n",
      "In 2 days and 3 weeks it will be 2022-12-29 10:40:21.981474\n",
      "One week ago it was? Tuesday November 29, 2022\n"
     ]
    }
   ],
   "source": [
    "# ------------------------------------\n",
    "# MATHEMATICAL OPERATIONS ON DATE TIME\n",
    "# ------------------------------------\n",
    "\n",
    "# a \"timedelta\" is not a specific datetime, but a range\n",
    "\n",
    "from datetime import date\n",
    "from datetime import time\n",
    "from datetime import datetime\n",
    "from datetime import timedelta\n",
    "\n",
    "print(timedelta(days = 365, hours = 5, minutes = 1))\n",
    "\n",
    "now = datetime.now()\n",
    "print (\"Today is: \" + str(now))\n",
    "\n",
    "# Print today's date one year for now\n",
    "print (\"One year from now it will be: \" + str(now + timedelta(days = 365)))\n",
    "\n",
    "# Multivariable time delta\n",
    "print (\"In 2 days and 3 weeks it will be \" + str(now + timedelta(days = 2, weeks = 3)))\n",
    "\n",
    "# Going back in time\n",
    "t = datetime.now() - timedelta(weeks = 1)\n",
    "s = t.strftime(\"%A %B %d, %Y\")\n",
    "print (\"One week ago it was? \" + s)\n",
    "\n",
    "# Calculate days remaining to next specific date\n",
    "today = date.today()\n",
    "afd = date(today.year, 4, 1)\n",
    "\n",
    "# TODO figure out why this code doesn't work\n",
    "\n",
    "#if afd < today:\n",
    "#    print(\"April Fool's Day already went by %d days ago\" % ((today-afd).day))\n",
    "#    afd = afd.replace(year = today.year + 1)\n",
    "#time_to_afd = afd-today\n",
    "#print(\"It's just \", time_to_afd.days, \" days until the next April Fool's Day\")\n"
   ]
  },
  {
   "cell_type": "code",
   "execution_count": 29,
   "id": "f247ff10",
   "metadata": {},
   "outputs": [
    {
     "name": "stdout",
     "output_type": "stream",
     "text": [
      "    January 2019\n",
      "Su Mo Tu We Th Fr Sa\n",
      "       1  2  3  4  5\n",
      " 6  7  8  9 10 11 12\n",
      "13 14 15 16 17 18 19\n",
      "20 21 22 23 24 25 26\n",
      "27 28 29 30 31\n",
      "\n"
     ]
    }
   ],
   "source": [
    "# --------\n",
    "# CALENDAR\n",
    "# --------\n",
    "\n",
    "import calendar\n",
    "\n",
    "# create plain text calendar\n",
    "c = calendar.TextCalendar(calendar.SUNDAY)\n",
    "st = c.formatmonth(2019, 1, 0, 0)\n",
    "print(st)\n"
   ]
  },
  {
   "cell_type": "code",
   "execution_count": 30,
   "id": "e0a0fee4",
   "metadata": {},
   "outputs": [
    {
     "name": "stdout",
     "output_type": "stream",
     "text": [
      "<table border=\"0\" cellpadding=\"0\" cellspacing=\"0\" class=\"month\">\n",
      "<tr><th colspan=\"7\" class=\"month\">January 2019</th></tr>\n",
      "<tr><th class=\"sun\">Sun</th><th class=\"mon\">Mon</th><th class=\"tue\">Tue</th><th class=\"wed\">Wed</th><th class=\"thu\">Thu</th><th class=\"fri\">Fri</th><th class=\"sat\">Sat</th></tr>\n",
      "<tr><td class=\"noday\">&nbsp;</td><td class=\"noday\">&nbsp;</td><td class=\"tue\">1</td><td class=\"wed\">2</td><td class=\"thu\">3</td><td class=\"fri\">4</td><td class=\"sat\">5</td></tr>\n",
      "<tr><td class=\"sun\">6</td><td class=\"mon\">7</td><td class=\"tue\">8</td><td class=\"wed\">9</td><td class=\"thu\">10</td><td class=\"fri\">11</td><td class=\"sat\">12</td></tr>\n",
      "<tr><td class=\"sun\">13</td><td class=\"mon\">14</td><td class=\"tue\">15</td><td class=\"wed\">16</td><td class=\"thu\">17</td><td class=\"fri\">18</td><td class=\"sat\">19</td></tr>\n",
      "<tr><td class=\"sun\">20</td><td class=\"mon\">21</td><td class=\"tue\">22</td><td class=\"wed\">23</td><td class=\"thu\">24</td><td class=\"fri\">25</td><td class=\"sat\">26</td></tr>\n",
      "<tr><td class=\"sun\">27</td><td class=\"mon\">28</td><td class=\"tue\">29</td><td class=\"wed\">30</td><td class=\"thu\">31</td><td class=\"noday\">&nbsp;</td><td class=\"noday\">&nbsp;</td></tr>\n",
      "</table>\n",
      "\n"
     ]
    }
   ],
   "source": [
    "# create HTML formatted calendar\n",
    "hc = calendar.HTMLCalendar(calendar.SUNDAY)\n",
    "st = hc.formatmonth(2019, 1)\n",
    "print(st)\n"
   ]
  },
  {
   "cell_type": "code",
   "execution_count": 31,
   "id": "804d4cc7",
   "metadata": {},
   "outputs": [
    {
     "name": "stdout",
     "output_type": "stream",
     "text": [
      "0\n",
      "0\n",
      "0\n",
      "0\n",
      "1\n",
      "2\n",
      "3\n",
      "4\n",
      "5\n",
      "6\n",
      "7\n",
      "8\n",
      "9\n",
      "10\n",
      "11\n",
      "12\n",
      "13\n",
      "14\n",
      "15\n",
      "16\n",
      "17\n",
      "18\n",
      "19\n",
      "20\n",
      "21\n",
      "22\n",
      "23\n",
      "24\n",
      "25\n",
      "26\n",
      "27\n",
      "28\n",
      "29\n",
      "30\n",
      "31\n"
     ]
    }
   ],
   "source": [
    "# loop over days of month, \n",
    "# with 0 representing day of week is in overlapped month\n",
    "for i in c.itermonthdays(2019, 8):\n",
    "   print(i)\n"
   ]
  },
  {
   "cell_type": "code",
   "execution_count": 32,
   "id": "72d48757",
   "metadata": {},
   "outputs": [
    {
     "name": "stdout",
     "output_type": "stream",
     "text": [
      "\n",
      "January\n",
      "February\n",
      "March\n",
      "April\n",
      "May\n",
      "June\n",
      "July\n",
      "August\n",
      "September\n",
      "October\n",
      "November\n",
      "December\n"
     ]
    }
   ],
   "source": [
    "# list distinct month names\n",
    "for name in calendar.month_name:\n",
    "    print(name)"
   ]
  },
  {
   "cell_type": "code",
   "execution_count": 33,
   "id": "85c8d05e",
   "metadata": {},
   "outputs": [
    {
     "name": "stdout",
     "output_type": "stream",
     "text": [
      "Monday\n",
      "Tuesday\n",
      "Wednesday\n",
      "Thursday\n",
      "Friday\n",
      "Saturday\n",
      "Sunday\n"
     ]
    }
   ],
   "source": [
    "## list distinct full day names\n",
    "for day in calendar.day_name:\n",
    "    print(day)"
   ]
  },
  {
   "cell_type": "code",
   "execution_count": 34,
   "id": "ce80c3b1",
   "metadata": {},
   "outputs": [
    {
     "name": "stdout",
     "output_type": "stream",
     "text": [
      "Team meetings will be on: \n",
      "   January  4\n",
      "  February  1\n",
      "     March  1\n",
      "     April  5\n",
      "       May  3\n",
      "      June  7\n",
      "      July  5\n",
      "    August  2\n",
      " September  6\n",
      "   October  4\n",
      "  November  1\n",
      "  December  6\n"
     ]
    }
   ],
   "source": [
    "# calculate days based on rule e.g. 1st Friday of each month\n",
    "print (\"Team meetings will be on: \")\n",
    "for m in range(1,13):\n",
    "    cal = calendar.monthcalendar(2019, m)\n",
    "    weekone=cal[0]\n",
    "    weektwo=cal[1]\n",
    "    if weekone[calendar.FRIDAY] != 0:\n",
    "        meetday = weekone[calendar.FRIDAY]\n",
    "    else:\n",
    "        meetday = weektwo[calendar.FRIDAY]\n",
    "\n",
    "    print(\"%10s %2d\" % (calendar.month_name[m], meetday))"
   ]
  },
  {
   "cell_type": "code",
   "execution_count": 38,
   "id": "4034bef6",
   "metadata": {},
   "outputs": [],
   "source": [
    "# ---------------------\n",
    "# WRITING DATA TO FILES\n",
    "# ---------------------\n",
    "\n",
    "# no need to import any classes\n",
    "\n",
    "# TODO double-check this works without importing a class\n",
    "\n",
    "def main():\n",
    "    # open file for writing w and create if it doesn't exist +\n",
    "    f = open(\"textfile.txt\", \"w+\")\n",
    "\n",
    "    # open existing file for adding data to the end of it a\n",
    "    f = open(\"textfile.txt\", \"a\")\n",
    "\n",
    "    for i in range(10):\n",
    "        f.write(\"This is line: \" + str(i) + \"\\r\\n\")\n",
    "\n",
    "    # open the file for reading contents\n",
    "    f = open(\"textfile.txt\", \"r\")\n",
    "    if f.mode == 'r':\n",
    "        contents = f.read()\n",
    "        print(contents)\n",
    "\n",
    "    f = open(\"textfile.txt\", \"r\")\n",
    "    if f.mode == 'r':\n",
    "        fl = f.readlines()\n",
    "        for x in fl:\n",
    "            print (x)\n",
    "\n",
    "    f.close()"
   ]
  },
  {
   "cell_type": "code",
   "execution_count": 41,
   "id": "bfd1d4f7",
   "metadata": {},
   "outputs": [
    {
     "name": "stdout",
     "output_type": "stream",
     "text": [
      "nt\n",
      "Item exists: False\n",
      "Item is a file: False\n",
      "Item is a directory: False\n",
      "Item path: C:\\Program Files\\Python311\\Scripts\\- Data Science\\textfile.txt\n",
      "Item path and name: C:\\Program Files\\Python311\\Scripts\\- Data Science\\textfile.txt\n"
     ]
    }
   ],
   "source": [
    "# -----------------------------------------------\n",
    "# WORKING WITH OS OPERATING SYSTEM PATH UTILITIES\n",
    "# -----------------------------------------------\n",
    "\n",
    "import os\n",
    "from os import path\n",
    "import datetime\n",
    "from datetime import date, time, timedelta\n",
    "import time\n",
    "\n",
    "def main():\n",
    "    # Print the name of the OS\n",
    "    print(os.name)\n",
    "\n",
    "    # check if item exists and type\n",
    "    print(\"Item exists: \" + str(path.exists(\"textfile.txt\")))\n",
    "    print(\"Item is a file: \" + str(path.isfile(\"textfile.txt\")))\n",
    "    print(\"Item is a directory: \" + str(path.isdir(\"textfile.txt\")))\n",
    "\n",
    "    # work with file paths\n",
    "    print(\"Item path: \" + str(path.realpath(\"textfile.txt\")))\n",
    "    print(\"Item path and name: \" + str(path.realpath(\"textfile.txt\")))\n",
    "\n",
    "# TODO figure out why the code below does not work\n",
    "\n",
    "    # get file's modification time to a real time\n",
    "#    t = time.ctime(path.getmtime(\"textfile.txt\"))\n",
    "#    print(t)\n",
    "#    print(datetime.datetime.fromtimestamp(path.getmtime(\"textfile.txt\")))\n",
    "\n",
    "    # calculate how long ago file was modified\n",
    "#    td = datetime.datetime.now() - datetime.datetime.fromtimestamp(\n",
    "#        path.getmtime(\"textfile.txt\")\n",
    "#    )\n",
    "#    print (\"It has been \" + str(td) + \" since the file was modified\")\n",
    "#    print (\"Or, \" + str(td.total_seconds()) + \" seconds\")\n",
    "\n",
    "main()\n"
   ]
  },
  {
   "cell_type": "code",
   "execution_count": 45,
   "id": "b1b5b7a6",
   "metadata": {
    "scrolled": true
   },
   "outputs": [
    {
     "ename": "UnboundLocalError",
     "evalue": "cannot access local variable 'src' where it is not associated with a value",
     "output_type": "error",
     "traceback": [
      "\u001b[1;31m---------------------------------------------------------------------------\u001b[0m",
      "\u001b[1;31mUnboundLocalError\u001b[0m                         Traceback (most recent call last)",
      "Cell \u001b[1;32mIn[45], line 35\u001b[0m\n\u001b[0;32m     32\u001b[0m         newzip\u001b[38;5;241m.\u001b[39mwrite(\u001b[38;5;124m\"\u001b[39m\u001b[38;5;124mtextfile.txt\u001b[39m\u001b[38;5;124m\"\u001b[39m)\n\u001b[0;32m     33\u001b[0m         newzip\u001b[38;5;241m.\u001b[39mwrite(\u001b[38;5;124m\"\u001b[39m\u001b[38;5;124mtextfile.txt.bak\u001b[39m\u001b[38;5;124m\"\u001b[39m)\n\u001b[1;32m---> 35\u001b[0m \u001b[43mmain\u001b[49m\u001b[43m(\u001b[49m\u001b[43m)\u001b[49m\n",
      "Cell \u001b[1;32mIn[45], line 27\u001b[0m, in \u001b[0;36mmain\u001b[1;34m()\u001b[0m\n\u001b[0;32m     24\u001b[0m     os\u001b[38;5;241m.\u001b[39mrename(\u001b[38;5;124m\"\u001b[39m\u001b[38;5;124mtextfile.txt\u001b[39m\u001b[38;5;124m\"\u001b[39m, \u001b[38;5;124m\"\u001b[39m\u001b[38;5;124mnewfile.txt\u001b[39m\u001b[38;5;124m\"\u001b[39m)\n\u001b[0;32m     26\u001b[0m \u001b[38;5;66;03m# put all files in folder into a zip archive\u001b[39;00m\n\u001b[1;32m---> 27\u001b[0m root_dir, tail \u001b[38;5;241m=\u001b[39m path\u001b[38;5;241m.\u001b[39msplit(\u001b[43msrc\u001b[49m)\n\u001b[0;32m     28\u001b[0m shutil\u001b[38;5;241m.\u001b[39mmake_archive(\u001b[38;5;124m\"\u001b[39m\u001b[38;5;124marchive\u001b[39m\u001b[38;5;124m\"\u001b[39m, \u001b[38;5;124m\"\u001b[39m\u001b[38;5;124mzip\u001b[39m\u001b[38;5;124m\"\u001b[39m, root_dir)\n\u001b[0;32m     30\u001b[0m \u001b[38;5;66;03m# put specific files into a zip archive\u001b[39;00m\n",
      "\u001b[1;31mUnboundLocalError\u001b[0m: cannot access local variable 'src' where it is not associated with a value"
     ]
    }
   ],
   "source": [
    "# -------------------------------------\n",
    "# MODIFY FILES USING OS SHELL UTILITIES\n",
    "# -------------------------------------\n",
    "\n",
    "import os\n",
    "from os import path\n",
    "import shutil\n",
    "from shutil import make_archive\n",
    "from zipfile import ZipFile\n",
    "\n",
    "def main():\n",
    "\n",
    "    # make a duplicate of an existing file\n",
    "    # note this only copies over the contents of the file\n",
    "    if path.exists(\"textfile.txt\"):\n",
    "        src = path.realpath(\"textfile.txt\")\n",
    "        dst = src + \".bak\"\n",
    "        shutil.copy(src, dst)\n",
    "\n",
    "    # copy over permissions, modification time, and other metadata\n",
    "        shutil.copystat(src, dst)\n",
    "\n",
    "    # rename the original file\n",
    "        os.rename(\"textfile.txt\", \"newfile.txt\")\n",
    "\n",
    "    # put all files in folder into a zip archive\n",
    "    root_dir, tail = path.split(src)\n",
    "    shutil.make_archive(\"archive\", \"zip\", root_dir)\n",
    "\n",
    "    # put specific files into a zip archive\n",
    "    with ZipFile(\"testzip.zip\", \"w\") as newzip:\n",
    "        newzip.write(\"textfile.txt\")\n",
    "        newzip.write(\"textfile.txt.bak\")\n",
    "\n",
    "main()\n",
    "\n"
   ]
  },
  {
   "cell_type": "code",
   "execution_count": 1,
   "id": "20472f54",
   "metadata": {},
   "outputs": [
    {
     "name": "stdout",
     "output_type": "stream",
     "text": [
      "result code: 200\n",
      "b'<!doctype html><html itemscope=\"\" itemtype=\"http://schema.org/WebPage\" lang=\"en-AU\"><head><meta content=\"text/html; charset=UTF-8\" http-equiv=\"Content-Type\"><meta content=\"/images/branding/googleg/1x/googleg_standard_color_128dp.png\" itemprop=\"image\"><title>Google</title><script nonce=\"z3pMLmZlHGWe4Q3wGGbNzg\">(function(){window.google={kEI:\\'-QupY9r8EYqVgAbuhaqYCw\\',kEXPI:\\'0,1359409,6058,207,4804,2316,383,246,5,1129120,1197707,694,380089,16115,19397,9287,22430,1362,12319,17580,4998,13228,3847,10622,22741,6674,1279,2744,147,1103,842,1984,4311,3514,606,2023,2297,14670,3227,2845,7,29074,4696,4465,13142,3,346,230,1014,1,5444,149,11323,2652,4,1528,2304,27348,7422,7356,13659,19432,7615,2533,4094,17,4035,3,3541,1,11942,30212,2,14022,2715,3533,1398,18093,5679,1020,2381,28741,4568,6259,23418,1249,5838,14968,4332,5017,2467,445,2,2,1,26632,8155,7381,2,15968,872,6578,13056,7,1922,5784,3995,21390,389,9543,4832,26503,20137,14,82,3890,751,14886,679,1622,1779,3851,1125,1747,7243,5901,1741,814,1514,578,1728,40,914,587,2,563,991,1001,387,707,350,90,398,97,426,1034,42,291,2263,406,867,12,769,1411,20,3,260,607,925,420,916,289,135,787,517,246,951,843,1376,947,312,545,311,719,737,1671,234,71,3,538,599,551,157,327,601,6,258,770,181,394,1087,164,888,200,5,342,103,1074,129,109,463,217,85,8,20,200,124,11,446,174,264,1610,120,79,261,501,61,2630,517,1053,49,8,1142,103,37,425,36,12,105,292,949,131,1195,227,495,128,427,1199,377,139,2142,45,1772,136,31,4,41,2,354,13,8,179,797,184,792,307,110,655,593,5277127,276,86,133,11,205,8798844,3311,141,795,19736,1,298,48,3579,8,32,3,28,30,23946804,4042143,1964,16673,3405,5595,11,3834,7197\\',kBL:\\'Dl4b\\'};google.sn=\\'webhp\\';google.kHL=\\'en-AU\\';})();(function(){\\nvar f=this||self;var h,k=[];function l(a){for(var b;a&&(!a.getAttribute||!(b=a.getAttribute(\"eid\")));)a=a.parentNode;return b||h}function m(a){for(var b=null;a&&(!a.getAttribute||!(b=a.getAttribute(\"leid\")));)a=a.parentNode;return b}\\nfunction n(a,b,c,d,g){var e=\"\";c||-1!==b.search(\"&ei=\")||(e=\"&ei=\"+l(d),-1===b.search(\"&lei=\")&&(d=m(d))&&(e+=\"&lei=\"+d));d=\"\";!c&&f._cshid&&-1===b.search(\"&cshid=\")&&\"slh\"!==a&&(d=\"&cshid=\"+f._cshid);c=c||\"/\"+(g||\"gen_204\")+\"?atyp=i&ct=\"+a+\"&cad=\"+b+e+\"&zx=\"+Date.now()+d;/^http:/i.test(c)&&\"https:\"===window.location.protocol&&(google.ml&&google.ml(Error(\"a\"),!1,{src:c,glmm:1}),c=\"\");return c};h=google.kEI;google.getEI=l;google.getLEI=m;google.ml=function(){return null};google.log=function(a,b,c,d,g){if(c=n(a,b,c,d,g)){a=new Image;var e=k.length;k[e]=a;a.onerror=a.onload=a.onabort=function(){delete k[e]};a.src=c}};google.logUrl=n;}).call(this);(function(){google.y={};google.sy=[];google.x=function(a,b){if(a)var c=a.id;else{do c=Math.random();while(google.y[c])}google.y[c]=[a,b];return!1};google.sx=function(a){google.sy.push(a)};google.lm=[];google.plm=function(a){google.lm.push.apply(google.lm,a)};google.lq=[];google.load=function(a,b,c){google.lq.push([[a],b,c])};google.loadAll=function(a,b){google.lq.push([a,b])};google.bx=!1;google.lx=function(){};}).call(this);google.f={};(function(){\\ndocument.documentElement.addEventListener(\"submit\",function(b){var a;if(a=b.target){var c=a.getAttribute(\"data-submitfalse\");a=\"1\"===c||\"q\"===c&&!a.elements.q.value?!0:!1}else a=!1;a&&(b.preventDefault(),b.stopPropagation())},!0);document.documentElement.addEventListener(\"click\",function(b){var a;a:{for(a=b.target;a&&a!==document.documentElement;a=a.parentElement)if(\"A\"===a.tagName){a=\"1\"===a.getAttribute(\"data-nohref\");break a}a=!1}a&&b.preventDefault()},!0);}).call(this);</script><style>#gbar,#guser{font-size:13px;padding-top:1px !important;}#gbar{height:22px}#guser{padding-bottom:7px !important;text-align:right}.gbh,.gbd{border-top:1px solid #c9d7f1;font-size:1px}.gbh{height:0;position:absolute;top:24px;width:100%}@media all{.gb1{height:22px;margin-right:.5em;vertical-align:top}#gbar{float:left}}a.gb1,a.gb4{text-decoration:underline !important}a.gb1,a.gb4{color:#00c !important}.gbi .gb4{color:#dd8e27 !important}.gbf .gb4{color:#900 !important}\\n</style><style>body,td,a,p,.h{font-family:arial,sans-serif}body{margin:0;overflow-y:scroll}#gog{padding:3px 8px 0}td{line-height:.8em}.gac_m td{line-height:17px}form{margin-bottom:20px}.h{color:#1558d6}em{font-weight:bold;font-style:normal}.lst{height:25px;width:496px}.gsfi,.lst{font:18px arial,sans-serif}.gsfs{font:17px arial,sans-serif}.ds{display:inline-box;display:inline-block;margin:3px 0 4px;margin-left:4px}input{font-family:inherit}body{background:#fff;color:#000}a{color:#4b11a8;text-decoration:none}a:hover,a:active{text-decoration:underline}.fl a{color:#1558d6}a:visited{color:#4b11a8}.sblc{padding-top:5px}.sblc a{display:block;margin:2px 0;margin-left:13px;font-size:11px}.lsbb{background:#f8f9fa;border:solid 1px;border-color:#dadce0 #70757a #70757a #dadce0;height:30px}.lsbb{display:block}#WqQANb a{display:inline-block;margin:0 12px}.lsb{background:url(/images/nav_logo229.png) 0 -261px repeat-x;border:none;color:#000;cursor:pointer;height:30px;margin:0;outline:0;font:15px arial,sans-serif;vertical-align:top}.lsb:active{background:#dadce0}.lst:focus{outline:none}</style><script nonce=\"z3pMLmZlHGWe4Q3wGGbNzg\">(function(){window.google.erd={jsr:1,bv:1702,de:true};\\nvar h=this||self;var k,l=null!=(k=h.mei)?k:1,n,p=null!=(n=h.sdo)?n:!0,q=0,r,t=google.erd,v=t.jsr;google.ml=function(a,b,d,m,e){e=void 0===e?2:e;b&&(r=a&&a.message);if(google.dl)return google.dl(a,e,d),null;if(0>v){window.console&&console.error(a,d);if(-2===v)throw a;b=!1}else b=!a||!a.message||\"Error loading script\"===a.message||q>=l&&!m?!1:!0;if(!b)return null;q++;d=d||{};b=encodeURIComponent;var c=\"/gen_204?atyp=i&ei=\"+b(google.kEI);google.kEXPI&&(c+=\"&jexpid=\"+b(google.kEXPI));c+=\"&srcpg=\"+b(google.sn)+\"&jsr=\"+b(t.jsr)+\"&bver=\"+b(t.bv);var f=a.lineNumber;void 0!==f&&(c+=\"&line=\"+f);var g=\\na.fileName;g&&(0<g.indexOf(\"-extension:/\")&&(e=3),c+=\"&script=\"+b(g),f&&g===window.location.href&&(f=document.documentElement.outerHTML.split(\"\\\\n\")[f],c+=\"&cad=\"+b(f?f.substring(0,300):\"No script found.\")));c+=\"&jsel=\"+e;for(var u in d)c+=\"&\",c+=b(u),c+=\"=\",c+=b(d[u]);c=c+\"&emsg=\"+b(a.name+\": \"+a.message);c=c+\"&jsst=\"+b(a.stack||\"N/A\");12288<=c.length&&(c=c.substr(0,12288));a=c;m||google.log(0,\"\",a);return a};window.onerror=function(a,b,d,m,e){r!==a&&(a=e instanceof Error?e:Error(a),void 0===d||\"lineNumber\"in a||(a.lineNumber=d),void 0===b||\"fileName\"in a||(a.fileName=b),google.ml(a,!1,void 0,!1,\"SyntaxError\"===a.name||\"SyntaxError\"===a.message.substring(0,11)||-1!==a.message.indexOf(\"Script error\")?3:0));r=null;p&&q>=l&&(window.onerror=null)};})();</script></head><body bgcolor=\"#fff\"><script nonce=\"z3pMLmZlHGWe4Q3wGGbNzg\">(function(){var src=\\'/images/nav_logo229.png\\';var iesg=false;document.body.onload = function(){window.n && window.n();if (document.images){new Image().src=src;}\\nif (!iesg){document.f&&document.f.q.focus();document.gbqf&&document.gbqf.q.focus();}\\n}\\n})();</script><div id=\"mngb\"><div id=gbar><nobr><b class=gb1>Search</b> <a class=gb1 href=\"http://www.google.com.au/imghp?hl=en&tab=wi\">Images</a> <a class=gb1 href=\"http://maps.google.com.au/maps?hl=en&tab=wl\">Maps</a> <a class=gb1 href=\"https://play.google.com/?hl=en&tab=w8\">Play</a> <a class=gb1 href=\"https://www.youtube.com/?tab=w1\">YouTube</a> <a class=gb1 href=\"https://news.google.com/?tab=wn\">News</a> <a class=gb1 href=\"https://mail.google.com/mail/?tab=wm\">Gmail</a> <a class=gb1 href=\"https://drive.google.com/?tab=wo\">Drive</a> <a class=gb1 style=\"text-decoration:none\" href=\"https://www.google.com.au/intl/en/about/products?tab=wh\"><u>More</u> &raquo;</a></nobr></div><div id=guser width=100%><nobr><span id=gbn class=gbi></span><span id=gbf class=gbf></span><span id=gbe></span><a href=\"http://www.google.com.au/history/optout?hl=en\" class=gb4>Web History</a> | <a  href=\"/preferences?hl=en\" class=gb4>Settings</a> | <a target=_top id=gb_70 href=\"https://accounts.google.com/ServiceLogin?hl=en&passive=true&continue=http://www.google.com/&ec=GAZAAQ\" class=gb4>Sign in</a></nobr></div><div class=gbh style=left:0></div><div class=gbh style=right:0></div></div><center><br clear=\"all\" id=\"lgpd\"><div id=\"lga\"><img alt=\"Google\" height=\"92\" src=\"/images/branding/googlelogo/1x/googlelogo_white_background_color_272x92dp.png\" style=\"padding:28px 0 14px\" width=\"272\" id=\"hplogo\"><br><br></div><form action=\"/search\" name=\"f\"><table cellpadding=\"0\" cellspacing=\"0\"><tr valign=\"top\"><td width=\"25%\">&nbsp;</td><td align=\"center\" nowrap=\"\"><input name=\"ie\" value=\"ISO-8859-1\" type=\"hidden\"><input value=\"en-AU\" name=\"hl\" type=\"hidden\"><input name=\"source\" type=\"hidden\" value=\"hp\"><input name=\"biw\" type=\"hidden\"><input name=\"bih\" type=\"hidden\"><div class=\"ds\" style=\"height:32px;margin:4px 0\"><input class=\"lst\" style=\"margin:0;padding:5px 8px 0 6px;vertical-align:top;color:#000\" autocomplete=\"off\" value=\"\" title=\"Google Search\" maxlength=\"2048\" name=\"q\" size=\"57\"></div><br style=\"line-height:0\"><span class=\"ds\"><span class=\"lsbb\"><input class=\"lsb\" value=\"Google Search\" name=\"btnG\" type=\"submit\"></span></span><span class=\"ds\"><span class=\"lsbb\"><input class=\"lsb\" id=\"tsuid_1\" value=\"I\\'m Feeling Lucky\" name=\"btnI\" type=\"submit\"><script nonce=\"z3pMLmZlHGWe4Q3wGGbNzg\">(function(){var id=\\'tsuid_1\\';document.getElementById(id).onclick = function(){if (this.form.q.value){this.checked = 1;if (this.form.iflsig)this.form.iflsig.disabled = false;}\\nelse top.location=\\'/doodles/\\';};})();</script><input value=\"AJiK0e8AAAAAY6kaCQZChqncplIJcQZ7wws-4YssLNHK\" name=\"iflsig\" type=\"hidden\"></span></span></td><td class=\"fl sblc\" align=\"left\" nowrap=\"\" width=\"25%\"><a href=\"/advanced_search?hl=en-AU&amp;authuser=0\">Advanced search</a></td></tr></table><input id=\"gbv\" name=\"gbv\" type=\"hidden\" value=\"1\"><script nonce=\"z3pMLmZlHGWe4Q3wGGbNzg\">(function(){var a,b=\"1\";if(document&&document.getElementById)if(\"undefined\"!=typeof XMLHttpRequest)b=\"2\";else if(\"undefined\"!=typeof ActiveXObject){var c,d,e=[\"MSXML2.XMLHTTP.6.0\",\"MSXML2.XMLHTTP.3.0\",\"MSXML2.XMLHTTP\",\"Microsoft.XMLHTTP\"];for(c=0;d=e[c++];)try{new ActiveXObject(d),b=\"2\"}catch(h){}}a=b;if(\"2\"==a&&-1==location.search.indexOf(\"&gbv=2\")){var f=google.gbvu,g=document.getElementById(\"gbv\");g&&(g.value=a);f&&window.setTimeout(function(){location.href=f},0)};}).call(this);</script></form><div id=\"gac_scont\"></div><div style=\"font-size:83%;min-height:3.5em\"><br></div><span id=\"footer\"><div style=\"font-size:10pt\"><div style=\"margin:19px auto;text-align:center\" id=\"WqQANb\"><a href=\"/intl/en/ads/\">Advertising\\xa0Programmes</a><a href=\"/services/\">Business Solutions</a><a href=\"/intl/en/about.html\">About Google</a><a href=\"http://www.google.com/setprefdomain?prefdom=AU&amp;prev=http://www.google.com.au/&amp;sig=K_H1IMA_BDawrF85vNL-oVeB0psWA%3D\">Google.com.au</a></div></div><p style=\"font-size:8pt;color:#70757a\">&copy; 2022 - <a href=\"/intl/en/policies/privacy/\">Privacy</a> - <a href=\"/intl/en/policies/terms/\">Terms</a></p></span></center><script nonce=\"z3pMLmZlHGWe4Q3wGGbNzg\">(function(){window.google.cdo={height:757,width:1440};(function(){var a=window.innerWidth,b=window.innerHeight;if(!a||!b){var c=window.document,d=\"CSS1Compat\"==c.compatMode?c.documentElement:c.body;a=d.clientWidth;b=d.clientHeight}a&&b&&(a!=google.cdo.width||b!=google.cdo.height)&&google.log(\"\",\"\",\"/client_204?&atyp=i&biw=\"+a+\"&bih=\"+b+\"&ei=\"+google.kEI);}).call(this);})();</script> <script nonce=\"z3pMLmZlHGWe4Q3wGGbNzg\">(function(){google.xjs={ck:\\'xjs.hp.p8DkCBvnKaU.L.X.O\\',cs:\\'ACT90oEuqRwZ040I9nEMS4IYPnzYYjWa8A\\',excm:[]};})();</script>  <script nonce=\"z3pMLmZlHGWe4Q3wGGbNzg\">(function(){var u=\\'/xjs/_/js/k\\\\x3dxjs.hp.en.7AA-NzBVWyE.O/am\\\\x3dAADoBABQAGAB/d\\\\x3d1/ed\\\\x3d1/rs\\\\x3dACT90oFVO7j3BrFQavFg7OxlpNPTe6mLsA/m\\\\x3dsb_he,d\\';var amd=0;\\nvar d=this||self,e=function(a){return a};var g;var l=function(a,b){this.g=b===h?a:\"\"};l.prototype.toString=function(){return this.g+\"\"};var h={};\\nfunction m(){var a=u;google.lx=function(){p(a);google.lx=function(){}};google.bx||google.lx()}\\nfunction p(a){google.timers&&google.timers.load&&google.tick&&google.tick(\"load\",\"xjsls\");var b=document;var c=\"SCRIPT\";\"application/xhtml+xml\"===b.contentType&&(c=c.toLowerCase());c=b.createElement(c);if(void 0===g){b=null;var k=d.trustedTypes;if(k&&k.createPolicy){try{b=k.createPolicy(\"goog#html\",{createHTML:e,createScript:e,createScriptURL:e})}catch(q){d.console&&d.console.error(q.message)}g=b}else g=b}a=(b=g)?b.createScriptURL(a):a;a=new l(a,h);c.src=a instanceof l&&a.constructor===l?a.g:\"type_error:TrustedResourceUrl\";var f,n;(f=(a=null==(n=(f=(c.ownerDocument&&c.ownerDocument.defaultView||window).document).querySelector)?void 0:n.call(f,\"script[nonce]\"))?a.nonce||a.getAttribute(\"nonce\")||\"\":\"\")&&c.setAttribute(\"nonce\",f);document.body.appendChild(c);google.psa=!0};google.xjsu=u;setTimeout(function(){0<amd?google.caft(function(){return m()},amd):m()},0);})();function _DumpException(e){throw e;}\\nfunction _F_installCss(c){}\\n(function(){google.jl={blt:\\'none\\',chnk:0,dw:false,dwu:true,emtn:0,end:0,ico:false,ikb:0,ine:false,injs:\\'none\\',injt:0,injth:0,injv2:false,lls:\\'default\\',pdt:0,rep:0,snet:true,strt:0,ubm:false,uwp:true};})();(function(){var pmc=\\'{\\\\x22d\\\\x22:{},\\\\x22sb_he\\\\x22:{\\\\x22agen\\\\x22:true,\\\\x22cgen\\\\x22:true,\\\\x22client\\\\x22:\\\\x22heirloom-hp\\\\x22,\\\\x22dh\\\\x22:true,\\\\x22ds\\\\x22:\\\\x22\\\\x22,\\\\x22fl\\\\x22:true,\\\\x22host\\\\x22:\\\\x22google.com\\\\x22,\\\\x22jsonp\\\\x22:true,\\\\x22msgs\\\\x22:{\\\\x22cibl\\\\x22:\\\\x22Clear Search\\\\x22,\\\\x22dym\\\\x22:\\\\x22Did you mean:\\\\x22,\\\\x22lcky\\\\x22:\\\\x22I\\\\\\\\u0026#39;m Feeling Lucky\\\\x22,\\\\x22lml\\\\x22:\\\\x22Learn more\\\\x22,\\\\x22psrc\\\\x22:\\\\x22This search was removed from your \\\\\\\\u003Ca href\\\\x3d\\\\\\\\\\\\x22/history\\\\\\\\\\\\x22\\\\\\\\u003EWeb History\\\\\\\\u003C/a\\\\\\\\u003E\\\\x22,\\\\x22psrl\\\\x22:\\\\x22Remove\\\\x22,\\\\x22sbit\\\\x22:\\\\x22Search by image\\\\x22,\\\\x22srch\\\\x22:\\\\x22Google Search\\\\x22},\\\\x22ovr\\\\x22:{},\\\\x22pq\\\\x22:\\\\x22\\\\x22,\\\\x22rfs\\\\x22:[],\\\\x22sbas\\\\x22:\\\\x220 3px 8px 0 rgba(0,0,0,0.2),0 0 0 1px rgba(0,0,0,0.08)\\\\x22,\\\\x22stok\\\\x22:\\\\x22KK6yWdhOX6m4o2xfxVgzyEtuFIc\\\\x22}}\\';google.pmc=JSON.parse(pmc);})();</script>        </body></html>'\n"
     ]
    }
   ],
   "source": [
    "# ------------------------\n",
    "# 9 FETCHING INTERNET DATA\n",
    "# ------------------------\n",
    "\n",
    "import urllib.request\n",
    "\n",
    "def main():\n",
    "\n",
    "    webUrl = urllib.request.urlopen(\"http://www.google.com\")\n",
    "    print (\"result code: \" + str(webUrl.getcode()))\n",
    "\n",
    "    data = webUrl.read()\n",
    "    print(data)\n",
    "\n",
    "if __name__ == \"__main__\":\n",
    "    main()\n"
   ]
  },
  {
   "cell_type": "code",
   "execution_count": 2,
   "id": "e0e2911d",
   "metadata": {},
   "outputs": [
    {
     "name": "stdout",
     "output_type": "stream",
     "text": [
      "result code: 200\n",
      "USGS All Earthquakes, Past Day\n",
      "219 events recorded\n",
      "44km ENE of Trona, CA\n",
      "14 km ESE of Pāhala, Hawaii\n",
      "4 km SSW of Pāhala, Hawaii\n",
      "7km ESE of Ferndale, CA\n",
      "15km N of Warner Springs, CA\n",
      "4km SW of Anderson Springs, CA\n",
      "24km ENE of Thermal, CA\n",
      "Kenai Peninsula, Alaska\n",
      "2km ENE of The Geysers, CA\n",
      "21km NW of Parkfield, CA\n",
      "11km SW of Searles Valley, CA\n",
      "3 km WSW of Fuig, Puerto Rico\n",
      "7km WNW of Cobb, CA\n",
      "3 km ENE of La Parguera, Puerto Rico\n",
      "9km WNW of Cobb, CA\n",
      "2 km S of Pāhala, Hawaii\n",
      "2km W of Anderson Springs, CA\n",
      "Central Alaska\n",
      "Cochabamba-Santa Cruz border region, Bolivia\n",
      "47 km SSE of Nelchina, Alaska\n",
      "3km N of The Geysers, CA\n",
      "4km W of Cobb, CA\n",
      "30 km ENE of Parcoy, Peru\n",
      "4km W of Cobb, CA\n",
      "4 km SSW of Pāhala, Hawaii\n",
      "4 km SE of Pāhala, Hawaii\n",
      "28km SSW of Ocotillo Wells, CA\n",
      "7km NW of The Geysers, CA\n",
      "2 km SSW of Pāhala, Hawaii\n",
      "7 km SW of Volcano, Hawaii\n",
      "6km S of The Geysers, CA\n",
      "7km NW of The Geysers, CA\n",
      "2 km NNW of Guayanilla, Puerto Rico\n",
      "8km SSW of Idyllwild, CA\n",
      "9km SW of Ferndale, CA\n",
      "Nevada\n",
      "21km SSW of Little Lake, CA\n",
      "10km SSW of Lucerne Valley, CA\n",
      "131 km N of Calama, Chile\n",
      "Pagan region, Northern Mariana Islands\n",
      "9km S of Lucerne Valley, CA\n",
      "Southern Yukon Territory, Canada\n",
      "Central Alaska\n",
      "10km ENE of Ocotillo Wells, CA\n",
      "19km ESE of Julian, CA\n",
      "15 km W of Susitna North, Alaska\n",
      "86 km NW of Karluk, Alaska\n",
      "6km NW of The Geysers, CA\n",
      "10km W of Ocotillo Wells, CA\n",
      "9 km SSE of Maria Antonia, Puerto Rico\n",
      "3 km S of Pāhala, Hawaii\n",
      "41 km W of Salamatof, Alaska\n",
      "12 km SSE of Volcano, Hawaii\n",
      "5km WNW of Cobb, CA\n",
      "57 km WNW of Ninilchik, Alaska\n",
      "Central Alaska\n",
      "47 km SSW of Chitina, Alaska\n",
      "18km N of Olancha, CA\n",
      "Island of Hawaii, Hawaii\n",
      "8km WNW of Cobb, CA\n",
      "9km WNW of Cobb, CA\n",
      "6km WNW of Cobb, CA\n",
      "8km WNW of Cobb, CA\n",
      "28 km SE of Denali National Park, Alaska\n",
      "18km ESE of Julian, CA\n",
      "18km ESE of Julian, CA\n",
      "8km W of Cobb, CA\n",
      "6 km SE of Maria Antonia, Puerto Rico\n",
      "39 km WNW of Valdez, Alaska\n",
      "6km WNW of Cobb, CA\n",
      "2km NNW of The Geysers, CA\n",
      "7 km SW of Volcano, Hawaii\n",
      "southern East Pacific Rise\n",
      "1 km ESE of Magas Arriba, Puerto Rico\n",
      "southern East Pacific Rise\n",
      "8 km SSE of Guánica, Puerto Rico\n",
      "22km W of Petrolia, CA\n",
      "12km SE of Bodfish, CA\n",
      "39 km NNW of Skwentna, Alaska\n",
      "10km SSW of Middletown, CA\n",
      "8km WNW of Cobb, CA\n",
      "8km WNW of Cobb, CA\n",
      "8km NNE of Cabazon, CA\n",
      "3km WNW of Banning, CA\n",
      "8km NNE of Cabazon, CA\n",
      "6km W of Cobb, CA\n",
      "7km NNE of Cabazon, CA\n",
      "6km NW of The Geysers, CA\n",
      "73 km SE of Hihifo, Tonga\n",
      "7 km SSE of Guánica, Puerto Rico\n",
      "2km WSW of Anderson Springs, CA\n",
      "9 km SSE of Guánica, Puerto Rico\n",
      "6 km WSW of Volcano, Hawaii\n",
      "2km NNE of The Geysers, CA\n",
      "2km WSW of Anderson Springs, CA\n",
      "Puerto Rico region\n",
      "3km NW of Yorba Linda, CA\n",
      "21km ESE of Anza, CA\n",
      "29 km WSW of Petersville, Alaska\n",
      "Island of Hawaii, Hawaii\n",
      "57 km W of Anchor Point, Alaska\n",
      "14km WSW of Searles Valley, CA\n",
      "10km NW of The Geysers, CA\n",
      "8km NW of The Geysers, CA\n",
      "3km ENE of The Geysers, CA\n",
      "10 km SSE of Pāhala, Hawaii\n",
      "12km NE of Pinnacles, CA\n",
      "6km WNW of Cobb, CA\n",
      "8km WSW of Idyllwild, CA\n",
      "22km ESE of Anza, CA\n",
      "Central Alaska\n",
      "9 km E of Pāhala, Hawaii\n",
      "Southern Alaska\n",
      "13km NW of The Geysers, CA\n",
      "113 km NNE of San Juan, Puerto Rico\n",
      "8km NW of The Geysers, CA\n",
      "20km NE of Pine Valley, CA\n",
      "43 km NE of Whittier, Alaska\n",
      "13 km ENE of Pāhala, Hawaii\n",
      "56 km ESE of Denali Park, Alaska\n",
      "8km NW of The Geysers, CA\n",
      "71 km ESE of Denali Park, Alaska\n",
      "5km NNW of The Geysers, CA\n",
      "8km NW of The Geysers, CA\n",
      "8km NW of The Geysers, CA\n",
      "27 km NNE of Four Mile Road, Alaska\n",
      "30 km SSW of Petersville, Alaska\n",
      "82 km NW of Yakutat, Alaska\n",
      "8 km WSW of Volcano, Hawaii\n",
      "2 km ENE of Pāhala, Hawaii\n",
      "90 km SE of Akutan, Alaska\n",
      "Island of Hawaii, Hawaii\n",
      "Kenai Peninsula, Alaska\n",
      "17km ESE of Julian, CA\n",
      "11 km SSE of Pāhala, Hawaii\n",
      "11km SW of Ferndale, CA\n",
      "6km NNW of The Geysers, CA\n",
      "7km E of Rio Dell, CA\n",
      "6km SW of Ferndale, CA\n",
      "78 km N of Karluk, Alaska\n",
      "Tonga\n",
      "28km WNW of Buttonwillow, CA\n",
      "21 km WNW of Salamatof, Alaska\n",
      "33km NW of Buttonwillow, CA\n",
      "18km ESE of Julian, CA\n",
      "3km SE of The Geysers, CA\n",
      "59 km WNW of Aleneva, Alaska\n",
      "9km WNW of Cobb, CA\n",
      "10km WNW of The Geysers, CA\n",
      "Southern Alaska\n",
      "Kuril Islands\n",
      "2km N of The Geysers, CA\n",
      "South Sandwich Islands region\n",
      "3km ENE of Round Valley, CA\n",
      "3 km SSW of Monte Grande, Puerto Rico\n",
      "4km WSW of Marina del Rey, CA\n",
      "9km SSW of Borrego Springs, CA\n",
      "west of Macquarie Island\n",
      "23 km NE of Point Possession, Alaska\n",
      "Alaska Peninsula\n",
      "13km SSE of Anza, CA\n",
      "21km NE of San Lucas, CA\n",
      "81 km E of Cantwell, Alaska\n",
      "111 km E of Chignik, Alaska\n",
      "11km SW of Salton City, CA\n",
      "Puerto Rico\n",
      "8km SW of Idyllwild, CA\n",
      "22km ESE of Little Lake, CA\n",
      "5 km SSW of Volcano, Hawaii\n",
      "274 km W of Abepura, Indonesia\n",
      "Azores Islands region\n",
      "15km NNE of Thousand Palms, CA\n",
      "2 km SSW of Pāhala, Hawaii\n",
      "4km SSE of Lytle Creek, CA\n",
      "10km WNW of The Geysers, CA\n",
      "14km NNE of Thousand Palms, CA\n",
      "160 km ESE of Chignik, Alaska\n",
      "5km ESE of Ferndale, CA\n",
      "8km NW of The Geysers, CA\n",
      "13km S of Ferndale, CA\n",
      "Near Islands, Aleutian Islands, Alaska\n",
      "7km NW of The Geysers, CA\n",
      "10km WNW of Cobb, CA\n",
      "3 km SW of Pāhala, Hawaii\n",
      "10 km WSW of Volcano, Hawaii\n",
      "11 km ESE of Pāhala, Hawaii\n",
      "8km W of Cobb, CA\n",
      "2 km SSW of Pāhala, Hawaii\n",
      "6km NW of The Geysers, CA\n",
      "3 km SE of Guánica, Puerto Rico\n",
      "32 km WSW of Anchor Point, Alaska\n",
      "7 km WSW of Volcano, Hawaii\n",
      "Andreanof Islands, Aleutian Islands, Alaska\n",
      "7km SW of Idyllwild, CA\n",
      "11km NNE of Cabazon, CA\n",
      "60 km W of Cantwell, Alaska\n",
      "32 km SW of Petersville, Alaska\n",
      "13km NW of The Geysers, CA\n",
      "89 km ESE of Arica, Chile\n",
      "Pagan region, Northern Mariana Islands\n",
      "26 km SSE of Chickaloon, Alaska\n",
      "6 km SW of Volcano, Hawaii\n",
      "11km NW of Delta, B.C., MX\n",
      "6km W of Cobb, CA\n",
      "4km SW of Delta, B.C., MX\n",
      "11km NW of Delta, B.C., MX\n",
      "7 km WSW of Volcano, Hawaii\n",
      "47 km NW of Ninilchik, Alaska\n",
      "6km WNW of Cobb, CA\n",
      "8km NW of The Geysers, CA\n",
      "31 km SSE of Fern Forest, Hawaii\n",
      "20 km ESE of Naalehu, Hawaii\n",
      "6 km SW of Volcano, Hawaii\n",
      "Island of Hawaii, Hawaii\n",
      "73 km NNE of Petersville, Alaska\n",
      "4km NW of The Geysers, CA\n",
      "13km NW of Progreso, B.C., MX\n",
      "15 km N of Meadow Lakes, Alaska\n",
      "14 km S of Funny River, Alaska\n",
      "------------------------\n",
      "\n",
      "4.1 Cochabamba-Santa Cruz border region, Bolivia\n",
      "4.6 30 km ENE of Parcoy, Peru\n",
      "4.2 131 km N of Calama, Chile\n",
      "4.8 Pagan region, Northern Mariana Islands\n",
      "5.1 southern East Pacific Rise\n",
      "5.4 southern East Pacific Rise\n",
      "4.9 73 km SE of Hihifo, Tonga\n",
      "4.3 113 km NNE of San Juan, Puerto Rico\n",
      "4.2 90 km SE of Akutan, Alaska\n",
      "4.6 Tonga\n",
      "5.1 Kuril Islands\n",
      "4.9 South Sandwich Islands region\n",
      "5.2 west of Macquarie Island\n",
      "4.2 274 km W of Abepura, Indonesia\n",
      "4.8 Azores Islands region\n",
      "4.8 Near Islands, Aleutian Islands, Alaska\n",
      "4.1 89 km ESE of Arica, Chile\n",
      "5.0 Pagan region, Northern Mariana Islands\n",
      "------------------------\n",
      "\n",
      "Events that were felt:\n",
      "3.3 22km W of Petrolia, CA  reported 8 times\n",
      "4.9 73 km SE of Hihifo, Tonga  reported 1 times\n",
      "1.3 2km WSW of Anderson Springs, CA  reported 2 times\n",
      "1.9 10 km SSE of Pāhala, Hawaii  reported 1 times\n",
      "4.3 113 km NNE of San Juan, Puerto Rico  reported 1 times\n",
      "0.7 20km NE of Pine Valley, CA  reported 1 times\n",
      "1.8 17km ESE of Julian, CA  reported 1 times\n",
      "2.5 11km SW of Ferndale, CA  reported 2 times\n",
      "2.1 3km ENE of Round Valley, CA  reported 1 times\n",
      "1.9 4km WSW of Marina del Rey, CA  reported 12 times\n",
      "2.1 2 km SSW of Pāhala, Hawaii  reported 1 times\n",
      "3.4 7 km WSW of Volcano, Hawaii  reported 15 times\n",
      "1.9 15 km N of Meadow Lakes, Alaska  reported 1 times\n",
      "------------------------\n",
      "\n"
     ]
    }
   ],
   "source": [
    "# -----------------------------\n",
    "# 9.1 RETRIEVING JSON DATA FEED\n",
    "# -----------------------------\n",
    "\n",
    "import urllib.request\n",
    "import json\n",
    "\n",
    "def printResults(data):\n",
    "\n",
    "    theJSON = json.loads(data)\n",
    "\n",
    "    # access contents of the data based on attribute names e.g. title via metadata section\n",
    "    if \"title\" in theJSON[\"metadata\"]:\n",
    "        print (theJSON[\"metadata\"][\"title\"])\n",
    "    \n",
    "    count = theJSON[\"metadata\"][\"count\"]\n",
    "    print (str(count) + \" events recorded\")\n",
    "\n",
    "    # print out the place where earthquakes occurred\n",
    "    for i in theJSON[\"features\"]:\n",
    "        print(i[\"properties\"][\"place\"])\n",
    "    print(\"------------------------\\n\")\n",
    "\n",
    "    # print data based on conditions\n",
    "    for i in theJSON[\"features\"]:\n",
    "        if i[\"properties\"][\"mag\"] >= 4.0:\n",
    "            print (\"%2.1f\" % i[\"properties\"][\"mag\"], i[\"properties\"][\"place\"])\n",
    "    print(\"------------------------\\n\")\n",
    "\n",
    "    print (\"Events that were felt:\")\n",
    "    for i in theJSON[\"features\"]:\n",
    "        feltReports = i[\"properties\"][\"felt\"]\n",
    "        if feltReports != None:\n",
    "            if feltReports > 0:\n",
    "                print (\"%2.1f\" % i[\"properties\"][\"mag\"], i[\"properties\"][\"place\"], \" reported \" + str(feltReports) + \" times\")\n",
    "    print(\"------------------------\\n\")\n",
    "\n",
    "def main():\n",
    "    urlData = \"https://earthquake.usgs.gov/earthquakes/feed/v1.0/summary/all_day.geojson\"\n",
    "\n",
    "    webUrl = urllib.request.urlopen(urlData)\n",
    "    print (\"result code: \" + str(webUrl.getcode()))\n",
    "\n",
    "    if (webUrl.getcode() == 200):\n",
    "        data = webUrl.read()\n",
    "        printResults(data)\n",
    "    else:\n",
    "        print(\"Received error, cannot parse results\")\n",
    "\n",
    "if __name__ == \"__main__\":\n",
    "    main()\n"
   ]
  },
  {
   "cell_type": "code",
   "execution_count": 3,
   "id": "3b8bbb1a",
   "metadata": {},
   "outputs": [
    {
     "ename": "FileNotFoundError",
     "evalue": "[Errno 2] No such file or directory: 'test.html'",
     "output_type": "error",
     "traceback": [
      "\u001b[1;31m---------------------------------------------------------------------------\u001b[0m",
      "\u001b[1;31mFileNotFoundError\u001b[0m                         Traceback (most recent call last)",
      "Cell \u001b[1;32mIn[3], line 48\u001b[0m\n\u001b[0;32m     45\u001b[0m         parser\u001b[38;5;241m.\u001b[39mfeed(contents)\n\u001b[0;32m     47\u001b[0m \u001b[38;5;28;01mif\u001b[39;00m \u001b[38;5;18m__name__\u001b[39m \u001b[38;5;241m==\u001b[39m \u001b[38;5;124m\"\u001b[39m\u001b[38;5;124m__main__\u001b[39m\u001b[38;5;124m\"\u001b[39m:\n\u001b[1;32m---> 48\u001b[0m     \u001b[43mmain\u001b[49m\u001b[43m(\u001b[49m\u001b[43m)\u001b[49m\n",
      "Cell \u001b[1;32mIn[3], line 42\u001b[0m, in \u001b[0;36mmain\u001b[1;34m()\u001b[0m\n\u001b[0;32m     40\u001b[0m \u001b[38;5;28;01mdef\u001b[39;00m \u001b[38;5;21mmain\u001b[39m():\n\u001b[0;32m     41\u001b[0m     parser \u001b[38;5;241m=\u001b[39m MyHTMLParser()\n\u001b[1;32m---> 42\u001b[0m     f \u001b[38;5;241m=\u001b[39m \u001b[38;5;28;43mopen\u001b[39;49m\u001b[43m(\u001b[49m\u001b[38;5;124;43m\"\u001b[39;49m\u001b[38;5;124;43mtest.html\u001b[39;49m\u001b[38;5;124;43m\"\u001b[39;49m\u001b[43m)\u001b[49m\n\u001b[0;32m     43\u001b[0m     \u001b[38;5;28;01mif\u001b[39;00m f\u001b[38;5;241m.\u001b[39mmode \u001b[38;5;241m==\u001b[39m \u001b[38;5;124m'\u001b[39m\u001b[38;5;124mr\u001b[39m\u001b[38;5;124m'\u001b[39m:\n\u001b[0;32m     44\u001b[0m         contents \u001b[38;5;241m=\u001b[39m f\u001b[38;5;241m.\u001b[39mread()\n",
      "File \u001b[1;32mC:\\Program Files\\Python311\\Lib\\site-packages\\IPython\\core\\interactiveshell.py:282\u001b[0m, in \u001b[0;36m_modified_open\u001b[1;34m(file, *args, **kwargs)\u001b[0m\n\u001b[0;32m    275\u001b[0m \u001b[38;5;28;01mif\u001b[39;00m file \u001b[38;5;129;01min\u001b[39;00m {\u001b[38;5;241m0\u001b[39m, \u001b[38;5;241m1\u001b[39m, \u001b[38;5;241m2\u001b[39m}:\n\u001b[0;32m    276\u001b[0m     \u001b[38;5;28;01mraise\u001b[39;00m \u001b[38;5;167;01mValueError\u001b[39;00m(\n\u001b[0;32m    277\u001b[0m         \u001b[38;5;124mf\u001b[39m\u001b[38;5;124m\"\u001b[39m\u001b[38;5;124mIPython won\u001b[39m\u001b[38;5;124m'\u001b[39m\u001b[38;5;124mt let you open fd=\u001b[39m\u001b[38;5;132;01m{\u001b[39;00mfile\u001b[38;5;132;01m}\u001b[39;00m\u001b[38;5;124m by default \u001b[39m\u001b[38;5;124m\"\u001b[39m\n\u001b[0;32m    278\u001b[0m         \u001b[38;5;124m\"\u001b[39m\u001b[38;5;124mas it is likely to crash IPython. If you know what you are doing, \u001b[39m\u001b[38;5;124m\"\u001b[39m\n\u001b[0;32m    279\u001b[0m         \u001b[38;5;124m\"\u001b[39m\u001b[38;5;124myou can use builtins\u001b[39m\u001b[38;5;124m'\u001b[39m\u001b[38;5;124m open.\u001b[39m\u001b[38;5;124m\"\u001b[39m\n\u001b[0;32m    280\u001b[0m     )\n\u001b[1;32m--> 282\u001b[0m \u001b[38;5;28;01mreturn\u001b[39;00m \u001b[43mio_open\u001b[49m\u001b[43m(\u001b[49m\u001b[43mfile\u001b[49m\u001b[43m,\u001b[49m\u001b[43m \u001b[49m\u001b[38;5;241;43m*\u001b[39;49m\u001b[43margs\u001b[49m\u001b[43m,\u001b[49m\u001b[43m \u001b[49m\u001b[38;5;241;43m*\u001b[39;49m\u001b[38;5;241;43m*\u001b[39;49m\u001b[43mkwargs\u001b[49m\u001b[43m)\u001b[49m\n",
      "\u001b[1;31mFileNotFoundError\u001b[0m: [Errno 2] No such file or directory: 'test.html'"
     ]
    }
   ],
   "source": [
    "# --------------\n",
    "# 9.2 PARSE HTML\n",
    "# --------------\n",
    "\n",
    "from html.parser import HTMLParser\n",
    "\n",
    "metacount = 0;\n",
    "\n",
    "class MyHTMLParser(HTMLParser):\n",
    "    def handle_comment(self, data):\n",
    "        print(\"Encountered comment: \", data)\n",
    "        pos = self.getpos()\n",
    "        print (\"\\tAt line: \", pos[0], \" position \", pos[1])\n",
    "\n",
    "    def handle_starttag(self, tag, attrs):\n",
    "        global metacount\n",
    "        if tag == 'meta':\n",
    "            metacount += 1\n",
    "        print(\"Encountered tag: \", tag)\n",
    "        pos = self.getpos()\n",
    "        print (\"\\tAt line: \", pos[0], \" position \", pos[1])\n",
    "\n",
    "        if attrs.__len__() > 0:\n",
    "            print(\"\\tAttributes:\")\n",
    "            for a in attrs:\n",
    "                print(\"\\t\", a[0], \"=\", a[1])\n",
    "\n",
    "    def handle_endtag(self, tag):\n",
    "        print(\"Encountered tag: \", tag)\n",
    "        pos = self.getpos()\n",
    "        print (\"\\tAt line: \", pos[0], \" position \", pos[1])\n",
    "\n",
    "    def handle_data(self, data):\n",
    "        if (data.isspace()):\n",
    "            return\n",
    "        print(\"Encountered data: \", data)\n",
    "        pos = self.getpos()\n",
    "        print (\"\\tAt line: \", pos[0], \" position \", pos[1])\n",
    "\n",
    "def main():\n",
    "    parser = MyHTMLParser()\n",
    "    f = open(\"test.html\")\n",
    "    if f.mode == 'r':\n",
    "        contents = f.read()\n",
    "        parser.feed(contents)\n",
    "\n",
    "if __name__ == \"__main__\":\n",
    "    main()\n",
    "\n"
   ]
  },
  {
   "cell_type": "code",
   "execution_count": 4,
   "id": "9eef9eb8",
   "metadata": {},
   "outputs": [
    {
     "ename": "FileNotFoundError",
     "evalue": "[Errno 2] No such file or directory: 'samplexml.xml'",
     "output_type": "error",
     "traceback": [
      "\u001b[1;31m---------------------------------------------------------------------------\u001b[0m",
      "\u001b[1;31mFileNotFoundError\u001b[0m                         Traceback (most recent call last)",
      "Cell \u001b[1;32mIn[4], line 32\u001b[0m\n\u001b[0;32m     29\u001b[0m         \u001b[38;5;28mprint\u001b[39m(skill\u001b[38;5;241m.\u001b[39mgetAttribute(\u001b[38;5;124m\"\u001b[39m\u001b[38;5;124mname\u001b[39m\u001b[38;5;124m\"\u001b[39m))\n\u001b[0;32m     31\u001b[0m \u001b[38;5;28;01mif\u001b[39;00m \u001b[38;5;18m__name__\u001b[39m \u001b[38;5;241m==\u001b[39m \u001b[38;5;124m\"\u001b[39m\u001b[38;5;124m__main__\u001b[39m\u001b[38;5;124m\"\u001b[39m:\n\u001b[1;32m---> 32\u001b[0m     \u001b[43mmain\u001b[49m\u001b[43m(\u001b[49m\u001b[43m)\u001b[49m\n",
      "Cell \u001b[1;32mIn[4], line 8\u001b[0m, in \u001b[0;36mmain\u001b[1;34m()\u001b[0m\n\u001b[0;32m      7\u001b[0m \u001b[38;5;28;01mdef\u001b[39;00m \u001b[38;5;21mmain\u001b[39m():\n\u001b[1;32m----> 8\u001b[0m     doc \u001b[38;5;241m=\u001b[39m \u001b[43mxml\u001b[49m\u001b[38;5;241;43m.\u001b[39;49m\u001b[43mdom\u001b[49m\u001b[38;5;241;43m.\u001b[39;49m\u001b[43mminidom\u001b[49m\u001b[38;5;241;43m.\u001b[39;49m\u001b[43mparse\u001b[49m\u001b[43m(\u001b[49m\u001b[38;5;124;43m\"\u001b[39;49m\u001b[38;5;124;43msamplexml.xml\u001b[39;49m\u001b[38;5;124;43m\"\u001b[39;49m\u001b[43m)\u001b[49m\n\u001b[0;32m     10\u001b[0m     \u001b[38;5;66;03m# print the node and the name of the first child tag\u001b[39;00m\n\u001b[0;32m     11\u001b[0m     \u001b[38;5;28mprint\u001b[39m(doc\u001b[38;5;241m.\u001b[39mnodeName)\n",
      "File \u001b[1;32mC:\\Program Files\\Python311\\Lib\\xml\\dom\\minidom.py:1990\u001b[0m, in \u001b[0;36mparse\u001b[1;34m(file, parser, bufsize)\u001b[0m\n\u001b[0;32m   1988\u001b[0m \u001b[38;5;28;01mif\u001b[39;00m parser \u001b[38;5;129;01mis\u001b[39;00m \u001b[38;5;28;01mNone\u001b[39;00m \u001b[38;5;129;01mand\u001b[39;00m \u001b[38;5;129;01mnot\u001b[39;00m bufsize:\n\u001b[0;32m   1989\u001b[0m     \u001b[38;5;28;01mfrom\u001b[39;00m \u001b[38;5;21;01mxml\u001b[39;00m\u001b[38;5;21;01m.\u001b[39;00m\u001b[38;5;21;01mdom\u001b[39;00m \u001b[38;5;28;01mimport\u001b[39;00m expatbuilder\n\u001b[1;32m-> 1990\u001b[0m     \u001b[38;5;28;01mreturn\u001b[39;00m \u001b[43mexpatbuilder\u001b[49m\u001b[38;5;241;43m.\u001b[39;49m\u001b[43mparse\u001b[49m\u001b[43m(\u001b[49m\u001b[43mfile\u001b[49m\u001b[43m)\u001b[49m\n\u001b[0;32m   1991\u001b[0m \u001b[38;5;28;01melse\u001b[39;00m:\n\u001b[0;32m   1992\u001b[0m     \u001b[38;5;28;01mfrom\u001b[39;00m \u001b[38;5;21;01mxml\u001b[39;00m\u001b[38;5;21;01m.\u001b[39;00m\u001b[38;5;21;01mdom\u001b[39;00m \u001b[38;5;28;01mimport\u001b[39;00m pulldom\n",
      "File \u001b[1;32mC:\\Program Files\\Python311\\Lib\\xml\\dom\\expatbuilder.py:910\u001b[0m, in \u001b[0;36mparse\u001b[1;34m(file, namespaces)\u001b[0m\n\u001b[0;32m    907\u001b[0m     builder \u001b[38;5;241m=\u001b[39m ExpatBuilder()\n\u001b[0;32m    909\u001b[0m \u001b[38;5;28;01mif\u001b[39;00m \u001b[38;5;28misinstance\u001b[39m(file, \u001b[38;5;28mstr\u001b[39m):\n\u001b[1;32m--> 910\u001b[0m     \u001b[38;5;28;01mwith\u001b[39;00m \u001b[38;5;28;43mopen\u001b[39;49m\u001b[43m(\u001b[49m\u001b[43mfile\u001b[49m\u001b[43m,\u001b[49m\u001b[43m \u001b[49m\u001b[38;5;124;43m'\u001b[39;49m\u001b[38;5;124;43mrb\u001b[39;49m\u001b[38;5;124;43m'\u001b[39;49m\u001b[43m)\u001b[49m \u001b[38;5;28;01mas\u001b[39;00m fp:\n\u001b[0;32m    911\u001b[0m         result \u001b[38;5;241m=\u001b[39m builder\u001b[38;5;241m.\u001b[39mparseFile(fp)\n\u001b[0;32m    912\u001b[0m \u001b[38;5;28;01melse\u001b[39;00m:\n",
      "\u001b[1;31mFileNotFoundError\u001b[0m: [Errno 2] No such file or directory: 'samplexml.xml'"
     ]
    }
   ],
   "source": [
    "# -----------------------\n",
    "# 9.3 MANIPULATE XML FILE\n",
    "# -----------------------\n",
    "\n",
    "import xml.dom.minidom\n",
    "\n",
    "def main():\n",
    "    doc = xml.dom.minidom.parse(\"samplexml.xml\")\n",
    "\n",
    "    # print the node and the name of the first child tag\n",
    "    print(doc.nodeName)\n",
    "    print(doc.firstChild.tagName)\n",
    "\n",
    "    # get list of XML tags from the document and print each one\n",
    "    skills = doc.getElementsByTagName(\"skill\")\n",
    "    print(\"%d skills: \" % skills.length)\n",
    "    for skill in skills:\n",
    "        print(skill.getAttribute(\"name\"))\n",
    "\n",
    "    # create a new XML tag then add it to the document\n",
    "    newSkill = doc.createElement(\"skill\")\n",
    "    newSkill.setAttribute(\"name\", \"jQuery\")\n",
    "    doc.firstChild.appendChild(newSkill)\n",
    "\n",
    "    # copied from above to compare before and after changes\n",
    "    skills = doc.getElementsByTagName(\"skill\")\n",
    "    print(\"%d skills: \" % skills.length)\n",
    "    for skill in skills:\n",
    "        print(skill.getAttribute(\"name\"))\n",
    "\n",
    "if __name__ == \"__main__\":\n",
    "    main()\n"
   ]
  },
  {
   "cell_type": "code",
   "execution_count": null,
   "id": "207edc19",
   "metadata": {},
   "outputs": [],
   "source": []
  }
 ],
 "metadata": {
  "kernelspec": {
   "display_name": "Python 3 (ipykernel)",
   "language": "python",
   "name": "python3"
  },
  "language_info": {
   "codemirror_mode": {
    "name": "ipython",
    "version": 3
   },
   "file_extension": ".py",
   "mimetype": "text/x-python",
   "name": "python",
   "nbconvert_exporter": "python",
   "pygments_lexer": "ipython3",
   "version": "3.11.0"
  }
 },
 "nbformat": 4,
 "nbformat_minor": 5
}
